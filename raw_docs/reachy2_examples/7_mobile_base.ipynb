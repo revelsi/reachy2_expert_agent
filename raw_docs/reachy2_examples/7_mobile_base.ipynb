{
 "cells": [
  {
   "cell_type": "markdown",
   "id": "0",
   "metadata": {},
   "source": [
    "# The mobile base"
   ]
  },
  {
   "cell_type": "markdown",
   "id": "1",
   "metadata": {},
   "source": [
    "Reachy 2 is mounted on a mobile base!"
   ]
  },
  {
   "cell_type": "markdown",
   "id": "2",
   "metadata": {},
   "source": [
    "## Initialize your robot\n",
    "\n",
    "First connect to your robot:"
   ]
  },
  {
   "cell_type": "code",
   "execution_count": null,
   "id": "3",
   "metadata": {},
   "outputs": [],
   "source": [
    "from reachy2_sdk import ReachySDK\n",
    "\n",
    "reachy = ReachySDK(host='localhost')  # Replace with the actual IP"
   ]
  },
  {
   "cell_type": "markdown",
   "id": "4",
   "metadata": {},
   "source": [
    "Let's check what contains the mobile base part:"
   ]
  },
  {
   "cell_type": "code",
   "execution_count": null,
   "id": "5",
   "metadata": {},
   "outputs": [],
   "source": [
    "reachy.mobile_base"
   ]
  },
  {
   "cell_type": "markdown",
   "id": "6",
   "metadata": {},
   "source": [
    "## Move around"
   ]
  },
  {
   "cell_type": "markdown",
   "id": "7",
   "metadata": {},
   "source": [
    "Three modes are possible to control the mobile base:\n",
    "- **goto** : move the mobile base to a target point in space -> use a *goto function* to get in this mode\n",
    "- **free wheel**: unlock the wheel so Reachy can be manually moved around easily -> *turn_off() method* will set this mode\n",
    "- **brake**: stop the movement and lock the wheels -> *turn_on() method* will set this mode"
   ]
  },
  {
   "cell_type": "markdown",
   "id": "8",
   "metadata": {},
   "source": [
    "### Goto and odometry\n",
    "\n",
    "The goto function is used to place the mobile_base at a relative position and orientation to its odometry, set when the robot is switched on. To be sure, you can reset the odometry before calling the function. "
   ]
  },
  {
   "cell_type": "code",
   "execution_count": null,
   "id": "9",
   "metadata": {},
   "outputs": [],
   "source": [
    "reachy.mobile_base.turn_on()\n",
    "\n",
    "reachy.mobile_base.reset_odometry()\n",
    "\n",
    "# Move 20 cm forward\n",
    "reachy.mobile_base.goto(x=0.2, y=0.0, theta=0.0)"
   ]
  },
  {
   "cell_type": "code",
   "execution_count": null,
   "id": "c38af9b8",
   "metadata": {},
   "outputs": [],
   "source": [
    "reachy.mobile_base.goto(x=0.2, y=0.0, theta=0)\n"
   ]
  },
  {
   "cell_type": "markdown",
   "id": "a45b5c1d",
   "metadata": {},
   "source": [
    "If you want to move forward again the robot, you need to increase the x value."
   ]
  },
  {
   "cell_type": "code",
   "execution_count": null,
   "id": "d9d9a743",
   "metadata": {},
   "outputs": [],
   "source": [
    "import time\n",
    "\n",
    "reachy.mobile_base.goto(x=0.2, y=0.0, theta=0.0) #that won't do anything as the robot is already there\n",
    "time.sleep(2)\n",
    "\n",
    "# Move again 20cm forward\n",
    "reachy.mobile_base.goto(x=0.4, y=0.0, theta=0.0)"
   ]
  },
  {
   "cell_type": "markdown",
   "id": "62686da7",
   "metadata": {},
   "source": [
    "That's the same for the rotation. You can go back to the initial position than rotate the mobile base. "
   ]
  },
  {
   "cell_type": "code",
   "execution_count": null,
   "id": "7f04c56e",
   "metadata": {},
   "outputs": [],
   "source": [
    "# Go back to the initial position\n",
    "reachy.mobile_base.goto(x=0.0, y=0.0, theta=0.0)\n",
    "\n",
    "time.sleep(2)\n",
    "\n",
    "# Rotation to be at 90 degrees in the frame\n",
    "reachy.mobile_base.goto(x=0.0, y=0.0, theta=90.0)"
   ]
  },
  {
   "cell_type": "markdown",
   "id": "10",
   "metadata": {},
   "source": [
    "> Be careful, goto is not a *Goto* method as for the arms. It's a blocking function, meaning that the move needs to be finished before the rest of the code starts to execute. So, the goto id will return once the movement is done, or the timeout expired. If you need to run this function in parallel to other processing, please check the `goto_async`"
   ]
  },
  {
   "cell_type": "code",
   "execution_count": null,
   "id": "11",
   "metadata": {},
   "outputs": [],
   "source": [
    "# Go back to 0 degree in the frame\n",
    "reachy.mobile_base.goto(x=0.0, y=0.0, theta=0.0)"
   ]
  },
  {
   "cell_type": "code",
   "execution_count": null,
   "id": "12",
   "metadata": {},
   "outputs": [],
   "source": [
    "# Rotation to be at 90 degrees in the frame\n",
    "reachy.mobile_base.goto(x=0.0, y=0.0, theta=90.0)\n",
    "\n",
    "# Reset odometry\n",
    "reachy.mobile_base.reset_odometry()\n",
    "# Go back to 0 degree in the frame : it won't move because the frame has changed\n",
    "reachy.mobile_base.goto(x=0.0, y=0.0, theta=0.0)\n"
   ]
  },
  {
   "cell_type": "code",
   "execution_count": null,
   "id": "13",
   "metadata": {},
   "outputs": [],
   "source": [
    "# Rotation to be at -90 degrees in the new frame\n",
    "reachy.mobile_base.goto(x=0.0, y=0.0, theta=-90.0)"
   ]
  },
  {
   "cell_type": "markdown",
   "id": "9c16bbed",
   "metadata": {},
   "source": [
    "#### Rotate_by / Translate_by\n",
    "\n",
    "You can also decide to assign movements to the robot based on its current position and not on its odometry. "
   ]
  },
  {
   "cell_type": "code",
   "execution_count": null,
   "id": "096afcae",
   "metadata": {},
   "outputs": [],
   "source": [
    "reachy.mobile_base.get_current_odometry()\n",
    "reachy.mobile_base.translate_by(x = 0.2, y = 0.0)"
   ]
  },
  {
   "cell_type": "markdown",
   "id": "df8caec0",
   "metadata": {},
   "source": [
    "You can do it again, to move the robot by 0.2m in the x direction."
   ]
  },
  {
   "cell_type": "code",
   "execution_count": null,
   "id": "a9bd95f5",
   "metadata": {},
   "outputs": [],
   "source": [
    "reachy.mobile_base.translate_by(x = 0.2, y = 0.0)"
   ]
  },
  {
   "cell_type": "markdown",
   "id": "5c56e122",
   "metadata": {},
   "source": [
    "Now, the mobile base can be rotated 90° from its current position, allowing to get a odometry with a theta = 0°. "
   ]
  },
  {
   "cell_type": "code",
   "execution_count": null,
   "id": "84e18a9f",
   "metadata": {},
   "outputs": [],
   "source": [
    "reachy.mobile_base.rotate_by(theta = 90.0)\n",
    "reachy.mobile_base.get_current_odometry()"
   ]
  },
  {
   "cell_type": "markdown",
   "id": "14",
   "metadata": {},
   "source": [
    "The speed of the movement can be defined using this command : *this will assign speed to the robot for 200ms*"
   ]
  },
  {
   "cell_type": "code",
   "execution_count": null,
   "id": "15",
   "metadata": {},
   "outputs": [],
   "source": [
    "reachy.mobile_base.set_goal_speed(x=1.0, y=1.0, theta=2)\n",
    "reachy.mobile_base.send_speed_command()"
   ]
  },
  {
   "cell_type": "markdown",
   "id": "16",
   "metadata": {},
   "source": [
    "### Free wheel"
   ]
  },
  {
   "cell_type": "code",
   "execution_count": null,
   "id": "17",
   "metadata": {},
   "outputs": [],
   "source": [
    "reachy.mobile_base.turn_off()"
   ]
  }
 ],
 "metadata": {
  "kernelspec": {
   "display_name": "sdkv2",
   "language": "python",
   "name": "python3"
  },
  "language_info": {
   "codemirror_mode": {
    "name": "ipython",
    "version": 3
   },
   "file_extension": ".py",
   "mimetype": "text/x-python",
   "name": "python",
   "nbconvert_exporter": "python",
   "pygments_lexer": "ipython3",
   "version": "3.10.15"
  }
 },
 "nbformat": 4,
 "nbformat_minor": 5
}
