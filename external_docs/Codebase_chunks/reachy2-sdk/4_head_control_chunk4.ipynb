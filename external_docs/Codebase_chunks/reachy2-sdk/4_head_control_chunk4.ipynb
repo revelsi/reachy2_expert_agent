"execution_count": null,
   "id": "13",
   "metadata": {},
   "outputs": [],
   "source": [
    "reachy.head.look_at(x=0.5, y=0, z=0.2, duration=1.0, wait = True)"
   ]
  },
  {
   "attachments": {},
   "cell_type": "markdown",
   "id": "14",
   "metadata": {},
   "source": [
    "You can use multiple *look_at* to chain head movements, or even chain them with the `goto()` function described below. As seen in the goto tutorial, the commands on the head will be stacked.\n",
    "For example:"
   ]
  },
  {
   "cell_type": "code",
   "execution_count": null,
   "id": "15",
   "metadata": {},
   "outputs": [],
   "source": [
    "import time\n",
    "\n",
    "look_right = reachy.head.look_at(x=0.5, y=-0.3, z=0.1, duration=1.0)\n",
    "look_down = reachy.head.look_at(x=0.5, y=0, z=-0.4, duration=1.0)\n",
    "look_left = reachy.head.look_at(x=0.5, y=0.3, z=-0.1, duration=1.0)\n",
    "look_front = reachy.head.look_at(x=0.5, y=0, z=0, duration=1.0)"
   ]
  },
  {
   "attachments": {},
   "cell_type": "markdown",
   "id": "16",
   "metadata": {},
   "source": [
    "The best way to understand how to use the *look_at* is to play with it. Picture a position you would like Reachy's head to be in, guess a point which could match for the *look_at* and check if you got it right!"
   ]
  },
  {
   "attachments": {},
   "cell_type": "markdown",
   "id": "17",
   "metadata": {},
   "source": [
    "### goto()\n",
    "\n",