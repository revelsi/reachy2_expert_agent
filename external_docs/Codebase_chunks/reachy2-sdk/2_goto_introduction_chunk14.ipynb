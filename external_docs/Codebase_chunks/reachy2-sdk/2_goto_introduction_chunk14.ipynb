]
  },
  {
   "attachments": {},
   "cell_type": "markdown",
   "id": "45",
   "metadata": {},
   "source": [
    "Retrieve the joint requests of a goto command from its ID:"
   ]
  },
  {
   "cell_type": "code",
   "execution_count": null,
   "id": "46",
   "metadata": {},
   "outputs": [],
   "source": [
    "reachy.get_goto_joints_request(goto_1)"
   ]
  },
  {
   "cell_type": "markdown",
   "id": "47",
   "metadata": {},
   "source": [
    "You get information on the part involved, the target joint values, the duration of the movement, and the interpolation mode. "
   ]
  },
  {
   "attachments": {},
   "cell_type": "markdown",
   "id": "51",
   "metadata": {},
   "source": [
    "### Part execution state"
   ]
  },
  {
   "attachments": {},
   "cell_type": "markdown",
   "id": "52",
   "metadata": {},
   "source": [
    "As the sequence can become complex, you can get information for each part on its current status, to know which movement is being played and know which others are waiting to be played.  \n",
    "For each part, the following methods are available:\n",
    "- **`get_goto_playing()`**: will return the id of the currently played goto on the part\n",
    "- **`get_goto_queue()`**: will return the ids of all stacked goto commands waiting to be played on the part\n",
    "\n",
    "Those methods are called at the part level, to get info on the state of the part.  \n",
    "\n",
    "Let's take an example. "
   ]
  },
  {
   "cell_type": "code",