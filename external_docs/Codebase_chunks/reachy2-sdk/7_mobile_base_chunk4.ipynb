"\n",
    "time.sleep(2)\n",
    "\n",
    "# Rotation to be at 90 degrees in the frame\n",
    "reachy.mobile_base.goto(x=0.0, y=0.0, theta=90.0)"
   ]
  },
  {
   "cell_type": "markdown",
   "id": "10",
   "metadata": {},
   "source": [
    "> Be careful, goto is not a *Goto* method as for the arms. It's a blocking function, meaning that the move needs to be finished before the rest of the code starts to execute. So, the goto id will return once the movement is done, or the timeout expired. If you need to run this function in parallel to other processing, please check the `goto_async`"
   ]
  },
  {
   "cell_type": "code",
   "execution_count": null,
   "id": "11",
   "metadata": {},
   "outputs": [],
   "source": [
    "# Go back to 0 degree in the frame\n",
    "reachy.mobile_base.goto(x=0.0, y=0.0, theta=0.0)"
   ]
  },
  {
   "cell_type": "code",
   "execution_count": null,
   "id": "12",
   "metadata": {},
   "outputs": [],
   "source": [
    "# Rotation to be at 90 degrees in the frame\n",
    "reachy.mobile_base.goto(x=0.0, y=0.0, theta=90.0)\n",
    "\n",
    "# Reset odometry\n",
    "reachy.mobile_base.reset_odometry()\n",
    "# Go back to 0 degree in the frame : it won't move because the frame has changed\n",
    "reachy.mobile_base.goto(x=0.0, y=0.0, theta=0.0)\n"
   ]
  },
  {
   "cell_type": "code",
   "execution_count": null,
   "id": "13",
   "metadata": {},
   "outputs": [],
   "source": [
    "# Rotation to be at -90 degrees in the new frame\n",