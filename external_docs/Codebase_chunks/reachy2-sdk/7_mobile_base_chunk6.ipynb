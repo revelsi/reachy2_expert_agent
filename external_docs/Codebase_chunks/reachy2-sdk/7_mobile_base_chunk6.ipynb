"id": "5c56e122",
   "metadata": {},
   "source": [
    "Now, the mobile base can be rotated 90° from its current position, allowing to get a odometry with a theta = 0°. "
   ]
  },
  {
   "cell_type": "code",
   "execution_count": null,
   "id": "84e18a9f",
   "metadata": {},
   "outputs": [],
   "source": [
    "reachy.mobile_base.rotate_by(theta = 90.0)\n",
    "reachy.mobile_base.get_current_odometry()"
   ]
  },
  {
   "cell_type": "markdown",
   "id": "14",
   "metadata": {},
   "source": [
    "The speed of the movement can be defined using this command : *this will assign speed to the robot for 200ms*"
   ]
  },
  {
   "cell_type": "code",
   "execution_count": null,
   "id": "15",
   "metadata": {},
   "outputs": [],
   "source": [
    "reachy.mobile_base.set_goal_speed(x=1.0, y=1.0, theta=2)\n",
    "reachy.mobile_base.send_speed_command()"
   ]
  },
  {
   "cell_type": "markdown",
   "id": "16",
   "metadata": {},
   "source": [
    "### Free wheel"
   ]
  },
  {
   "cell_type": "code",
   "execution_count": null,
   "id": "17",
   "metadata": {},
   "outputs": [],
   "source": [
    "reachy.mobile_base.turn_off()"
   ]
  }
 ],
 "metadata": {
  "kernelspec": {
   "display_name": "sdkv2",
   "language": "python",
   "name": "python3"
  },
  "language_info": {
   "codemirror_mode": {
    "name": "ipython",
    "version": 3
   },
   "file_extension": ".py",
   "mimetype": "text/x-python",
   "name": "python",
   "nbconvert_exporter": "python",