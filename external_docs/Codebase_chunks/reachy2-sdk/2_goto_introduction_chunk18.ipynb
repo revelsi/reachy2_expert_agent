"\n",
    "# Cancel all gotos\n",
    "reachy.cancel_all_goto()\n",
    "\n",
    "print(f\"Length of l_arm goto queue : {len(reachy.l_arm.get_goto_queue())}\")"
   ]
  },
  {
   "attachments": {},
   "cell_type": "markdown",
   "id": "67",
   "metadata": {},
   "source": [
    "All movements are cancelled, even the movement stacked in the left arm queue which will never be played.  "
   ]
  },
  {
   "attachments": {},
   "cell_type": "markdown",
   "id": "68",
   "metadata": {},
   "source": [
    "#### All gotos for one part"
   ]
  },
  {
   "attachments": {},
   "cell_type": "markdown",
   "id": "69",
   "metadata": {},
   "source": [
    "If you only want to cancel movement on the left arm:"
   ]
  },
  {
   "cell_type": "code",
   "execution_count": null,
   "id": "70",
   "metadata": {},
   "outputs": [],
   "source": [
    "reachy.goto_posture('default', wait = True)\n",
    "\n",
    "# Send a sequence of gotos\n",
    "reachy.head.goto([20, 30, -10], duration=3)\n",
    "reachy.l_arm.goto([0, 0, 0, -90, 0, 0, 0], duration = 3)\n",
    "reachy.l_arm.goto([0, 0, 0, 0, 0, 0, 0], duration = 2)\n",
    "\n",
    "time.sleep(1)\n",
    "\n",
    "# Cancel gotos on left arm only\n",
    "reachy.l_arm.cancel_all_goto()"
   ]
  },
  {
   "attachments": {},
   "cell_type": "markdown",
   "id": "71",
   "metadata": {},
   "source": [
    "The movement on the head will continue, but all the movements of the left will be stopped and the left arm queue cleaned."
   ]
  },