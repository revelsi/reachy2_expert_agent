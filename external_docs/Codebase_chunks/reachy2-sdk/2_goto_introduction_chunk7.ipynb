"\n",
    "Two interpolation modes are available when sending a goto command:\n",
    "- the **linear** interpolation mode\n",
    "- the **minimum-jerk** interpolation mode\n",
    "\n",
    "Both trajectories start and finish at the same point but don't follow the same intermediate positions. The minimum jerk will slowly accelerate at the begining and slowly decelerate at the end. This makes the movements more natural.\n",
    "\n",
    "You can specify the interpolation mode by setting the **`interpolation_mode`** argument when calling the method:"
   ]
  },
  {
   "cell_type": "code",
   "execution_count": null,
   "id": "22",
   "metadata": {},
   "outputs": [],
   "source": [
    "reachy.goto_posture('default', wait = True)\n",
    "reachy.head.goto([20, 20, -10], interpolation_mode='linear')\n",
    "reachy.l_arm.goto([0, -10, 10, -90, 0, 0, 0], interpolation_mode='linear')"
   ]
  },
  {
   "cell_type": "markdown",
   "id": "23",
   "metadata": {},
   "source": [
    "> Default interpolation mode is **minimum_jerk**."
   ]
  },
  {
   "cell_type": "code",
   "execution_count": null,
   "id": "24",
   "metadata": {},
   "outputs": [],
   "source": [
    "# Doing:\n",
    "reachy.l_arm.goto([0, -10, 0, 0, 0, 0, 0])\n",
    "# will lead to the same result as:\n",
    "reachy.l_arm.goto([0, -10, 0, 0, 0, 0, 0], interpolation_mode='minimum_jerk')\n"
   ]
  },
  {
   "attachments": {},
   "cell_type": "markdown",
   "id": "25",
   "metadata": {},
   "source": [