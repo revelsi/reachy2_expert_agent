]
  },
  {
   "attachments": {},
   "cell_type": "markdown",
   "id": "17",
   "metadata": {},
   "source": [
    "### goto()\n",
    "\n",
    "The `goto()` function is another way to control the head. There is two ways to use it :\n",
    "- from the desired orientation as a quaternion (in cartesian space)\n",
    "- from joints positions (in joint space)\n",
    "\n",
    "So, you give either a quaternion or a list of 3 degree values.\n"
   ]
  },
  {
   "attachments": {},
   "cell_type": "markdown",
   "id": "19",
   "metadata": {},
   "source": [
    "#### In cartesian space\n",
    "\n",
    "You can control the head with a quaternion, in cartesian space.\n",
    "\n",
    "You can use [pyquaternion library](https://kieranwynn.github.io/pyquaternion/) to create suitable quaternion for this method."
   ]
  },
  {
   "cell_type": "code",
   "execution_count": null,
   "id": "20",
   "metadata": {},
   "outputs": [],
   "source": [
    "from pyquaternion import Quaternion\n",
    "\n",
    "q = Quaternion(axis=[1, 0, 0], angle=3.14159265 / 4) # tilt head about 45° to the right\n",
    "reachy.head.goto(q)"
   ]
  },
  {
   "cell_type": "markdown",
   "id": "64afc46e",
   "metadata": {},
   "source": [
    "#### In joint space\n",
    "\n",
    " You can directly control the joint value of the neck, giving the roll, pitch and yaw angles in degrees. The rotation is made in the order: roll, pitch, yaw, in the Orbita3D coordinate system."
   ]
  },
  {