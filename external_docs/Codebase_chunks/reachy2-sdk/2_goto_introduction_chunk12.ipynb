]
  },
  {
   "cell_type": "markdown",
   "id": "41",
   "metadata": {},
   "source": [
    "So how can a left arm goto wait for a right arm move? That's simple using the parameter *wait* in goto functions ! \n",
    "\n",
    "### Wait parameter\n",
    "\n",
    "As you could see earlier in the goto_posture() command, we can set the parameter *wait = True* in goto functions for the execution of the program to wait for the end of the movement before going on. \n"
   ]
  },
  {
   "cell_type": "code",
   "execution_count": null,
   "id": "1febf9c7",
   "metadata": {},
   "outputs": [],
   "source": [
    "reachy.goto_posture('default', wait = True)\n",
    "print('Default posture : done')\n",
    "r_goto_1 = reachy.r_arm.goto([0, 5, -15, -90, 0, 0, -10], duration = 2, wait = True)\n",
    "print('Right move : done')\n",
    "r_goto_2 = reachy.l_arm.goto([0, -5, 15, -90, 0, 0, 10], duration = 2, wait = True)\n",
    "print('Left move : done')\n",
    "reachy.goto_posture('default', wait = True)\n",
    "print('Default posture : done')"
   ]
  },
  {
   "attachments": {},
   "cell_type": "markdown",
   "id": "42",
   "metadata": {},
   "source": [
    "### Goto state"
   ]
  },
  {
   "attachments": {},
   "cell_type": "markdown",
   "id": "43",
   "metadata": {},
   "source": [
    "For a specific goto, you may want to know its current state. You can get information on the goto given its id with 2 methods available at reachy's level:\n",
    "\n",