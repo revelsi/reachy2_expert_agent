]
  },
  {
   "cell_type": "markdown",
   "id": "20",
   "metadata": {},
   "source": [
    "Send the joint goal positions to the arm with `goto()`"
   ]
  },
  {
   "cell_type": "code",
   "execution_count": null,
   "id": "21",
   "metadata": {},
   "outputs": [],
   "source": [
    "reachy.r_arm.goto(r_elbow_at_90_deg)\n",
    "reachy.l_arm.goto(l_elbow_at_90_deg, wait = True)"
   ]
  },
  {
   "cell_type": "markdown",
   "id": "22",
   "metadata": {},
   "source": [
    "In order to easily move a single joint, we can use the `goto()` method on a given joint:"
   ]
  },
  {
   "cell_type": "code",
   "execution_count": null,
   "id": "23",
   "metadata": {},
   "outputs": [],
   "source": [
    "reachy.r_arm.elbow.pitch.goto(0)"
   ]
  },
  {
   "cell_type": "markdown",
   "id": "24",
   "metadata": {},
   "source": [
    "This method works exactly like a goto on the part. All gotos sent to joints are stacked on the part they belong to.\n",
    "For example:"
   ]
  },
  {
   "cell_type": "code",
   "execution_count": null,
   "id": "25",
   "metadata": {},
   "outputs": [],
   "source": [
    "part_goto_id = reachy.r_arm.goto([0, 10, -15, -90, 0, 0, -5])\n",
    "joint_goto_id = reachy.r_arm.elbow.pitch.goto(0)\n",
    "\n",
    "print(part_goto_id)\n",
    "print(joint_goto_id)\n",
    "\n",
    "print(reachy.r_arm.get_goto_queue())"
   ]
  },
  {
   "cell_type": "markdown",
   "id": "26",
   "metadata": {},
   "source": [