"id": "47",
   "metadata": {},
   "outputs": [],
   "source": [
    "current_pose = reachy.l_arm.forward_kinematics()\n",
    "print(current_pose)"
   ]
  },
  {
   "cell_type": "markdown",
   "id": "48",
   "metadata": {},
   "source": [
    "#### Move the arms in cartesian space"
   ]
  },
  {
   "cell_type": "markdown",
   "id": "49",
   "metadata": {},
   "source": [
    "To control the arm in cartesian space, use the `goto(...)` method.  \n",
    "Let's use it on the current_pose:"
   ]
  },
  {
   "cell_type": "code",
   "execution_count": null,
   "id": "50",
   "metadata": {},
   "outputs": [],
   "source": [
    "reachy.l_arm.goto(current_pose)"
   ]
  },
  {
   "cell_type": "markdown",
   "id": "51",
   "metadata": {},
   "source": [
    "As you have just seen, the arm moved meanwhile the gripper is in the exact same position and orientation: that's because the computed inverse kinematics solution is different from the joints we decided to choose in joint space (`goto_posture()` is in fact a joint space method).  \n",
    "\n",
    "Let's send the arm to a new goal pose.  \n",
    "We need to define a pose 4x4 matrix as the new goal pose for the gripper:"
   ]
  },
  {
   "cell_type": "code",
   "execution_count": null,
   "id": "52",
   "metadata": {},
   "outputs": [],
   "source": [
    "new_pose = current_pose.copy()\n",
    "new_pose[0, 3] += 0.1\n",
    "print(new_pose)"
   ]
  },
  {
   "cell_type": "markdown",
   "id": "53",
   "metadata": {},