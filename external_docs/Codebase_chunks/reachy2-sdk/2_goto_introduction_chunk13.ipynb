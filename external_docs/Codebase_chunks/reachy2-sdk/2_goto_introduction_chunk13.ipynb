]
  },
  {
   "attachments": {},
   "cell_type": "markdown",
   "id": "43",
   "metadata": {},
   "source": [
    "For a specific goto, you may want to know its current state. You can get information on the goto given its id with 2 methods available at reachy's level:\n",
    "\n",
    "- **`is_goto_finished()`**: return True if the movement is over, but also if it won't be played because it has been cancelled for example\n",
    "- **`get_goto_joints_request()`**: will return the joints goal positions sent to the part by the corresponding goto command \n",
    "\n",
    "\n",
    "Let's take an example:"
   ]
  },
  {
   "cell_type": "code",
   "execution_count": null,
   "id": "44",
   "metadata": {},
   "outputs": [],
   "source": [
    "goto_1 = reachy.l_arm.goto([0, 0, 0, -60, 0, 0, 0], duration = 3)\n",
    "\n",
    "time.sleep(1)\n",
    "\n",
    "# Goto is currently being played\n",
    "goto1_is_finished = reachy.is_goto_finished(goto_1)\n",
    "print(f'After 1 second, goto 1 is finished : {goto1_is_finished}\\n')\n",
    "\n",
    "time.sleep(3)\n",
    "\n",
    "# Goto is now over\n",
    "goto1_is_finished = reachy.is_goto_finished(goto_1)\n",
    "print(f'After 4 seconds, goto 1 is finished : {goto1_is_finished}')"
   ]
  },
  {
   "attachments": {},
   "cell_type": "markdown",
   "id": "45",
   "metadata": {},
   "source": [
    "Retrieve the joint requests of a goto command from its ID:"
   ]
  },
  {
   "cell_type": "code",
   "execution_count": null,