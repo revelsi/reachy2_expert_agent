"metadata": {},
   "outputs": [],
   "source": [
    "height, width, distortion_model, D, K, R, P =  reachy.cameras.depth.get_parameters(CameraView.DEPTH)\n",
    "print(f\"height: {height}\")\n",
    "print(f\"width: {width}\")\n",
    "print(f\"distortion model: {distortion_model}\")\n",
    "print(f\"distortion coefficients {D}\")\n",
    "print(f\"instrinsic matrix {K}\")\n",
    "print(f\"rectification matrix {R}\")\n",
    "print(f\"projection matrix {P}\")"
   ]
  },
  {
   "cell_type": "markdown",
   "id": "33",
   "metadata": {},
   "source": [
    "## Live stream"
   ]
  },
  {
   "cell_type": "markdown",
   "id": "34",
   "metadata": {},
   "source": [
    "Although we provide an optimal way to get the video stream, it is still possible to display what Reachy see through the SDK. It could be useful to feed a compute vision algorithm that do not need to run at high frequency.\n",
    "\n",
    "This is demonstrated in a dedicated script : [cameras.py](cameras.py)"
   ]
  }
 ],
 "metadata": {
  "kernelspec": {
   "display_name": "reachy10",
   "language": "python",
   "name": "python3"
  },
  "language_info": {
   "codemirror_mode": {
    "name": "ipython",
    "version": 3
   },
   "file_extension": ".py",
   "mimetype": "text/x-python",
   "name": "python",
   "nbconvert_exporter": "python",
   "pygments_lexer": "ipython3",
   "version": "3.10.14"
  }
 },
 "nbformat": 4,
 "nbformat_minor": 5
}