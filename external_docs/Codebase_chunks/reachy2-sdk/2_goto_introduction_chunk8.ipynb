"reachy.l_arm.goto([0, -10, 0, 0, 0, 0, 0])\n",
    "# will lead to the same result as:\n",
    "reachy.l_arm.goto([0, -10, 0, 0, 0, 0, 0], interpolation_mode='minimum_jerk')\n"
   ]
  },
  {
   "attachments": {},
   "cell_type": "markdown",
   "id": "25",
   "metadata": {},
   "source": [
    "## Goto execution"
   ]
  },
  {
   "attachments": {},
   "cell_type": "markdown",
   "id": "26",
   "metadata": {},
   "source": [
    "There are two important concepts to be aware of : \n",
    "- gotos are stacked for a part (i.e. they run one after another),\n",
    "- but each part is independent (i.e. a goto for the left arm will run in parallel with a goto for the right arm)."
   ]
  },
  {
   "attachments": {},
   "cell_type": "markdown",
   "id": "27",
   "metadata": {},
   "source": [
    "### Goto is non-blocking for other parts "
   ]
  },
  {
   "attachments": {},
   "cell_type": "markdown",
   "id": "28",
   "metadata": {},
   "source": [
    "It means you can send a goto command on different parts, it won't wait for the movement to be executed on the first part to execute the other one, but will follow the timing of your code.\n",
    "\n",
    "Let's take an example with a motion sequence : \n",
    "\n",
    "- Start by returning the robot to its neutral position."
   ]
  },
  {
   "cell_type": "code",
   "execution_count": null,
   "id": "29",
   "metadata": {},
   "outputs": [],
   "source": [
    "reachy.goto_posture('default')"
   ]
  },
  {