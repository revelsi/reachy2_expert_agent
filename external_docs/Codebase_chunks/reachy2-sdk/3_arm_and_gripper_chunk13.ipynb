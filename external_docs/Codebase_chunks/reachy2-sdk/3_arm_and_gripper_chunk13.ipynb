},
  {
   "cell_type": "markdown",
   "id": "57",
   "metadata": {},
   "source": [
    "You can easily make the gripper rotate with the `rotate_by(...)` method:"
   ]
  },
  {
   "cell_type": "code",
   "execution_count": null,
   "id": "58",
   "metadata": {},
   "outputs": [],
   "source": [
    "reachy.l_arm.rotate_by(10, 0, 0, frame='gripper')"
   ]
  },
  {
   "cell_type": "markdown",
   "id": "59",
   "metadata": {},
   "source": [
    "The gripper rotate by 10 degrees around the x axis of the gripper.  \n",
    "For both functions, you need to specify a frame:\n",
    "* setting **gripper** as frame will translate or rotate in the gripper coordinate system\n",
    "* setting **robot** as frame will translate or rotate directly in Reachy's coordinate system"
   ]
  },
  {
   "cell_type": "markdown",
   "id": "60",
   "metadata": {},
   "source": [
    "If you want to compute a translation or rotation without making the robot move, you can call `get_translation_by(...)` and `get_rotation_by(...)` to get the corresponding pose 4x4 matrix:"
   ]
  },
  {
   "cell_type": "code",
   "execution_count": null,
   "id": "61",
   "metadata": {},
   "outputs": [],
   "source": [
    "reachy.l_arm.get_translation_by(-0.1, 0.2, -0.1, frame='gripper')"
   ]
  },
  {
   "cell_type": "code",
   "execution_count": null,
   "id": "62",
   "metadata": {},
   "outputs": [],
   "source": [
    "reachy.l_arm.get_rotation_by(-10, 20, 0, frame='gripper')"
   ]
  },
  {