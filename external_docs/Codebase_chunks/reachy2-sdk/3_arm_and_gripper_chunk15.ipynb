]
  },
  {
   "cell_type": "code",
   "execution_count": null,
   "id": "67",
   "metadata": {},
   "outputs": [],
   "source": [
    "reachy.l_arm.gripper.set_opening(55)\n",
    "while reachy.l_arm.gripper.is_moving():\n",
    "    time.sleep(0.1)\n",
    "reachy.l_arm.gripper.get_current_opening()"
   ]
  },
  {
   "cell_type": "markdown",
   "id": "68",
   "metadata": {},
   "source": [
    "# Set robot back to compliant mode"
   ]
  },
  {
   "cell_type": "code",
   "execution_count": null,
   "id": "69",
   "metadata": {},
   "outputs": [],
   "source": [
    "reachy.goto_posture('default', duration = 2, wait = True)\n",
    "    \n",
    "reachy.turn_off_smoothly()"
   ]
  }
 ],
 "metadata": {
  "kernelspec": {
   "display_name": "reachy10",
   "language": "python",
   "name": "python3"
  },
  "language_info": {
   "codemirror_mode": {
    "name": "ipython",
    "version": 3
   },
   "file_extension": ".py",
   "mimetype": "text/x-python",
   "name": "python",
   "nbconvert_exporter": "python",
   "pygments_lexer": "ipython3",
   "version": "3.10.14"
  }
 },
 "nbformat": 4,
 "nbformat_minor": 5
}