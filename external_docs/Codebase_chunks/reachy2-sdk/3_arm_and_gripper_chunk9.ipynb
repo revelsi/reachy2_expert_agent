]
  },
  {
   "cell_type": "markdown",
   "id": "37",
   "metadata": {},
   "source": [
    "Inverse kinematics works in the opposite way. Let's say you want to reach an object for which you know its position. What would be the set of joint positions to provide to `goto`?"
   ]
  },
  {
   "cell_type": "code",
   "execution_count": null,
   "id": "38",
   "metadata": {},
   "outputs": [],
   "source": [
    "import numpy as np\n",
    "target = np.identity(4)\n",
    "target = np.array([[0, 0, -1, 0.3],\n",
    "    [0, 1, 0, 0.1],\n",
    "    [1, 0, 0, -0.3],\n",
    "    [0, 0, 0, 1]])"
   ]
  },
  {
   "cell_type": "code",
   "execution_count": null,
   "id": "39",
   "metadata": {},
   "outputs": [],
   "source": [
    "joints_positions = reachy.l_arm.inverse_kinematics(target)\n",
    "joints_positions"
   ]
  },
  {
   "cell_type": "code",
   "execution_count": null,
   "id": "40",
   "metadata": {},
   "outputs": [],
   "source": [
    "reachy.l_arm.goto(joints_positions)"
   ]
  },
  {
   "cell_type": "code",
   "execution_count": null,
   "id": "41",
   "metadata": {},
   "outputs": [],
   "source": [
    "reachy.l_arm.goto_posture(\"default\")\n",
    "reachy.l_arm.goto(target, wait = True)"
   ]
  },
  {
   "cell_type": "markdown",
   "id": "42",
   "metadata": {},
   "source": [
    "> All these goto are illustrated in [draw_square](draw_square.py). Check it out to see how to make Reachy draw a square with its right arm!"
   ]
  },
  {