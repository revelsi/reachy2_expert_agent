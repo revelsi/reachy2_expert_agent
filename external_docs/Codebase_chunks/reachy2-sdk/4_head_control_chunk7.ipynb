"metadata": {},
   "source": [
    "## Read head position\n",
    "\n",
    "You can read the head positions using : \n",
    "\n",
    "- Cartesian space : \n",
    "> `get_current_orientation()` will give the orientation as a quaternion\n",
    "\n",
    "\n",
    "- Joint space :  \n",
    "> `get_current_positions()` will give the neck's roll, pitch and yaw present_position\n",
    "\n",
    "### In cartesian space :"
   ]
  },
  {
   "cell_type": "code",
   "execution_count": null,
   "id": "22",
   "metadata": {},
   "outputs": [],
   "source": [
    "q = reachy.head.get_current_orientation()\n",
    "print(q)"
   ]
  },
  {
   "attachments": {},
   "cell_type": "markdown",
   "id": "23",
   "metadata": {},
   "source": [
    "### In joint space : \n",
    "\n",
    "In case you feel more comfortable using roll, pitch, yaw angles rather than working with quaternions, you can retrieve those values from the **neck joints**."
   ]
  },
  {
   "cell_type": "code",
   "execution_count": null,
   "id": "24",
   "metadata": {},
   "outputs": [],
   "source": [
    "reachy.head.goto([20, 20, -10], wait = True)\n",
    "\n",
    "reachy.head.get_current_positions()"
   ]
  },
  {
   "attachments": {},
   "cell_type": "markdown",
   "id": "29",
   "metadata": {},
   "source": [
    "Then, you can reset the head to default position and turn it off."
   ]
  },
  {
   "cell_type": "code",
   "execution_count": null,
   "id": "30",
   "metadata": {},
   "outputs": [],