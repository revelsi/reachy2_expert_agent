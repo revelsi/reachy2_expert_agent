"joint_goto_id = reachy.r_arm.elbow.pitch.goto(0)\n",
    "\n",
    "print(part_goto_id)\n",
    "print(joint_goto_id)\n",
    "\n",
    "print(reachy.r_arm.get_goto_queue())"
   ]
  },
  {
   "cell_type": "markdown",
   "id": "26",
   "metadata": {},
   "source": [
    "`reachy.r_arm.elbow.pitch.goto(0)` command is stacked in r_arm gotos queue.\n",
    "The goto on the elbow will be played when the previous command sent using `goto()` will be over."
   ]
  },
  {
   "cell_type": "markdown",
   "id": "27",
   "metadata": {},
   "source": [
    "The arms should have moved in a way similar to what we saw in the [goto tutorial](2_goto_introduction.ipynb). You already know that you can specify the duration or the interpolation mode of this kind of movement.\n",
    "\n",
    "We've only seen movements expressed in the 'joint space', i.e., defined by a set of angles. How can we know the position of the gripper in space, or how can we reach an object for which we know its position? That's where kinematics come in."
   ]
  },
  {
   "cell_type": "markdown",
   "id": "28",
   "metadata": {},
   "source": [
    "### Kinematics"
   ]
  },
  {
   "cell_type": "markdown",
   "id": "29",
   "metadata": {},
   "source": [
    "The kinematic model describes the motion of a robot in mathematical form without considering the forces and torque affecting it. It only focuses on the geometric relationship between elements.\n",
    "\n",