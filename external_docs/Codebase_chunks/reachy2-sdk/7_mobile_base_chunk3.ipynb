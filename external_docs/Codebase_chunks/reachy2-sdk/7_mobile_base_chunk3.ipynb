]
  },
  {
   "cell_type": "markdown",
   "id": "a45b5c1d",
   "metadata": {},
   "source": [
    "If you want to move forward again the robot, you need to increase the x value."
   ]
  },
  {
   "cell_type": "code",
   "execution_count": null,
   "id": "d9d9a743",
   "metadata": {},
   "outputs": [],
   "source": [
    "import time\n",
    "\n",
    "reachy.mobile_base.goto(x=0.2, y=0.0, theta=0.0) #that won't do anything as the robot is already there\n",
    "time.sleep(2)\n",
    "\n",
    "# Move again 20cm forward\n",
    "reachy.mobile_base.goto(x=0.4, y=0.0, theta=0.0)"
   ]
  },
  {
   "cell_type": "markdown",
   "id": "62686da7",
   "metadata": {},
   "source": [
    "That's the same for the rotation. You can go back to the initial position than rotate the mobile base. "
   ]
  },
  {
   "cell_type": "code",
   "execution_count": null,
   "id": "7f04c56e",
   "metadata": {},
   "outputs": [],
   "source": [
    "# Go back to the initial position\n",
    "reachy.mobile_base.goto(x=0.0, y=0.0, theta=0.0)\n",
    "\n",
    "time.sleep(2)\n",
    "\n",
    "# Rotation to be at 90 degrees in the frame\n",
    "reachy.mobile_base.goto(x=0.0, y=0.0, theta=90.0)"
   ]
  },
  {
   "cell_type": "markdown",
   "id": "10",
   "metadata": {},
   "source": [