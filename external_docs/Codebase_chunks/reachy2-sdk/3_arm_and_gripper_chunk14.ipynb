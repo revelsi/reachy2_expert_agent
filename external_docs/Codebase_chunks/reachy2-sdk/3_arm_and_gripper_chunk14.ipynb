"source": [
    "reachy.l_arm.get_translation_by(-0.1, 0.2, -0.1, frame='gripper')"
   ]
  },
  {
   "cell_type": "code",
   "execution_count": null,
   "id": "62",
   "metadata": {},
   "outputs": [],
   "source": [
    "reachy.l_arm.get_rotation_by(-10, 20, 0, frame='gripper')"
   ]
  },
  {
   "cell_type": "markdown",
   "id": "63",
   "metadata": {},
   "source": [
    "## Gripper Control"
   ]
  },
  {
   "cell_type": "markdown",
   "id": "64",
   "metadata": {},
   "source": [
    "Finally, you may want to open or close a gripper to grab an object! Use the `close` or `open` method to do so:\n",
    "> Those methods can't be set as blocking moves for now, so you need to add a waiting condition while the gripper is still moving. "
   ]
  },
  {
   "cell_type": "code",
   "execution_count": null,
   "id": "65",
   "metadata": {},
   "outputs": [],
   "source": [
    "reachy.l_arm.gripper.close()\n",
    "while reachy.l_arm.gripper.is_moving():\n",
    "    time.sleep(0.1)\n",
    "reachy.l_arm.gripper.open()"
   ]
  },
  {
   "cell_type": "markdown",
   "id": "66",
   "metadata": {},
   "source": [
    "Of course, you can partially open the gripper, and get its current opening:"
   ]
  },
  {
   "cell_type": "code",
   "execution_count": null,
   "id": "67",
   "metadata": {},
   "outputs": [],
   "source": [
    "reachy.l_arm.gripper.set_opening(55)\n",
    "while reachy.l_arm.gripper.is_moving():\n",
    "    time.sleep(0.1)\n",