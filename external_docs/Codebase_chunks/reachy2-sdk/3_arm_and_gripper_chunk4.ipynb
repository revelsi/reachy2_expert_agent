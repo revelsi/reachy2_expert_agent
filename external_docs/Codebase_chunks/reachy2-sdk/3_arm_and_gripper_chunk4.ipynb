"id": "13",
   "metadata": {},
   "outputs": [],
   "source": [
    "reachy.l_arm.joints"
   ]
  },
  {
   "cell_type": "markdown",
   "id": "14",
   "metadata": {},
   "source": [
    "You can easily access the position of each joint in one call with `get_current_positions()`."
   ]
  },
  {
   "cell_type": "code",
   "execution_count": null,
   "id": "15",
   "metadata": {},
   "outputs": [],
   "source": [
    "reachy.r_arm.get_current_positions()"
   ]
  },
  {
   "cell_type": "code",
   "execution_count": null,
   "id": "16",
   "metadata": {},
   "outputs": [],
   "source": [
    "reachy.l_arm.get_current_positions()"
   ]
  },
  {
   "cell_type": "markdown",
   "id": "17",
   "metadata": {},
   "source": [
    "#### Move the arms in joint space"
   ]
  },
  {
   "cell_type": "markdown",
   "id": "18",
   "metadata": {},
   "source": [
    "The simplest way to move an arm is to set the angle of each joint. Define a joint positions list:"
   ]
  },
  {
   "cell_type": "code",
   "execution_count": null,
   "id": "19",
   "metadata": {},
   "outputs": [],
   "source": [
    "r_elbow_at_90_deg = [0, 10, -15, -90, 0, 0, -5]\n",
    "l_elbow_at_90_deg = [0, -10, 15, -90, 0, 0, 5]"
   ]
  },
  {
   "cell_type": "markdown",
   "id": "20",
   "metadata": {},
   "source": [
    "Send the joint goal positions to the arm with `goto()`"
   ]
  },
  {
   "cell_type": "code",
   "execution_count": null,
   "id": "21",
   "metadata": {},
   "outputs": [],
   "source": [