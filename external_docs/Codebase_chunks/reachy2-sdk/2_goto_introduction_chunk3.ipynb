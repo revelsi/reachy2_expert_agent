"source": [
    "Connect to your robot:"
   ]
  },
  {
   "cell_type": "code",
   "execution_count": null,
   "id": "4",
   "metadata": {},
   "outputs": [],
   "source": [
    "from reachy2_sdk import ReachySDK\n",
    "import time # used for time.sleep() later in the tutorial\n",
    "\n",
    "reachy = ReachySDK(host='localhost')  #Replace localhost with your robot's IP address"
   ]
  },
  {
   "attachments": {},
   "cell_type": "markdown",
   "id": "5",
   "metadata": {},
   "source": [
    "Turn on Reachy so the motors can be controlled, and set in the default posture :"
   ]
  },
  {
   "cell_type": "code",
   "execution_count": null,
   "id": "6",
   "metadata": {},
   "outputs": [],
   "source": [
    "reachy.turn_on()\n",
    "\n",
    "reachy.goto_posture('default')"
   ]
  },
  {
   "attachments": {},
   "cell_type": "markdown",
   "id": "7",
   "metadata": {},
   "source": [
    "`goto_posture()` is a convenient function to configure the posture of all Reachy parts at once. \n",
    "\n",
    "It accepts the parameters : \n",
    "- *default* (i.e. `goto_posture('default')`), which gives Reachy's default pose with arms outstretched on either side of the body,\n",
    "- *elbow_90* (i.e. `goto_posture('elbow_90')`), in which Reachy has the two forearms parallel to the ground. \n",
    "\n",
    "These standard poses can be useful when you want to start a new task from a known position."
   ]
  },
  {
   "attachments": {},
   "cell_type": "markdown",