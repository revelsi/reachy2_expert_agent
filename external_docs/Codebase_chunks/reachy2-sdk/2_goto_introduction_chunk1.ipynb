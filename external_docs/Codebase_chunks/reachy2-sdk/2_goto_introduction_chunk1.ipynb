{
 "cells": [
  {
   "attachments": {},
   "cell_type": "markdown",
   "id": "0",
   "metadata": {},
   "source": [
    "# Goto introduction"
   ]
  },
  {
   "attachments": {},
   "cell_type": "markdown",
   "id": "1",
   "metadata": {},
   "source": [
    "ReachySDK for Reachy 2 offers you methods to make movements with the arms and head, controlling the target position in several ways, choosing the duration of the movement, or even the interpolation mode. We called them **Goto**.\n",
    "\n",
    "Those methods work the same way on the arms and on the head, **but not on the mobile base**.\n",
    "\n",
    "The methods to use in order to control the robot are:\n",
    "-  for the arms:  \n",
    "    - **`goto()`**: depending on the parameter entered, you can control either :\n",
    "        - the joint value of each joint in degrees : *list of 7 values (joint space)*\n",
    "        - the end-effector position in the robot frame of reference : *4x4 homogeneous matrix (cartesian space)*\n",
    "    - **`translate_by()`** and **`rotate_by()`** : you can translate or rotate the position of the end-effector in space, in robot frame or gripper frame\n",
    "\n",
    "- for the head:  \n",
    "    - **`goto()`**: depending on the parameter entered, you can control either :\n",
    "        - the joint value of each head joint in degrees : *list of  3 values (joint space)*\n",
    "        - the head orientation in the robot frame : *quaternion (cartesian space)*\n",