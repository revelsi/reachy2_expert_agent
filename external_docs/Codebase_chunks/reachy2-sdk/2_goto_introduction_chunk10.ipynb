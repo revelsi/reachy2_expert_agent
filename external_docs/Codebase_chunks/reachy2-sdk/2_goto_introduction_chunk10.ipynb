"cell_type": "markdown",
   "id": "34",
   "metadata": {},
   "source": [
    "It means that you can send several goto commands on a part one after another without any delay, they will be played in this order, but will wait for the previous goto to be finished.  \n",
    "\n",
    "Let's take an example with the following sequence:"
   ]
  },
  {
   "cell_type": "code",
   "execution_count": null,
   "id": "36",
   "metadata": {},
   "outputs": [],
   "source": [
    "reachy.goto_posture('default')\n",
    "reachy.l_arm.goto([0, 0, 15, -90, 0, 0, 15], duration = 3)\n",
    "reachy.l_arm.goto([0, -10, 0, 0, 0, 0, 0], duration = 2)\n",
    "reachy.l_arm.goto([0, 0, 15, -90, 0, 0, 15], duration = 3)"
   ]
  },
  {
   "attachments": {},
   "cell_type": "markdown",
   "id": "37",
   "metadata": {},
   "source": [
    "This sequence will take 8 seconds to execute, as each movement on the left arm will wait for the previous before starting.  \n",
    "\n",
    "Nevertheless, you can still send goto commands to other parts."
   ]
  },
  {
   "cell_type": "code",
   "execution_count": null,
   "id": "39",
   "metadata": {},
   "outputs": [],
   "source": [
    "reachy.goto_posture('default')\n",
    "\n",
    "reachy.l_arm.goto([0, 0, 15, -90, 0, 0, 15], duration = 3)  #1\n",
    "time.sleep(1)\n",
    "reachy.l_arm.goto([0, -10, 0, 0, 0, 0, 0], duration = 2)  #2\n",
    "reachy.l_arm.goto([0, 0, 15, -90, 0, 0, 15], duration = 3)  #3\n",