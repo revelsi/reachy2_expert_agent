},
  {
   "cell_type": "code",
   "execution_count": null,
   "id": "52",
   "metadata": {},
   "outputs": [],
   "source": [
    "new_pose = current_pose.copy()\n",
    "new_pose[0, 3] += 0.1\n",
    "print(new_pose)"
   ]
  },
  {
   "cell_type": "markdown",
   "id": "53",
   "metadata": {},
   "source": [
    "This new_pose is translated 10cm front in Reachy's coordinate system (+10cm on Reachy's x axis).  \n",
    "You can send it to the robot:"
   ]
  },
  {
   "cell_type": "code",
   "execution_count": null,
   "id": "54",
   "metadata": {},
   "outputs": [],
   "source": [
    "reachy.l_arm.goto(new_pose)"
   ]
  },
  {
   "cell_type": "markdown",
   "id": "55",
   "metadata": {},
   "source": [
    "To simplify your life, you have access to functions to easily compute translation or rotation.  \n",
    "Use the `translate_by(...)` method to send the gripper back to the previous pose, asking for a translation 10cm back (-10cm on Reachy's x axis):"
   ]
  },
  {
   "cell_type": "code",
   "execution_count": null,
   "id": "56",
   "metadata": {},
   "outputs": [],
   "source": [
    "reachy.l_arm.translate_by(-0.1, 0, 0, frame='robot')"
   ]
  },
  {
   "cell_type": "markdown",
   "id": "57",
   "metadata": {},
   "source": [
    "You can easily make the gripper rotate with the `rotate_by(...)` method:"
   ]
  },
  {
   "cell_type": "code",
   "execution_count": null,
   "id": "58",
   "metadata": {},
   "outputs": [],
   "source": [