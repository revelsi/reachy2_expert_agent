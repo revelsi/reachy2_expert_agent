"You can first check the audio files available on Reachy."
   ]
  },
  {
   "cell_type": "code",
   "execution_count": null,
   "id": "8",
   "metadata": {},
   "outputs": [],
   "source": [
    "reachy.audio.get_audio_files()"
   ]
  },
  {
   "cell_type": "markdown",
   "id": "9",
   "metadata": {},
   "source": [
    "The list may be empty if you have just started to play with Reachy. Let's add a new audio file. Reachy is able to play wav, mp3, and ogg files. Ogg files can be downloaded [here for instance](https://getsamplefiles.com/sample-audio-files/ogg).\n",
    "Make sure to change the path name in the line below. For instance */home/name/Downloads/sample-1.ogg* or *C:\\Users\\name\\Downloads\\sample-1.ogg*"
   ]
  },
  {
   "cell_type": "code",
   "execution_count": null,
   "id": "c068ad53",
   "metadata": {},
   "outputs": [],
   "source": [
    "reachy.audio.upload_audio_file('<path>/sample-1.ogg')\n",
    "reachy.audio.upload_audio_file('<path>/sample-4.ogg')"
   ]
  },
  {
   "cell_type": "markdown",
   "id": "dc7eb487",
   "metadata": {},
   "source": [
    "Now these two files should be listed on Reachy:"
   ]
  },
  {
   "cell_type": "code",
   "execution_count": null,
   "id": "f93e5709",
   "metadata": {},
   "outputs": [],
   "source": [
    "reachy.audio.get_audio_files()"
   ]
  },
  {
   "cell_type": "markdown",
   "id": "9ff75b25",
   "metadata": {},
   "source": [