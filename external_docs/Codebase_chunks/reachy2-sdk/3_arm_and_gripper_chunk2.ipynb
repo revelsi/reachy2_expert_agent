]
  },
  {
   "cell_type": "code",
   "execution_count": null,
   "id": "6",
   "metadata": {},
   "outputs": [],
   "source": [
    "reachy.l_arm.turn_on()\n",
    "reachy.r_arm.turn_on()"
   ]
  },
  {
   "cell_type": "markdown",
   "id": "7",
   "metadata": {},
   "source": [
    "Since the grippers are part of the arms, they will also be turned on. You could, of course, turn on the whole robot by calling `reachy.turn_on()` directly.\n",
    "Let's check if the arms are on:"
   ]
  },
  {
   "cell_type": "code",
   "execution_count": null,
   "id": "8",
   "metadata": {},
   "outputs": [],
   "source": [
    "print(reachy.r_arm.is_on())\n",
    "print(reachy.l_arm.is_on())"
   ]
  },
  {
   "cell_type": "markdown",
   "id": "9",
   "metadata": {},
   "source": [
    "## Control the arms\n",
    "\n",
    "Arms can be controlled in two spaces:\n",
    "\n",
    "* the **joint space**, which allows to read and write directly the angle values of each joint of the arm\n",
    "* the **cartesian space**, which consists in controlling the end effector position and orientation in Reachy's coordinate system\n",
    "\n",
    "> Both spaces are quite different, and **we advise not to mix them** if you are not familiar with the output.\n",
    "In fact, values of the joint space are expressed in each actuator's coordinate system (respectively shoulder, elbow and wrist), whereas commands in cartesian space are expressed in Reachy's coordinate system"
   ]
  },
  {