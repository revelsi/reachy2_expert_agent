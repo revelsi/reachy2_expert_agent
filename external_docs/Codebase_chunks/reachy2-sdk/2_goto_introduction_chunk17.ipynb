"id": "62",
   "metadata": {},
   "source": [
    "### Multiple gotos cancellation"
   ]
  },
  {
   "attachments": {},
   "cell_type": "markdown",
   "id": "63",
   "metadata": {},
   "source": [
    "To cancel all gotos at once, you can call the `cancel_all_goto()` methods.  \n",
    "This method can be called at the level you want to act, which can be either **reachy** or a **specific part**. "
   ]
  },
  {
   "attachments": {},
   "cell_type": "markdown",
   "id": "64",
   "metadata": {},
   "source": [
    "#### All gotos"
   ]
  },
  {
   "attachments": {},
   "cell_type": "markdown",
   "id": "65",
   "metadata": {},
   "source": [
    "For example, if you want to cancel all gotos on all parts:"
   ]
  },
  {
   "cell_type": "code",
   "execution_count": null,
   "id": "66",
   "metadata": {},
   "outputs": [],
   "source": [
    "reachy.goto_posture('default', wait = True)\n",
    "\n",
    "# Send a sequence of gotos\n",
    "reachy.head.goto([20, 30, -10], duration = 3)\n",
    "reachy.l_arm.goto([0, 0, 0, -90, 0, 0, 0], duration = 3)\n",
    "reachy.l_arm.goto([0, 0, 0, 0, 0, 0, 0], duration = 3)\n",
    "\n",
    "time.sleep(1.5)\n",
    "\n",
    "# Cancel all gotos\n",
    "reachy.cancel_all_goto()\n",
    "\n",
    "print(f\"Length of l_arm goto queue : {len(reachy.l_arm.get_goto_queue())}\")"
   ]
  },
  {
   "attachments": {},
   "cell_type": "markdown",
   "id": "67",
   "metadata": {},
   "source": [