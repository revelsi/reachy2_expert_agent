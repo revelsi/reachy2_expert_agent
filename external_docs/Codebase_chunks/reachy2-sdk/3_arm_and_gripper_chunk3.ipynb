"In fact, values of the joint space are expressed in each actuator's coordinate system (respectively shoulder, elbow and wrist), whereas commands in cartesian space are expressed in Reachy's coordinate system"
   ]
  },
  {
   "cell_type": "markdown",
   "id": "10",
   "metadata": {},
   "source": [
    "### Joint space"
   ]
  },
  {
   "cell_type": "markdown",
   "id": "11",
   "metadata": {},
   "source": [
    "Reachy's arm offers 7 degrees of freedom. It also gives access to one joint for the gripper.\n",
    "The arm is divided as follow:\n",
    "- shoulder, composed of 2 joints (pitch and roll)\n",
    "- elbow, composed of 2 joints (yaw and pitch)\n",
    "- wrist, composed of 3 joints (roll, pitch and yaw)\n",
    "\n",
    "We refer to the shoulder, elbow and wrist as actuators.\n",
    "For some actions, such as changing the compliancy, it is the lowest level of control you will have.\n",
    "\n",
    "You can inspect the details of the arm with:"
   ]
  },
  {
   "cell_type": "code",
   "execution_count": null,
   "id": "12",
   "metadata": {},
   "outputs": [],
   "source": [
    "reachy.r_arm.joints"
   ]
  },
  {
   "cell_type": "code",
   "execution_count": null,
   "id": "13",
   "metadata": {},
   "outputs": [],
   "source": [
    "reachy.l_arm.joints"
   ]
  },
  {
   "cell_type": "markdown",
   "id": "14",
   "metadata": {},
   "source": [
    "You can easily access the position of each joint in one call with `get_current_positions()`."
   ]
  },