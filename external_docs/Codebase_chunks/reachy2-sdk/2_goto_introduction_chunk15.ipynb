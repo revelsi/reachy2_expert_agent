"- **`get_goto_queue()`**: will return the ids of all stacked goto commands waiting to be played on the part\n",
    "\n",
    "Those methods are called at the part level, to get info on the state of the part.  \n",
    "\n",
    "Let's take an example. "
   ]
  },
  {
   "cell_type": "code",
   "execution_count": null,
   "id": "53",
   "metadata": {},
   "outputs": [],
   "source": [
    "# Write a sequence for the left arm\n",
    "goto_1 = reachy.l_arm.goto([0, -15, 15, -90, 0, 0, 0], duration = 3)\n",
    "goto_2 = reachy.l_arm.goto([0, -10, 0, 0, 0, 0, 0], duration = 2)\n",
    "goto_3 = reachy.l_arm.goto([0, -15, 15, -90, 0, 0, 0], duration = 3)\n",
    "\n",
    "print(f'goto 1: {goto_1.id}, goto 2: {goto_2.id}, goto 3: {goto_3.id}')\n",
    "\n",
    "# Goto #1 is currently playing\n",
    "current_goto = reachy.l_arm.get_goto_playing()\n",
    "print(f'current goto : {current_goto.id}')\n",
    "print(f'l_arm queue length: {len(reachy.l_arm.get_goto_queue())} gotos waiting to be played.')"
   ]
  },
  {
   "attachments": {},
   "cell_type": "markdown",
   "id": "57",
   "metadata": {},
   "source": [
    "## Goto cancellation"
   ]
  },
  {
   "attachments": {},
   "cell_type": "markdown",
   "id": "58",
   "metadata": {},
   "source": [
    "If you want to modify the queue of goto commands on a part, or interrupt the movement being played, you can cancel goto commands at any time.  "
   ]
  },
  {
   "attachments": {},
   "cell_type": "markdown",