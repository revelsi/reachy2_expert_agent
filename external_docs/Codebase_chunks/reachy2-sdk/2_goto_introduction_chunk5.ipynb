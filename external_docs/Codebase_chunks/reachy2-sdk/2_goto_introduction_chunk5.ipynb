]
  },
  {
   "cell_type": "markdown",
   "id": "13",
   "metadata": {},
   "source": [
    "## Goto commands"
   ]
  },
  {
   "cell_type": "markdown",
   "id": "14",
   "metadata": {},
   "source": [
    "A goto command can only be sent on parts:\n",
    "- reachy.l_arm\n",
    "- reachy.r_arm\n",
    "- reachy.head\n",
    "\n",
    "and is defined by 3 parameters : \n",
    "- the **joint commands**, as a list of articular degree values (7 for the arms and 3 for the head)\n",
    "- the **duration**, in seconds - *set to 2 by default*\n",
    "- the **interpolation mode**, 'linear' or 'minimum_jerk' - *set to 'minimum_jerk' by default*\n"
   ]
  },
  {
   "cell_type": "markdown",
   "id": "15",
   "metadata": {},
   "source": [
    "#### Goto duration \n",
    "\n",
    "You can give a custom duration for the execution of the movements, as shown in the examples above : "
   ]
  },
  {
   "cell_type": "code",
   "execution_count": null,
   "id": "17",
   "metadata": {},
   "outputs": [],
   "source": [
    "reachy.head.goto([20, 20, -10], duration = 3)\n",
    "reachy.l_arm.goto([0, -10, 10, -90, 0, 0, 0], duration = 5)\n",
    "\n",
    "\n",
    "# Doing:\n",
    "reachy.l_arm.goto([0, -10, 0, 0, 0, 0, 0])\n",
    "# will lead to the same result as:\n",
    "reachy.l_arm.goto([0, -10, 0, 0, 0, 0, 0], duration = 2)"
   ]
  },
  {
   "cell_type": "markdown",
   "id": "18",
   "metadata": {},
   "source": [
    "> Default duration is **2 seconds**.\n",
    "\n",