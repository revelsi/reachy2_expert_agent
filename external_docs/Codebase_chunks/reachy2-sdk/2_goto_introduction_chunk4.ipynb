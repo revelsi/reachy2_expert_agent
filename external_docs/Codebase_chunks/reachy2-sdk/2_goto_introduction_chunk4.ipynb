"- *elbow_90* (i.e. `goto_posture('elbow_90')`), in which Reachy has the two forearms parallel to the ground. \n",
    "\n",
    "These standard poses can be useful when you want to start a new task from a known position."
   ]
  },
  {
   "attachments": {},
   "cell_type": "markdown",
   "id": "8",
   "metadata": {},
   "source": [
    "> This example is available in [set_default_posture.py](set_default_posture.py)"
   ]
  },
  {
   "attachments": {},
   "cell_type": "markdown",
   "id": "9",
   "metadata": {},
   "source": [
    "## Set your First Move"
   ]
  },
  {
   "attachments": {},
   "cell_type": "markdown",
   "id": "10",
   "metadata": {},
   "source": [
    "Let's move Reachy's right arm. The *goto* allows to control the 7 degrees of freedom of the arm at once (see [getting_started](1_getting_started.ipynb))"
   ]
  },
  {
   "cell_type": "code",
   "execution_count": null,
   "id": "11",
   "metadata": {},
   "outputs": [],
   "source": [
    "goto_1 = reachy.r_arm.goto([0, 10, -10, -90, 0, 0, 0])\n",
    "\n",
    "print(f'goto 1 {goto_1}')"
   ]
  },
  {
   "cell_type": "markdown",
   "id": "12",
   "metadata": {},
   "source": [
    "This method returns an id, that you can use to get information on this movement or to cancel this movement. Store this id in a variable (*goto_1* here) to be able to use it further. All the goto methods return an id."
   ]
  },
  {
   "cell_type": "markdown",
   "id": "13",
   "metadata": {},
   "source": [