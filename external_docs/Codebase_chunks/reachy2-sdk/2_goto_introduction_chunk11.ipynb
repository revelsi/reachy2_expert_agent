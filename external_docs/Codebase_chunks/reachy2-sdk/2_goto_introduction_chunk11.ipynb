"reachy.goto_posture('default')\n",
    "\n",
    "reachy.l_arm.goto([0, 0, 15, -90, 0, 0, 15], duration = 3)  #1\n",
    "time.sleep(1)\n",
    "reachy.l_arm.goto([0, -10, 0, 0, 0, 0, 0], duration = 2)  #2\n",
    "reachy.l_arm.goto([0, 0, 15, -90, 0, 0, 15], duration = 3)  #3\n",
    "reachy.r_arm.goto([0, 0, -15, -90, 0, 0, -15], duration = 2)  #4"
   ]
  },
  {
   "attachments": {},
   "cell_type": "markdown",
   "id": "40",
   "metadata": {},
   "source": [
    "This sequence will still take 8 seconds to execute:\n",
    "- commands #1, #2 and #3 are sent to the left arm. They will be stacked on the left arm, and the `time.sleep(1)` won't have any effect . When received, command #2 will simply wait 2 seconds rather than 3 secondes in the previous example.\n",
    "- commands #4 is sent on the right arm, where no movement is processed. It will then start 1 second after command #1 has started, and will then be over approximatively at the same time.\n",
    "\n",
    "The sequence execution order is #1, #4, #2, #3."
   ]
  },
  {
   "cell_type": "markdown",
   "id": "41",
   "metadata": {},
   "source": [
    "So how can a left arm goto wait for a right arm move? That's simple using the parameter *wait* in goto functions ! \n",
    "\n",
    "### Wait parameter\n",
    "\n",