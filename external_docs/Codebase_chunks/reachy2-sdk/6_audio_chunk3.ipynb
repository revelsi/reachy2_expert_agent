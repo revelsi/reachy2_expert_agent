]
  },
  {
   "cell_type": "code",
   "execution_count": null,
   "id": "f93e5709",
   "metadata": {},
   "outputs": [],
   "source": [
    "reachy.audio.get_audio_files()"
   ]
  },
  {
   "cell_type": "markdown",
   "id": "9ff75b25",
   "metadata": {},
   "source": [
    "A file can be removed if you don't want to use it. It should no longer be in the list!"
   ]
  },
  {
   "cell_type": "code",
   "execution_count": null,
   "id": "076a76e3",
   "metadata": {},
   "outputs": [],
   "source": [
    "reachy.audio.remove_audio_file('sample-4.ogg')"
   ]
  },
  {
   "cell_type": "code",
   "execution_count": null,
   "id": "823fb0fa",
   "metadata": {},
   "outputs": [],
   "source": [
    "reachy.audio.get_audio_files()"
   ]
  },
  {
   "cell_type": "markdown",
   "id": "10",
   "metadata": {},
   "source": [
    "### Play a sound\n",
    "\n",
    "Once an audio file is uploaded onto Reachy, you can play it"
   ]
  },
  {
   "cell_type": "code",
   "execution_count": 17,
   "id": "11",
   "metadata": {},
   "outputs": [],
   "source": [
    "reachy.audio.play_audio_file('sample-1.ogg')"
   ]
  },
  {
   "cell_type": "markdown",
   "id": "12",
   "metadata": {},
   "source": [
    "Stop the playback whenever you want"
   ]
  },
  {
   "cell_type": "code",
   "execution_count": 18,
   "id": "13",
   "metadata": {},
   "outputs": [],
   "source": [
    "reachy.audio.stop_playing()"
   ]
  },
  {
   "cell_type": "markdown",
   "id": "4f77bc1e",
   "metadata": {},