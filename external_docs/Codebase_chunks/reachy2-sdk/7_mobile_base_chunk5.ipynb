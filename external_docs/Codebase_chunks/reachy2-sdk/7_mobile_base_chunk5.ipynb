"reachy.mobile_base.goto(x=0.0, y=0.0, theta=0.0)\n"
   ]
  },
  {
   "cell_type": "code",
   "execution_count": null,
   "id": "13",
   "metadata": {},
   "outputs": [],
   "source": [
    "# Rotation to be at -90 degrees in the new frame\n",
    "reachy.mobile_base.goto(x=0.0, y=0.0, theta=-90.0)"
   ]
  },
  {
   "cell_type": "markdown",
   "id": "9c16bbed",
   "metadata": {},
   "source": [
    "#### Rotate_by / Translate_by\n",
    "\n",
    "You can also decide to assign movements to the robot based on its current position and not on its odometry. "
   ]
  },
  {
   "cell_type": "code",
   "execution_count": null,
   "id": "096afcae",
   "metadata": {},
   "outputs": [],
   "source": [
    "reachy.mobile_base.get_current_odometry()\n",
    "reachy.mobile_base.translate_by(x = 0.2, y = 0.0)"
   ]
  },
  {
   "cell_type": "markdown",
   "id": "df8caec0",
   "metadata": {},
   "source": [
    "You can do it again, to move the robot by 0.2m in the x direction."
   ]
  },
  {
   "cell_type": "code",
   "execution_count": null,
   "id": "a9bd95f5",
   "metadata": {},
   "outputs": [],
   "source": [
    "reachy.mobile_base.translate_by(x = 0.2, y = 0.0)"
   ]
  },
  {
   "cell_type": "markdown",
   "id": "5c56e122",
   "metadata": {},
   "source": [
    "Now, the mobile base can be rotated 90° from its current position, allowing to get a odometry with a theta = 0°. "
   ]
  },
  {
   "cell_type": "code",
   "execution_count": null,
   "id": "84e18a9f",
   "metadata": {},