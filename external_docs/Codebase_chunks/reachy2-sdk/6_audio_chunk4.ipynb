"Stop the playback whenever you want"
   ]
  },
  {
   "cell_type": "code",
   "execution_count": 18,
   "id": "13",
   "metadata": {},
   "outputs": [],
   "source": [
    "reachy.audio.stop_playing()"
   ]
  },
  {
   "cell_type": "markdown",
   "id": "4f77bc1e",
   "metadata": {},
   "source": [
    "### Record a sound\n",
    "\n",
    "In a similar way, a sound can be recorded using Reachy's microphones. Only the ogg extension is allowed for now. The duration of the recording, in seconds, must be set."
   ]
  },
  {
   "cell_type": "code",
   "execution_count": null,
   "id": "b8379a6c",
   "metadata": {},
   "outputs": [],
   "source": [
    "reachy.audio.record_audio('tutorial.ogg', duration_secs=5)"
   ]
  },
  {
   "cell_type": "markdown",
   "id": "0738588b",
   "metadata": {},
   "source": [
    "The audio is recorded in the background; it may be stopped at any time."
   ]
  },
  {
   "cell_type": "code",
   "execution_count": 11,
   "id": "1d03a93a",
   "metadata": {},
   "outputs": [],
   "source": [
    "reachy.audio.stop_recording()"
   ]
  },
  {
   "cell_type": "markdown",
   "id": "835b2865",
   "metadata": {},
   "source": [
    "The audio file is now on Reachy's file system, and available for listening"
   ]
  },
  {
   "cell_type": "code",
   "execution_count": null,
   "id": "6038c1c1",
   "metadata": {},
   "outputs": [],
   "source": [
    "reachy.audio.get_audio_files()"
   ]
  },
  {
   "cell_type": "code",
   "execution_count": 5,