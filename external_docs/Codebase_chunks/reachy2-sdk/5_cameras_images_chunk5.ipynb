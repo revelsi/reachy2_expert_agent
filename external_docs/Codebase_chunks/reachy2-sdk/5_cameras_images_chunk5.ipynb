]
  },
  {
   "cell_type": "code",
   "execution_count": null,
   "id": "22",
   "metadata": {},
   "outputs": [],
   "source": [
    "frame, ts = reachy.cameras.depth.get_frame()"
   ]
  },
  {
   "cell_type": "markdown",
   "id": "23",
   "metadata": {},
   "source": [
    "Let's display the captured frame with PIL:"
   ]
  },
  {
   "cell_type": "code",
   "execution_count": null,
   "id": "24",
   "metadata": {},
   "outputs": [],
   "source": [
    "Image.fromarray(frame[:,:,::-1])"
   ]
  },
  {
   "cell_type": "markdown",
   "id": "25",
   "metadata": {},
   "source": [
    "As for the teleop camera, parameters are also availables"
   ]
  },
  {
   "cell_type": "code",
   "execution_count": null,
   "id": "26",
   "metadata": {},
   "outputs": [],
   "source": [
    "height, width, distortion_model, D, K, R, P =  reachy.cameras.depth.get_parameters()\n",
    "print(f\"height: {height}\")\n",
    "print(f\"width: {width}\")\n",
    "print(f\"distortion model: {distortion_model}\")\n",
    "print(f\"distortion coefficients {D}\")\n",
    "print(f\"instrinsic matrix {K}\")\n",
    "print(f\"rectification matrix {R}\")\n",
    "print(f\"projection matrix {P}\")"
   ]
  },
  {
   "cell_type": "markdown",
   "id": "27",
   "metadata": {},
   "source": [
    "#### Depth information\n",
    "\n",
    "The SR camera is a depth camera, you can then diplay a left or right **depth frame** using `get_depth_frame()`, but also the **depthmap** and the **disparity**.   \n",