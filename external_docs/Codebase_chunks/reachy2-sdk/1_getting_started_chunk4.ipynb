"source": [
    "reachy.joints"
   ]
  },
  {
   "cell_type": "markdown",
   "id": "16",
   "metadata": {},
   "source": [
    "The current and goal positions are also listed (i.e., the present and target angles of the joints).\n",
    "Each body part can be explored individually:"
   ]
  },
  {
   "cell_type": "code",
   "execution_count": null,
   "id": "17",
   "metadata": {},
   "outputs": [],
   "source": [
    "reachy.r_arm.joints\n",
    "#reachy.l_arm.joints\n",
    "#reachy.head.joints"
   ]
  },
  {
   "cell_type": "markdown",
   "id": "18",
   "metadata": {},
   "source": [
    "## Mobile Base"
   ]
  },
  {
   "cell_type": "markdown",
   "id": "19",
   "metadata": {},
   "source": [
    "The mobile base can be accessed in the same way as the body parts:\n",
    "> Be aware that there is no mobile base in the fake mode configuration. "
   ]
  },
  {
   "cell_type": "code",
   "execution_count": null,
   "id": "20",
   "metadata": {},
   "outputs": [],
   "source": [
    "reachy.mobile_base"
   ]
  },
  {
   "cell_type": "markdown",
   "id": "21",
   "metadata": {},
   "source": [
    "## Disconnect"
   ]
  },
  {
   "cell_type": "markdown",
   "id": "22",
   "metadata": {},
   "source": [
    "No action is required; simply close your terminal or notebook!\n",
    "\n",
    "If you need to switch between robots, you can disconnect from one and then connect to another:"
   ]
  },
  {
   "cell_type": "code",
   "execution_count": null,
   "id": "23",