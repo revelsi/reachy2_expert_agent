"- **goto** : move the mobile base to a target point in space -> use a *goto function* to get in this mode\n",
    "- **free wheel**: unlock the wheel so Reachy can be manually moved around easily -> *turn_off() method* will set this mode\n",
    "- **brake**: stop the movement and lock the wheels -> *turn_on() method* will set this mode"
   ]
  },
  {
   "cell_type": "markdown",
   "id": "8",
   "metadata": {},
   "source": [
    "### Goto and odometry\n",
    "\n",
    "The goto function is used to place the mobile_base at a relative position and orientation to its odometry, set when the robot is switched on. To be sure, you can reset the odometry before calling the function. "
   ]
  },
  {
   "cell_type": "code",
   "execution_count": null,
   "id": "9",
   "metadata": {},
   "outputs": [],
   "source": [
    "reachy.mobile_base.turn_on()\n",
    "\n",
    "reachy.mobile_base.reset_odometry()\n",
    "\n",
    "# Move 20 cm forward\n",
    "reachy.mobile_base.goto(x=0.2, y=0.0, theta=0.0)"
   ]
  },
  {
   "cell_type": "code",
   "execution_count": null,
   "id": "c38af9b8",
   "metadata": {},
   "outputs": [],
   "source": [
    "reachy.mobile_base.goto(x=0.2, y=0.0, theta=0)\n"
   ]
  },
  {
   "cell_type": "markdown",
   "id": "a45b5c1d",
   "metadata": {},
   "source": [
    "If you want to move forward again the robot, you need to increase the x value."
   ]
  },
  {
   "cell_type": "code",
   "execution_count": null,
   "id": "d9d9a743",
   "metadata": {},