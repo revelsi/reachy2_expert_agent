"    - **`goto()`**: depending on the parameter entered, you can control either :\n",
    "        - the joint value of each head joint in degrees : *list of  3 values (joint space)*\n",
    "        - the head orientation in the robot frame : *quaternion (cartesian space)*\n",
    "        > Be careful that, between the joint and cartesian spaces, there is a 10-degree difference in pitch : to have the head looking forward, in joint space you have to put rpy = [0,10,0] whereas in cartesian space, it's the equivalent of [0,0,0].\n",
    "    \n",
    "    - **`look_at()`**: you control the head by giving a point in the robot coordinate system the head will look at\n",
    "    - **`rotate_by()`**: you can rotate the head in relation to its current position, by setting roll, pitch and yaw values in degrees, either in relation to the robot's frame of reference or to the head.\n",
    "\n"
   ]
  },
  {
   "attachments": {},
   "cell_type": "markdown",
   "id": "2",
   "metadata": {},
   "source": [
    "## Initialize to your robot"
   ]
  },
  {
   "attachments": {},
   "cell_type": "markdown",
   "id": "3",
   "metadata": {},
   "source": [
    "Connect to your robot:"
   ]
  },
  {
   "cell_type": "code",
   "execution_count": null,
   "id": "4",
   "metadata": {},
   "outputs": [],
   "source": [
    "from reachy2_sdk import ReachySDK\n",
    "import time # used for time.sleep() later in the tutorial\n",
    "\n",