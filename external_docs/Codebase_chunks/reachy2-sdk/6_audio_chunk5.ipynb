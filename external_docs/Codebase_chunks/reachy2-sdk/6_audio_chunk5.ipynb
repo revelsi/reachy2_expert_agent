]
  },
  {
   "cell_type": "code",
   "execution_count": null,
   "id": "6038c1c1",
   "metadata": {},
   "outputs": [],
   "source": [
    "reachy.audio.get_audio_files()"
   ]
  },
  {
   "cell_type": "code",
   "execution_count": 5,
   "id": "89beb16a",
   "metadata": {},
   "outputs": [],
   "source": [
    "reachy.audio.play_audio_file('tutorial.ogg')"
   ]
  },
  {
   "cell_type": "markdown",
   "id": "7cd3afb1",
   "metadata": {},
   "source": [
    "Finally, the audio file can be downloaded to your local machine."
   ]
  },
  {
   "cell_type": "code",
   "execution_count": null,
   "id": "7178c172",
   "metadata": {},
   "outputs": [],
   "source": [
    "reachy.audio.download_audio_file('tutorial.ogg', '<path>')"
   ]
  }
 ],
 "metadata": {
  "kernelspec": {
   "display_name": "sdkv2",
   "language": "python",
   "name": "python3"
  },
  "language_info": {
   "codemirror_mode": {
    "name": "ipython",
    "version": 3
   },
   "file_extension": ".py",
   "mimetype": "text/x-python",
   "name": "python",
   "nbconvert_exporter": "python",
   "pygments_lexer": "ipython3",
   "version": "3.10.15"
  }
 },
 "nbformat": 4,
 "nbformat_minor": 5
}