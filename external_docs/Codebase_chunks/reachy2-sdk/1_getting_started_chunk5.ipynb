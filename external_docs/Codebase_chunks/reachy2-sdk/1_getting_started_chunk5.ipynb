"metadata": {},
   "source": [
    "No action is required; simply close your terminal or notebook!\n",
    "\n",
    "If you need to switch between robots, you can disconnect from one and then connect to another:"
   ]
  },
  {
   "cell_type": "code",
   "execution_count": null,
   "id": "23",
   "metadata": {},
   "outputs": [],
   "source": [
    "reachy.disconnect()\n",
    "\n",
    "reachy = ReachySDK(host='localhost') # connect to a new robot with its IP address"
   ]
  }
 ],
 "metadata": {
  "kernelspec": {
   "display_name": "sdkv2",
   "language": "python",
   "name": "python3"
  },
  "language_info": {
   "codemirror_mode": {
    "name": "ipython",
    "version": 3
   },
   "file_extension": ".py",
   "mimetype": "text/x-python",
   "name": "python",
   "nbconvert_exporter": "python",
   "pygments_lexer": "ipython3",
   "version": "3.10.15"
  }
 },
 "nbformat": 4,
 "nbformat_minor": 5
}