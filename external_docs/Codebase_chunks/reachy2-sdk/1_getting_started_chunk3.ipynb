"metadata": {},
   "outputs": [],
   "source": [
    "reachy.info.battery_voltage"
   ]
  },
  {
   "cell_type": "markdown",
   "id": "13",
   "metadata": {},
   "source": [
    "## Body parts"
   ]
  },
  {
   "cell_type": "markdown",
   "id": "14",
   "metadata": {},
   "source": [
    "Let's take a look at Reachy's body. Reachy's arm has 7 degrees of freedom and one joint for the gripper.\n",
    "\n",
    "The **arm** is divided into the following parts:\n",
    "- **shoulder**, consisting of 2 joints (pitch and roll)\n",
    "- **elbow**, consisting of 2 joints (yaw and pitch)\n",
    "- **wrist**, consisting of 3 joints (roll, pitch, and yaw)\n",
    "\n",
    "We refer to the shoulder, elbow, and wrist as **actuators**. A joint is essentially an axis along which the actuator can rotate.\n",
    "For some actions, such as changing the compliancy, this is the lowest level of control you will have.\n",
    "\n",
    "The head consists of one actuator, the **neck**, with 3 degrees of freedom (joints).\n",
    "\n",
    "The following command lists all available joints:"
   ]
  },
  {
   "cell_type": "code",
   "execution_count": null,
   "id": "15",
   "metadata": {},
   "outputs": [],
   "source": [
    "reachy.joints"
   ]
  },
  {
   "cell_type": "markdown",
   "id": "16",
   "metadata": {},
   "source": [
    "The current and goal positions are also listed (i.e., the present and target angles of the joints).\n",
    "Each body part can be explored individually:"