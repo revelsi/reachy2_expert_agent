"cell_type": "markdown",
   "id": "5",
   "metadata": {},
   "source": [
    "First, connect to your robot.  \n",
    "**Do not forget to import the CameraView!**"
   ]
  },
  {
   "cell_type": "code",
   "execution_count": null,
   "id": "6",
   "metadata": {},
   "outputs": [],
   "source": [
    "from reachy2_sdk.media.camera import CameraView\n",
    "from reachy2_sdk import ReachySDK\n",
    "\n",
    "reachy = ReachySDK(host='localhost')  # Replace with the actual IP"
   ]
  },
  {
   "cell_type": "markdown",
   "id": "7",
   "metadata": {},
   "source": [
    "Check the list of initialized cameras:"
   ]
  },
  {
   "cell_type": "code",
   "execution_count": null,
   "id": "8",
   "metadata": {},
   "outputs": [],
   "source": [
    "reachy.cameras"
   ]
  },
  {
   "cell_type": "markdown",
   "id": "9",
   "metadata": {},
   "source": [
    "The list of initialized cameras should contain both the teleop and depth cameras.  "
   ]
  },
  {
   "cell_type": "markdown",
   "id": "10",
   "metadata": {},
   "source": [
    "### Teleop cameras\n",
    "\n",
    "To get both views of the robot teleop cameras:"
   ]
  },
  {
   "cell_type": "code",
   "execution_count": null,
   "id": "11",
   "metadata": {},
   "outputs": [],
   "source": [
    "l_frame, l_ts = reachy.cameras.teleop.get_frame(CameraView.LEFT)\n",
    "r_frame, r_ts = reachy.cameras.teleop.get_frame(CameraView.RIGHT)"
   ]
  },
  {
   "cell_type": "markdown",
   "id": "12",
   "metadata": {},