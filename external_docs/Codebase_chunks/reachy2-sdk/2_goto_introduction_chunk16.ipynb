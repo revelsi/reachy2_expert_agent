"cell_type": "markdown",
   "id": "58",
   "metadata": {},
   "source": [
    "If you want to modify the queue of goto commands on a part, or interrupt the movement being played, you can cancel goto commands at any time.  "
   ]
  },
  {
   "attachments": {},
   "cell_type": "markdown",
   "id": "59",
   "metadata": {},
   "source": [
    "### Single goto cancellation"
   ]
  },
  {
   "attachments": {},
   "cell_type": "markdown",
   "id": "60",
   "metadata": {},
   "source": [
    "To cancel a single movement, currently playing or stacked in a part's queue, use its id and call `cancel_goto_by_id()` from reachy. It will stop the robot at its current position."
   ]
  },
  {
   "cell_type": "code",
   "execution_count": null,
   "id": "61",
   "metadata": {},
   "outputs": [],
   "source": [
    "reachy.goto_posture('default', wait = True)\n",
    "goto_1 = reachy.l_arm.goto([0, 15, 15, -90, 10, 0, 0], duration = 3)\n",
    "goto_2 = reachy.head.goto([30, 0, 0], duration = 3)\n",
    "\n",
    "time.sleep(1)\n",
    "reachy.cancel_goto_by_id(goto_1)"
   ]
  },
  {
   "attachments": {},
   "cell_type": "markdown",
   "id": "62",
   "metadata": {},
   "source": [
    "### Multiple gotos cancellation"
   ]
  },
  {
   "attachments": {},
   "cell_type": "markdown",
   "id": "63",
   "metadata": {},
   "source": [
    "To cancel all gotos at once, you can call the `cancel_all_goto()` methods.  \n",