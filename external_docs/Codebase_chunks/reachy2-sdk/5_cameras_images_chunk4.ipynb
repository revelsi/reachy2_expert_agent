"source": [
    "The camera parameters, as defined [here](https://docs.ros.org/en/melodic/api/sensor_msgs/html/msg/CameraInfo.html), are also available"
   ]
  },
  {
   "cell_type": "code",
   "execution_count": null,
   "id": "19",
   "metadata": {},
   "outputs": [],
   "source": [
    "height, width, distortion_model, D, K, R, P =  reachy.cameras.teleop.get_parameters(CameraView.LEFT)\n",
    "print(f\"height: {height}\")\n",
    "print(f\"width: {width}\")\n",
    "print(f\"distortion model: {distortion_model}\")\n",
    "print(f\"distortion coefficients {D}\")\n",
    "print(f\"instrinsic matrix {K}\")\n",
    "print(f\"rectification matrix {R}\")\n",
    "print(f\"projection matrix {P}\")"
   ]
  },
  {
   "cell_type": "markdown",
   "id": "20",
   "metadata": {},
   "source": [
    "### Depth camera\n",
    "\n",
    "The depth camera works exactly the same as the teleop camera, but you have more elements captured. In fact, it's a RGBD camera, so you have both access to the RGB image and depth information.\n",
    "\n"
   ]
  },
  {
   "cell_type": "markdown",
   "id": "21",
   "metadata": {},
   "source": [
    "#### RGB images\n",
    "\n",
    "Getting RGB images from the depth camera looks the same as from the teleop one:  simply use `get_frame()`, there is only one view."
   ]
  },
  {
   "cell_type": "code",
   "execution_count": null,
   "id": "22",
   "metadata": {},
   "outputs": [],
   "source": [
    "frame, ts = reachy.cameras.depth.get_frame()"
   ]