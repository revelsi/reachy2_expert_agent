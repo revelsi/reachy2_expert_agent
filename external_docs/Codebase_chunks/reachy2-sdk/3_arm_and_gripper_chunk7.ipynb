},
  {
   "cell_type": "markdown",
   "id": "29",
   "metadata": {},
   "source": [
    "The kinematic model describes the motion of a robot in mathematical form without considering the forces and torque affecting it. It only focuses on the geometric relationship between elements.\n",
    "\n",
    "We have defined the whole kinematic model of the arm. This means the translation and rotation required to go from one joint to the next one. \n",
    "\n",
    "[Long story](https://pollen-robotics.github.io/reachy2-docs/developing-with-reachy-2/basics/4-use-arm-kinematics/) short, there are two types of kinematics:\n",
    "- Forward kinematics: from the joints position, the gripper position is computed in cartesian space\n",
    "- Inverse kinematics: from a given gripper position to reach, all joints positions are computed in joint space\n",
    "\n",
    "> You can easily use forward kinematics and inverse kinematics to switch respectively from joint space to cartesian space and from cartesian space to joint space."
   ]
  },
  {
   "cell_type": "markdown",
   "id": "30",
   "metadata": {},
   "source": [
    "#### Forward Kinematics"
   ]
  },
  {
   "cell_type": "markdown",
   "id": "31",
   "metadata": {},
   "source": [
    "Each arm has a `forward_kinematics` method that computes a 4x4 pose matrix (position and orientation of the gripper in space). For instance, the previous movement left the left elbow at 90°. The position (x, y, z) of the gripper is:"
   ]
  },
  {