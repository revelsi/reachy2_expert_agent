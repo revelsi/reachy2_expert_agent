"metadata": {},
   "source": [
    "#### In joint space\n",
    "\n",
    " You can directly control the joint value of the neck, giving the roll, pitch and yaw angles in degrees. The rotation is made in the order: roll, pitch, yaw, in the Orbita3D coordinate system."
   ]
  },
  {
   "cell_type": "code",
   "execution_count": null,
   "id": "624f4dfe",
   "metadata": {},
   "outputs": [],
   "source": [
    "reachy.head.goto([15, -20, 0], duration=1.0)"
   ]
  },
  {
   "cell_type": "markdown",
   "id": "2b588f71",
   "metadata": {},
   "source": [
    "### Rotate_by()\n",
    "\n",
    "You can also control the head from its current position, by using the *rotate_by* function and specifying angular degree values in roll, pitch, yaw, either in Reachy's or head's frame. \n"
   ]
  },
  {
   "cell_type": "code",
   "execution_count": null,
   "id": "d23ff45f",
   "metadata": {},
   "outputs": [],
   "source": [
    "reachy.head.rotate_by(roll=0, pitch=0, yaw=20, frame='head')\n",
    "\n",
    "reachy.head.rotate_by(roll=-30, pitch=0, yaw=0, frame='robot')"
   ]
  },
  {
   "attachments": {},
   "cell_type": "markdown",
   "id": "21",
   "metadata": {},
   "source": [
    "## Read head position\n",
    "\n",
    "You can read the head positions using : \n",
    "\n",
    "- Cartesian space : \n",
    "> `get_current_orientation()` will give the orientation as a quaternion\n",
    "\n",
    "\n",
    "- Joint space :  \n",