"metadata": {},
   "source": [
    "There are several ways to control the head movements:\n",
    "- using the `look_at()`, `goto` and `rotate_by` methods, called directly at the **head** level. These methods work as in the [goto_introduction](2_goto_introduction.ipynb) example\n",
    "- controlling the joints goal positions, namely **reachy.head.neck.roll**, **reachy.head.neck.pitch** and **reachy.head.neck.yaw**."
   ]
  },
  {
   "attachments": {},
   "cell_type": "markdown",
   "id": "12",
   "metadata": {},
   "source": [
    "### look_at()\n",
    "\n",
    "You can use the `look_at()` function to make the head look at a specific point in space. This point must be given in Reachy 2's coordinate system in **meters**. The coordinate system is the one we have seen previously:\n",
    "\n",
    "* the X axis corresponds to the forward arrow,\n",
    "* the Y axis corresponds to the right to left arrow,\n",
    "* the Z axis corresponds to the up arrow.\n",
    "\n",
    "The origin of this coordinate system is located in the upper part of the robot trunk.\n",
    "\n",
    "If you want Reachy to look forward, you can send it the following."
   ]
  },
  {
   "cell_type": "code",
   "execution_count": null,
   "id": "13",
   "metadata": {},
   "outputs": [],
   "source": [
    "reachy.head.look_at(x=0.5, y=0, z=0.2, duration=1.0, wait = True)"
   ]
  },
  {
   "attachments": {},
   "cell_type": "markdown",
   "id": "14",
   "metadata": {},
   "source": [