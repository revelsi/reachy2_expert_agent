"\n",
    "Let's start with the first part: making Reachy \"sleep\"."
   ]
  },
  {
   "cell_type": "markdown",
   "id": "558ec58f",
   "metadata": {},
   "source": [
    "#### 4.3.1. Asleep part\n",
    "\n",
    "During the asleep sequence, the head of Reachy moves slowly up and down and the arms are outstretched, swinging back and forth. We will implement this sequence first.\n",
    "\n",
    "##### Head movement\n",
    "\n",
    "We will use the *look_at* method to make Reachy's head move up and down. The *look_at* method makes Reachy's head look at a specific point in the robot's frame. We will make Reachy's head look at a point that is above its current position and then below its current position. This will make Reachy's head move up and down.\n",
    "\n",
    "*If you want more details about the mentioned methods, feel free to check the [documentation](https://pollen-robotics.github.io/reachy2-sdk/reachy2_sdk/parts/head.html) !*\n",
    "\n",
    "Let's define a function that makes Reachy's head move up and down. We will call this function `asleep_head`."
   ]
  },
  {
   "cell_type": "code",
   "execution_count": null,
   "id": "aeed105a",
   "metadata": {},
   "outputs": [],
   "source": [
    "def asleep_head(reachy: ReachySDK):\n",
    "    for _ in range(2):\n",
    "        reachy.head.look_at(x=0.50, y=0.0, z=-0.20, duration=2.0, wait=False)\n",
    "        reachy.head.look_at(x=0.50, y=0.0, z=-0.30, duration=2.0, wait=False)\n",
    "\n",