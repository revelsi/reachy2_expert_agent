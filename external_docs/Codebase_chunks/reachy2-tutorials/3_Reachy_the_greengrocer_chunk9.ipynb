"- the images captured by the camera, with *get_data()* \n",
    "- parameters like the camera intrinsic matrix (named K by convention) with *get_K()* for the RGB camera, and *get_depth_K()* for the depth camera. \n",
    "\n",
    "We need to instanciate it, with the SDK client object we instanciated earlier. Then, we are going to print the image captured by the torso camera when you execute the cell. "
   ]
  },
  {
   "cell_type": "code",
   "execution_count": null,
   "metadata": {},
   "outputs": [],
   "source": [
    "from pollen_vision.camera_wrappers.pollen_sdk_camera.pollen_sdk_camera_wrapper import PollenSDKCameraWrapper\n",
    "\n",
    "# instanciation of the camera wrapper\n",
    "r_cam = PollenSDKCameraWrapper(reachy)\n",
    "\n",
    "# get the image as a np.array, and the timestamp of the image\n",
    "data, _, timestamp = r_cam.get_data()\n",
    "\n",
    "# displays the image from the RGB camera (depth camera is available by changing 'left' to 'depth')\n",
    "from PIL import Image\n",
    "img = data['left']\n",
    "Image.fromarray(img) "
   ]
  },
  {
   "cell_type": "markdown",
   "metadata": {},
   "source": [
    "##### **T_reachy_cam**\n",
    "\n",