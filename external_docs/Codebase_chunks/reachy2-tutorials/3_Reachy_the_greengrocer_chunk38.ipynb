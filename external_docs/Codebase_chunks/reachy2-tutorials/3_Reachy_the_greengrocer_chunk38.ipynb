"We use the method *forward_kinematics()* to get the pose of the effector in Reachy's frame, and we make the head look at its position. \n",
    "\n",
    "Make the robot move now : "
   ]
  },
  {
   "cell_type": "code",
   "execution_count": null,
   "metadata": {},
   "outputs": [],
   "source": [
    "actual_pose = arm.forward_kinematics()\n",
    "reachy.head.look_at(actual_pose[0,3], actual_pose[1,3], actual_pose[2,3], 2)"
   ]
  },
  {
   "cell_type": "markdown",
   "metadata": {},
   "source": [
    "That's much better, don't you think ? \n",
    "\n",
    "We are going to define a function for it, to execute it easily, just giving it the ReachySDK and the object we want it to look at as parameters. "
   ]
  },
  {
   "cell_type": "code",
   "execution_count": null,
   "metadata": {},
   "outputs": [],
   "source": [
    "def move_head(reachy: ReachySDK, target_obj: Dict) -> None:\n",
    "    target_pose = target_obj['pose']\n",
    "    reachy.head.look_at(target_pose[0,3], target_pose[1,3], target_pose[2,3], 2)\n",
    "\n",
    "print(\"Function move_head defined.\")"
   ]
  },
  {
   "cell_type": "markdown",
   "metadata": {},
   "source": [
    "So now we have all the building blocks we need to construct a function to link this entire sequence together.\n",
    "\n",
    "Some adjustements have been made for all the moves to work finely together : \n",