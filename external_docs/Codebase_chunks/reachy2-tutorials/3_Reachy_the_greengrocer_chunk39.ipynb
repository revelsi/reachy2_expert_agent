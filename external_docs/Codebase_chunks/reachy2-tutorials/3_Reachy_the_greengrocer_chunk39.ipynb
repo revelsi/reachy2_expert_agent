]
  },
  {
   "cell_type": "markdown",
   "metadata": {},
   "source": [
    "So now we have all the building blocks we need to construct a function to link this entire sequence together.\n",
    "\n",
    "Some adjustements have been made for all the moves to work finely together : \n",
    "- on the grasping movement, we use a blocking parameter (*wait=True*), for the gripper to close only when the effector is at the right place\n",
    "- we wait until the gripper finished to close before raising the arm\n",
    "- we use a blocking parameter also on the last translation for the next moves to wait for the end of all this sequence. "
   ]
  },
  {
   "cell_type": "code",
   "execution_count": null,
   "metadata": {},
   "outputs": [],
   "source": [
    "def move_to_grasp(reachy: ReachySDK, obj_to_catch: Dict, target_side: str) -> None:\n",
    "    print(\"Move sequence to grasp : started.\")\n",
    "\n",
    "    move_head(reachy, obj_to_catch)\n",
    "\n",
    "    grasp_pose = get_goal_pose(obj_to_catch, target_side)\n",
    "    pregrasp_pose = get_pregrasping_pose(grasp_pose, target_side)\n",
    "    \n",
    "    arm = reachy.l_arm if target_side == 'left' else reachy.r_arm\n",
    "    joints_to_pregrasp = arm.inverse_kinematics(pregrasp_pose)\n",
    "    joints_to_grasp = arm.inverse_kinematics(grasp_pose)\n",
    "\n",
    "    move_to_pregrasp_id = arm.goto(joints_to_pregrasp)\n",
    "    move_to_grasp_id = arm.goto(joints_to_grasp, wait=True)\n",