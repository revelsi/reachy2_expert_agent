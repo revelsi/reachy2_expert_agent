"\n",
    "We will gather the different parts of the awake sequence in a single function `awake`."
   ]
  },
  {
   "cell_type": "code",
   "execution_count": null,
   "id": "17eae7f4",
   "metadata": {},
   "outputs": [],
   "source": [
    "def awake(reachy: ReachySDK):\n",
    "    asleep(reachy)\n",
    "    head_awake_sequence(reachy)\n",
    "    arm_swing_and_effector_tracking(reachy)\n",
    "    nod_and_default_posture(reachy)\n",
    "\n",
    "print(\"Function awake defined.\")"
   ]
  },
  {
   "cell_type": "markdown",
   "id": "c7320174",
   "metadata": {},
   "source": [
    "Call the function to see Reachy doing the whole awake sequence!"
   ]
  },
  {
   "cell_type": "code",
   "execution_count": null,
   "id": "5b5ef67b",
   "metadata": {},
   "outputs": [],
   "source": [
    "awake(reachy)"
   ]
  },
  {
   "cell_type": "markdown",
   "id": "04638db9",
   "metadata": {},
   "source": [
    "Well done, we did it, Reachy has woken up ! "
   ]
  },
  {
   "cell_type": "markdown",
   "id": "a46b4360",
   "metadata": {},
   "source": [
    "## 5. Final tips\n",
    "\n",
    "Now, you've learned how to build a sequence on Reachy using only the SDK Client with: \n",
    "- head movements\n",
    "- arms movements\n",
    "- synchronization between Reachy's parts\n",
    "\n",