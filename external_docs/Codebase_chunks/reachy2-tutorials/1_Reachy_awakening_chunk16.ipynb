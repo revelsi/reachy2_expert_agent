"1. **Lift the arms and move them one by one**: here we want to place the arms at 90 degree angle and move them one by one forward and backward. \n",
    "- To lift the arms at 90 degree angle, we will just call the *goto_posture* method which has it as a predefined posture available.\n",
    "- To move the arm, we can use the *translate_by* method : it allows us not to worry about the joints positions needed for this nor getting the appropriate pose matrices for a *goto* call.  We only need to specify the offset from the current pose in the robot's frame that we want to apply to the effector of the arm. </br>\n",
    "\n",
    "\n",
    "2. **Make the head follow the moving arm effector** : as before, we will use the *look_at* method which takes as argument the coordinates x, y, z of a point in the robot's frame. Good news is that we can easily get the coordinates of the effector center in the robot's frame by calling the *forward_kinematics* method of the arm. We will use it to get the coordinates of the moving arm effector and make the head look at this point.\n",
    "\n",
    "And we can define a function `arm_swing_and_effector_tracking` to deal with this entire behavior.\n"
   ]
  },
  {
   "cell_type": "code",
   "execution_count": null,
   "id": "1efebea4",
   "metadata": {},
   "outputs": [],
   "source": [
    "def arm_swing_and_effector_tracking(reachy: ReachySDK):\n",
    "    # Put the arms at 90 degrees angle and wait for it to be done\n",