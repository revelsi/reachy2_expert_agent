"\n",
    "print(\"Function make_no_from_head defined.\")"
   ]
  },
  {
   "cell_type": "markdown",
   "metadata": {},
   "source": [
    "You can try it on Reachy : "
   ]
  },
  {
   "cell_type": "code",
   "execution_count": null,
   "metadata": {},
   "outputs": [],
   "source": [
    "make_no_from_head(reachy)"
   ]
  },
  {
   "cell_type": "markdown",
   "metadata": {},
   "source": [
    "When Reachy can't grasp the fruit, it will make no from head and that's it.\n",
    "\n",
    "But when he can't reach the target object, it will already have the object in the gripper, so it also needs to put it back on the table. So we are going to define a function to organize the sequence :\n",
    "- make no from head\n",
    "- lower the effector \n",
    "- open the gripper\n",
    "- go back to the waiting pose. "
   ]
  },
  {
   "cell_type": "code",
   "execution_count": null,
   "metadata": {},
   "outputs": [],
   "source": [
    "def target_object_unreachable(reachy: ReachySDK, target_side: str) -> None:\n",
    "    make_no_from_head(reachy)\n",
    "    arm = reachy.l_arm if target_side == 'left' else reachy.r_arm\n",
    "    arm.translate_by(0,0,-0.1, wait = True)\n",
    "    arm.gripper.open()\n",
    "    if arm.gripper.is_moving() : \n",
    "        time.sleep(0.1)\n",
    "    get_to_waiting_pose(reachy)\n",
    "\n",
    "print(\"Function target_object_unreachable defined.\")"
   ]
  },
  {
   "cell_type": "markdown",
   "metadata": {},
   "source": [