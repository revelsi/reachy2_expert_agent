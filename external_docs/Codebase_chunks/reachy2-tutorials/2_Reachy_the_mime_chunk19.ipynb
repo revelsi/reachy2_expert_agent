},
  {
   "cell_type": "markdown",
   "metadata": {},
   "source": [
    "Now we just have to do the same with the left arm !\n",
    "So at the same time, we : \n",
    "- open the left gripper\n",
    "- move forward the mobile base\n",
    "- pull the invisible rope with the right arm \n",
    "- move forward the left arm, using a semi-circular trajectory to the left this time\n",
    "\n",
    "Then we close the left gripper. \n",
    "\n",
    "You can do it on your robot : "
   ]
  },
  {
   "cell_type": "code",
   "execution_count": null,
   "metadata": {},
   "outputs": [],
   "source": [
    "#open the left gripper\n",
    "reachy.l_arm.gripper.open()\n",
    "\n",
    "#move the mobile base forward\n",
    "if not fake:\n",
    "    reachy.mobile_base.reset_odometry()\n",
    "    _thread.start_new_thread(reachy.mobile_base.goto, (0.2, 0, 0))\n",
    "\n",
    "#move the right arm to pull the rope\n",
    "reachy.r_arm.translate_by(-0.2, 0, 0, duration=1.5, wait=False)\n",
    "\n",
    "#move the left arm to catch the rope with a semi-circular trajectory\n",
    "reachy.l_arm.send_cartesian_interpolation(\n",
    "    left_extend, duration=1.3, arc_direction=\"left\", precision_distance_xyz=0.2\n",
    ")\n",
    "\n",
    "#close the left gripper\n",
    "reachy.l_arm.gripper.close()"
   ]
  },
  {
   "cell_type": "markdown",
   "metadata": {},
   "source": [