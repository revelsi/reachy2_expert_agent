"\n",
    "#add the security check\n",
    "fake = IP == \"localhost\"\n",
    "\n",
    "if not fake:\n",
    "    res = input(\"Are you sure you want to execute on the real robot ? (y/N)\")\n",
    "    if res.lower() not in [\"y\", \"yes\"]:\n",
    "        print(\"Aborted.\")\n",
    "        exit()\n",
    "\n",
    "#connect to the robot        \n",
    "reachy = ReachySDK(IP)\n",
    "reachy.is_connected()"
   ]
  },
  {
   "cell_type": "markdown",
   "metadata": {},
   "source": [
    "If you are getting the message \"Could not connect to Reachy\", make sure that :\n",
    "-  Reachy is turned on\n",
    "- the reachy2_core.service is running \n",
    "- the IP address is correct. \n",
    "\n",
    "*More info on the debug section of the [sdk documentation](https://pollen-robotics.github.io/reachy2-docs/help/help/recovering/).<br>*"
   ]
  },
  {
   "cell_type": "markdown",
   "metadata": {},
   "source": [
    "### 4.2. Set Reachy ready\n",
    "\n",
    "### 4.2.1. Turn it on\n",
    "\n",
    "Reachy has its motors off by default. So first, we need to turn them on. "
   ]
  },
  {
   "cell_type": "code",
   "execution_count": null,
   "metadata": {},
   "outputs": [],
   "source": [
    "reachy.turn_on()\n",
    "print(f\"Reachy's motors are on : {reachy.is_on()}\")"
   ]
  },
  {
   "cell_type": "markdown",
   "metadata": {},
   "source": [