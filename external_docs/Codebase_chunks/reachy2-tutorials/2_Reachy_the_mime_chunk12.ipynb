"This is what you should see :\n",
    "\n",
    "<p align=\"center\">\n",
    "    <img src=\"images/pull_rope_1.gif\" alt=\"Gif 1\" width=\"30%\">\n",
    "</p>\n",
    "\n",
    "\n",
    "\n",
    "💡 Here, notice that the wait parameter is set to True in our call to *goto*(). \n",
    "\n",
    "> By default, the goto functions are not blocking, as the default value of *wait* is False, that means they're **not blocking calls** and they will execute asynchronously. They are executed in a separate thread, so they won't block the main thread, meaning the next instruction will be executed at the same time. \n",
    "\n",
    "Here, and typically in python, the function you call is **blocking**, meaning we have to wait for it to finish executing before executing the next instruction. That allows us to be sure that the gripper will close only when the arm has finished its movement. Without the addition of the *wait=True* parameter, the gripper would have closed during arm movement. You can change the parameter to see for yourself! "
   ]
  },
  {
   "cell_type": "markdown",
   "metadata": {},
   "source": [
    "Let's move on to the next part. \n",
    "\n",
    "#### 4.3.2. Flexion of the arm\n",
    "\n",
    "Now, we want the right arm to translate along the `x` direction (by 0.2 meters), like if it had grasped a rope and pulled on it. \n",
    "\n",
    "We can use the translate_by() method for that. Go ahead and make the arm move : "
   ]
  },
  {