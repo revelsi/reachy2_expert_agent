"2.    Make sure the torso camera is connected to the bedrock, as that's the one we'll be using here (*it's the one pluged on the outermost USB port*).\n",
    "3.    On the table, place the white plate on the left, then the oranges, the apples and the white bowl, such as the image below. Don't put them too far, Reachy doesn't have expandable arms.\n",
    "4.    You will need good lighting so that objects can be detected.\n",
    "\n",
    "<p align=\"center\"> \n",
    "    <img src=\"images/set_up_tuto_profil.jpg\" alt=\"Image 1\" style=\"width: 22.5%; margin-right: 10px;\"/>\n",
    "    <img src=\"images/set_up_tuto_face.jpg\" alt=\"Image 2\" style=\"width: 40%;\"/>\n",
    "</p>\n",
    "\n"
   ]
  },
  {
   "cell_type": "markdown",
   "metadata": {},
   "source": [
    "When you're all set up, you can move on to the next step."
   ]
  },
  {
   "cell_type": "markdown",
   "metadata": {},
   "source": [
    "## 3. Preview\n",
    "\n",
    "In this tutorial, we'll gradually build the program that will enable Reachy to sort fruit using the SDK Client and Pollen-Vision. This is what it your Reachy will be able to do at the end ! \n",
    "\n",
    "<p align = \"center\"> \n",
    "    <img src=\"images/gif_oranges.gif\" alt=\"Gif 1\" style=\"width: 27.5%; margin-right: 10px;\"/>\n",
    "    <img src=\"images/gif_apple_human.gif\" alt=\"Gif 2\" style=\"width: 40%; \"/>\n",
    "</p>\n",
    "\n",
    "Exciting, isn't it ? So let's get to work !"
   ]
  },
  {