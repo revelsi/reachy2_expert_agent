"\n",
    "> 💡 Note that this function is **blocking**. "
   ]
  },
  {
   "cell_type": "code",
   "execution_count": null,
   "metadata": {},
   "outputs": [],
   "source": [
    "#open the gripper\n",
    "reachy.r_arm.gripper.open()\n",
    "\n",
    "#move the mobile base forward\n",
    "if not fake:\n",
    "    reachy.mobile_base.reset_odometry()\n",
    "    _thread.start_new_thread(reachy.mobile_base.goto, (0.2, 0, 0))\n",
    "\n",
    "#move the left arm to pull the rope\n",
    "reachy.l_arm.translate_by(-0.2, 0, 0, duration=1.5, wait=False)\n",
    "\n",
    "#move the right arm to catch the rope with a semi-circular trajectory\n",
    "reachy.r_arm.send_cartesian_interpolation(\n",
    "    right_extend, duration=1.3, arc_direction=\"right\", precision_distance_xyz=0.1\n",
    ")\n",
    "\n",
    "#close the gripper\n",
    "reachy.r_arm.gripper.close()"
   ]
  },
  {
   "cell_type": "markdown",
   "metadata": {},
   "source": [
    "Look at the trajectory of the right arm !\n",
    "\n",
    "<p align=\"center\">\n",
    "    <img src=\"images/pull_rope_3.gif\" alt=\"Gif 3\" width=\"30%\">\n",
    "</p>"
   ]
  },
  {
   "cell_type": "markdown",
   "metadata": {},
   "source": [
    "Now we just have to do the same with the left arm !\n",
    "So at the same time, we : \n",
    "- open the left gripper\n",
    "- move forward the mobile base\n",
    "- pull the invisible rope with the right arm \n",