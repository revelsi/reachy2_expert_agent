"\n",
    "> You can set your own pose according to your environment, but be aware that there is no limitation to avoid collision between parts of the robot (right arm against left arm, arm against forearm, arm against torso, etc.). So it's your responsability to try the pose on a virtual set-up first or using the forward_kinematics() when you place the body parts where you will want them to be (the robot needs to be compliant for that : you'll have to turn it off).\n",
    "\n",
    "For this tutorial, we will always define first the function, then execute it :"
   ]
  },
  {
   "cell_type": "code",
   "execution_count": null,
   "metadata": {},
   "outputs": [],
   "source": [
    "import time \n",
    "\n",
    "def get_to_waiting_pose(reachy: ReachySDK, duration: float = 2) -> None :\n",
    "    r_arm_move = reachy.r_arm.goto([30,10,-15,-115,0,0,-15], duration)\n",
    "    l_arm_move = reachy.l_arm.goto([30,-10,15,-115,0,0,15], duration)\n",
    "\n",
    "    reachy.r_arm.gripper.open()\n",
    "    reachy.l_arm.gripper.open()\n",
    "\n",
    "    waiting_position = reachy.r_arm.forward_kinematics([30,10,-15,-115,0,0,-15])[:3,3]\n",
    "    head_move = reachy.head.look_at(waiting_position[0]+0.3, 0, waiting_position[2], duration, wait = True)\n",
    "\n",
    "    print(\"Reachy in waiting pose\")\n",
    "\n",
    "print(\"Function get_to_waiting_pose defined.\")"
   ]
  },
  {
   "cell_type": "markdown",
   "metadata": {},
   "source": [