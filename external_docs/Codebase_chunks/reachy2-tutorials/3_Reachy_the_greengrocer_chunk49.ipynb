"For that, we need to construct a loop and that requires to deal first with the unreachability errors that can happen. "
   ]
  },
  {
   "cell_type": "markdown",
   "metadata": {},
   "source": [
    "#### 4.5.1. Manage reachability errors\n",
    "\n",
    "If a fruit or a target object is out of reach for Reachy's arm, there will be an error in the code when you call the inverse_kinematics() with the pose matrix of the object. To deal with that, we are going to add a handling of the exceptions.\n",
    "When an error raises, we want Reachy to notify us that he can't go further. \n",
    "\n",
    "For that, we are gonna add a <code>try/except</code> in the loop and define a function for Reachy to make no from head. "
   ]
  },
  {
   "cell_type": "code",
   "execution_count": null,
   "metadata": {},
   "outputs": [],
   "source": [
    "def make_no_from_head(reachy : ReachySDK)-> None:\n",
    "    print(\"Making a no from the head\")\n",
    "    reachy.head.look_at(x=0.5, y=0.15, z=0.15, duration=1)\n",
    "    reachy.head.look_at(x=0.5, y=-0.15, z=0.15, duration=1)\n",
    "    reachy.head.look_at(x=0.5, y=0.15, z=0.15, duration=1)\n",
    "    reachy.head.look_at(x=0.5, y=0, z=-0.25, duration=1, wait=True)\n",
    "\n",
    "print(\"Function make_no_from_head defined.\")"
   ]
  },
  {
   "cell_type": "markdown",
   "metadata": {},
   "source": [
    "You can try it on Reachy : "
   ]
  },
  {
   "cell_type": "code",
   "execution_count": null,