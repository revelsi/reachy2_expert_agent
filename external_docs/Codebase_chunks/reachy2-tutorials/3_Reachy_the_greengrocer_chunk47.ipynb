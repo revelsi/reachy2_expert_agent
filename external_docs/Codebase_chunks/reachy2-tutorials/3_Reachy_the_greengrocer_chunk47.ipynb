"    print(\"Move sequence to drop : started.\")\n",
    "    \n",
    "    arm = reachy.l_arm if target_side == 'left' else reachy.r_arm\n",
    "    target_obj = plate.copy() if target_side == 'left' else bowl.copy()\n",
    "    \n",
    "    target_obj['pose'][2,3] += 0.15\n",
    "\n",
    "    move_head(reachy, target_obj)\n",
    "    drop_pose = get_goal_pose(target_obj, target_side)\n",
    "    joints_to_drop = arm.inverse_kinematics(drop_pose)\n",
    "    move_to_predrop_id = arm.goto(joints_to_drop)\n",
    "    move_to_drop_id = arm.translate_by(0,0,-0.03, duration = 1, wait = True)\n",
    "\n",
    "    arm.gripper.open()\n",
    "    while arm.gripper.is_moving():\n",
    "        time.sleep(0.1)\n",
    "    arm.translate_by(0,0,0.05, duration = 1, wait = True)\n",
    "\n",
    "    print(\"Move sequence to drop : done\")\n",
    "\n",
    "print(\"Function move_to_drop defined.\")"
   ]
  },
  {
   "cell_type": "markdown",
   "metadata": {},
   "source": [
    "Let's try it ! Place the fruit on the table in front of Reachy. And we'll start from the beginning.\n",
    "Reachy is going to detect the objects, select the closest one, grasp it and drop it in its target object. \n",
    "\n",
    "Make it move now : "
   ]
  },
  {
   "cell_type": "code",
   "execution_count": null,
   "metadata": {},
   "outputs": [],
   "source": [