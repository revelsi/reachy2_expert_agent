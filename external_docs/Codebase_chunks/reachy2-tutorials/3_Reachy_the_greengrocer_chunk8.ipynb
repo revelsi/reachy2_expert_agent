"\n",
    "Then, we can switch from pixels frame to Reachy's frame and get the informations of the objects in the real world frame, using parameters such as the camera intrinsic matrix (that allows to transform pixel coordinates into 3D coordinates from the camera frame) and the transform of the camera in Reachy'sframe (*T_reachy_cam*, which is known and allows to switch from the camera to Reachy's frame of reference). \n"
   ]
  },
  {
   "cell_type": "markdown",
   "metadata": {},
   "source": [
    "#### 4.2.2. How to instanciate it\n",
    "\n",
    "To define it, we need to get all the informations we talked about before : \n",
    "\n",
    "- the intrinsic matrix of the camera, that can be found thanks to the PollenSDKCameraWrapper, a class of pollen-vision that allows to get informations about Reachy's cameras. \n",
    "- the T_reachy_cam\n",
    "- the prediction score threshold for the objects to be considered\n",
    "- the frequency at which we want to perform object detection on the camera frames"
   ]
  },
  {
   "cell_type": "markdown",
   "metadata": {},
   "source": [
    "##### **PollenSDKCameraWrapper**\n",
    "\n",
    "We are going to use this module to get informations about Reachy's camera, such as : \n",
    "- the images captured by the camera, with *get_data()* \n",
    "- parameters like the camera intrinsic matrix (named K by convention) with *get_K()* for the RGB camera, and *get_depth_K()* for the depth camera. \n",
    "\n",