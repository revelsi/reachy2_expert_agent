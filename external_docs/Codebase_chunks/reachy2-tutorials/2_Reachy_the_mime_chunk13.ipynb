"#### 4.3.2. Flexion of the arm\n",
    "\n",
    "Now, we want the right arm to translate along the `x` direction (by 0.2 meters), like if it had grasped a rope and pulled on it. \n",
    "\n",
    "We can use the translate_by() method for that. Go ahead and make the arm move : "
   ]
  },
  {
   "cell_type": "code",
   "execution_count": null,
   "metadata": {},
   "outputs": [],
   "source": [
    "reachy.r_arm.translate_by(-0.2, 0, 0, duration=1.5, wait=False)"
   ]
  },
  {
   "cell_type": "markdown",
   "metadata": {},
   "source": [
    "Great ! Now, we need to make the mobile base move too. \n",
    "\n",
    "#### 4.3.3. Translation of the mobile base\n",
    "\n",
    "We want the mobile base to move forward by the same amount the right arm has moved to create the illusion that Reachy pulled itself. We can use the goto function to do that. Make the mobile base move now (*only on the real robot*): "
   ]
  },
  {
   "cell_type": "code",
   "execution_count": null,
   "metadata": {},
   "outputs": [],
   "source": [
    "if not fake : \n",
    "    reachy.mobile_base.goto(0.2,0,0)"
   ]
  },
  {
   "cell_type": "markdown",
   "metadata": {},
   "source": [
    "#### 4.3.4. Make it work together\n",
    "\n",
    "Now, we need to put all this moves work together at the same time. We want : \n",
    "- one arm to go in position to catch the rope\n",
    "- the other arm to go backwards to pull the rope\n",
    "- the mobile base to go forward\n",
    "\n",