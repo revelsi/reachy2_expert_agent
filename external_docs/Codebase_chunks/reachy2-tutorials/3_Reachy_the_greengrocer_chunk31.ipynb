"\n",
    "- For the rotation :\n",
    "    - we want the effector to be parallel to the ground, so the rotation in y axis is -90° (0 is with effector pointing to the ground).\n",
    "    - we want the effector to orient towards the object. For that, we use the bent_position, meaning the position of the effectors when Reachy has its elbows facing torso, bent at 90°. We will use the angle between the line formed by the forearm in the bent_position and the line between the robot's elbow when facing the torso, and the object to be reached. \n",
    "\n",
    "    <p align=\"center\"><img src=\"images/angle.jpg\" alt=\"Image angle\" style=\"width: 20%; ; margin-right: 10px;\"/></p>\n",
    "\n",
    "This function needs to get the dictionnary of the selected object and the target side, to return the matrix 4x4 of the grasp pose. "
   ]
  },
  {
   "cell_type": "code",
   "execution_count": null,
   "metadata": {},
   "outputs": [],
   "source": [
    "from reachy2_sdk.utils.utils import get_pose_matrix\n",
    "\n",
    "def get_goal_pose(object_pose_dict: Dict, target_side: str) -> npt.NDArray[np.float64]: \n",
    "    #we define the effectors position when the robot has its forearms parallel to the ground\n",
    "    bent_position = np.array([0.38622, 0.22321, -0.27036]) if target_side == 'left' else np.array([0.38622, -0.22321, -0.27036])\n",
    "    \n",
    "    object_pose = np.copy(object_pose_dict['pose'])\n",
    "    \n",