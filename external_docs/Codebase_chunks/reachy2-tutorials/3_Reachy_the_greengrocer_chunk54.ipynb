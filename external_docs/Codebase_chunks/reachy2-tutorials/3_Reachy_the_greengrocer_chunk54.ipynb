"\n",
    "except KeyboardInterrupt:\n",
    "    pass\n"
   ]
  },
  {
   "cell_type": "markdown",
   "metadata": {},
   "source": [
    "Once you have finished detecting fruits, you can stop the loop by pressing the \"interrupt\" button and press \"q\" on the annotated image.\n",
    "\n",
    "Then we are going to make Reachy go step back from the table and going back to a standard pose, to be able to switch off safely.\n",
    "\n",
    "Make it move now : "
   ]
  },
  {
   "cell_type": "code",
   "execution_count": null,
   "metadata": {},
   "outputs": [],
   "source": [
    "reachy.mobile_base.translate_by(-0.2,0)\n",
    "time.sleep(1)\n",
    "reachy.goto_posture('default', duration = 2, wait = True)"
   ]
  },
  {
   "cell_type": "markdown",
   "metadata": {},
   "source": [
    "Then we turn Reachy off smoothly and disconnect from it. "
   ]
  },
  {
   "cell_type": "code",
   "execution_count": null,
   "metadata": {},
   "outputs": [],
   "source": [
    "reachy.turn_off()\n",
    "reachy.disconnect()\n",
    "print(\"Reachy is disconnected.\")"
   ]
  },
  {
   "cell_type": "markdown",
   "metadata": {},
   "source": [
    "Well done, you did it, you have trained a Reachy greengrocer !"
   ]
  },
  {
   "cell_type": "markdown",
   "metadata": {},
   "source": [
    "## 5. Final tips\n",
    "\n",
    "Now, you've learned how to build a sequence on Reachy using the SDK Client and Pollen-Vision : \n",
    "- object detection\n",