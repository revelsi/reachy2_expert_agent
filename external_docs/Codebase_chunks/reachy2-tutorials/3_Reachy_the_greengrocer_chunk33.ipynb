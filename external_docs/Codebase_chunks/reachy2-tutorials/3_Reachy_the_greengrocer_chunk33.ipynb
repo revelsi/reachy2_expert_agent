]
  },
  {
   "cell_type": "code",
   "execution_count": null,
   "metadata": {},
   "outputs": [],
   "source": [
    "grasp_pose = get_goal_pose(closest_object, target_side)\n",
    "print(f'The grasp pose is  :\\n {grasp_pose}')"
   ]
  },
  {
   "cell_type": "code",
   "execution_count": null,
   "metadata": {},
   "outputs": [],
   "source": [
    "reachy.r_arm.forward_kinematics()"
   ]
  },
  {
   "cell_type": "markdown",
   "metadata": {},
   "source": [
    "But if you try to go directly from the waiting pose to the grasp pose, you'll see that sometimes the trajectory may bump into the object, and the movement may need to pass through an intermediate point to reach the fruit optimally. \n",
    "\n",
    "Here, we are going to add a pregrasp pose, meaning a pose that is close to the fruit, to make the next movement easier and more precise to achieve its goal. \n",
    "We set it a few centimeters before the fruit, and we define new function to calculate this pose, from the grasping pose. "
   ]
  },
  {
   "cell_type": "code",
   "execution_count": null,
   "metadata": {},
   "outputs": [],
   "source": [
    "from scipy.spatial.transform import Rotation as R\n",
    "\n",
    "def get_pregrasping_pose(goal_pose: npt.NDArray[np.float64], target_side : str) -> None:\n",
    "    bent_position = np.array([0.38622, 0.22321, -0.27036]) if target_side == 'left' else np.array([0.38622, -0.22321, -0.27036])\n",
    "    pregrasp_pose = goal_pose.copy()\n",
    "\n",