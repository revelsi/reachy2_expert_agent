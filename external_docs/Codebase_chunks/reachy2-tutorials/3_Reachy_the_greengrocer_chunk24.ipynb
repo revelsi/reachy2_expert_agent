"        else : \n",
    "            print(\"Targets not found, new try with the minimal threshold\")\n",
    "        detected_objects = perception.get_objects_infos(detection_threshold)\n",
    "        time.sleep(1.5)\n",
    "        \n",
    "\n",
    "    print(f'{len(detected_objects)} objects detected including {len(objects_to_left)} {obj_to_left}s, {len(objects_to_right)} {obj_to_right}s, {len(left_target)} {left_obj_target} and {len(right_target)} {right_obj_target}.')\n",
    "    \n",
    "    return objects_to_left, objects_to_right, left_target[0], right_target[0]\n",
    "\n",
    "print(\"Function get_selected_objects defined.\")"
   ]
  },
  {
   "cell_type": "markdown",
   "metadata": {},
   "source": [
    "Now, you can execute this function to have the list of dictionnaries of each object type. "
   ]
  },
  {
   "cell_type": "code",
   "execution_count": null,
   "metadata": {},
   "outputs": [],
   "source": [
    "oranges, apples, plate, bowl = get_selected_objects(perception, obj_to_left, obj_to_right, left_obj_target, right_obj_target, detection_threshold)"
   ]
  },
  {
   "cell_type": "markdown",
   "metadata": {},
   "source": [
    "#### 4.4.2. Get the closest fruit to grasp\n",
    "\n",