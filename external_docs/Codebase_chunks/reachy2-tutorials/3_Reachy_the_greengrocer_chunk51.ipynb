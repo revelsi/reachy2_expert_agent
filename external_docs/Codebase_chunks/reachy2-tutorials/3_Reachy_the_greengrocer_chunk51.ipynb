"    arm.gripper.open()\n",
    "    if arm.gripper.is_moving() : \n",
    "        time.sleep(0.1)\n",
    "    get_to_waiting_pose(reachy)\n",
    "\n",
    "print(\"Function target_object_unreachable defined.\")"
   ]
  },
  {
   "cell_type": "markdown",
   "metadata": {},
   "source": [
    "#### 4.5.2. Make the loop\n",
    "\n",
    "So now, we can build the autonomous program !"
   ]
  },
  {
   "cell_type": "markdown",
   "metadata": {},
   "source": [
    "Let's put all together the different functions we define earlier, to make it work autonomously. \n",
    "\n",
    "Until you press the 'interrupt' button, the program will : \n",
    "- detect the objects, with the detection threshold you set (*be careful, it waits to detect the two target objects before moving*)\n",
    "- select the closest fruit if there is still fruit to grasp\n",
    "- move to grasp pose, unless it's not reachable (Reachy will make no from head and go back to the loop beginning)\n",
    "- move to drop pose, unless it's not reachable (it will drop back the fruit and make no from head before getting back to its waiting position)\n",
    "- get back to its waiting position and do it again\n",
    "\n",
    "If there is no fruit left, the program will wait until you interrupt it. \n",
    "\n",
    "\n",
    "**So you can try different things :**\n",
    "> - give a fruit to the robot and wait for it to grasp it. \n",
    "> - put a fruit far from the robot,\n",