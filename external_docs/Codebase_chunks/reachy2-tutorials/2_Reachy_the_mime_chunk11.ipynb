"execution_count": null,
   "metadata": {},
   "outputs": [],
   "source": [
    "from reachy2_sdk.utils.utils import rotate_in_self\n",
    "\n",
    "right_extend = right_start_pose.copy()\n",
    "# Translate by 0.1m in the absolute x direction and by 0.2m in the absolute y direction\n",
    "right_extend[:3, 3] += [0.1, 0.2, 0.0] \n",
    "# Rotate the end effector by 60° around y and -90° around z in the gripper's frame\n",
    "right_extend = rotate_in_self(right_extend, [0, 60, -90]) \n"
   ]
  },
  {
   "cell_type": "markdown",
   "metadata": {},
   "source": [
    "Now we have our goal pose, let's Reachy make the move to reach it and when the move is done, close the gripper :"
   ]
  },
  {
   "cell_type": "code",
   "execution_count": null,
   "metadata": {},
   "outputs": [],
   "source": [
    "reachy.r_arm.goto(right_extend, duration=1.5, wait=True)\n",
    "reachy.r_arm.gripper.close()"
   ]
  },
  {
   "cell_type": "markdown",
   "metadata": {},
   "source": [
    "This is what you should see :\n",
    "\n",
    "<p align=\"center\">\n",
    "    <img src=\"images/pull_rope_1.gif\" alt=\"Gif 1\" width=\"30%\">\n",
    "</p>\n",
    "\n",
    "\n",
    "\n",
    "💡 Here, notice that the wait parameter is set to True in our call to *goto*(). \n",
    "\n",