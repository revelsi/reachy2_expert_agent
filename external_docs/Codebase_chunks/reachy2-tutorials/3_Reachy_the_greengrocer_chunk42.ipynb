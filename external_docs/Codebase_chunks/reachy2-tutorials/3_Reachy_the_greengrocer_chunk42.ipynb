"\n",
    "The first step is to determine the drop pose. To do that, we are gonna use the centroid of the target object, that we determined thanks to the target_side of the closest object. \n",
    "\n",
    "As we want it to drop the fruit on the object, and not catch the object, we are going to virtually increase the z value of the centroid, for the effector to get on top of the object and to avoid any collision. Here, we add 15 cm. \n",
    "> Of course, it will depend on the type of object you're using (something rather flat or hollow), you can adjust the value it yourself after testing it. "
   ]
  },
  {
   "cell_type": "code",
   "execution_count": null,
   "metadata": {},
   "outputs": [],
   "source": [
    "# set the arm and the target object depending on the side of the target\n",
    "arm = reachy.l_arm if target_side == 'left' else reachy.r_arm\n",
    "target_obj = plate.copy() if target_side == 'left' else bowl.copy()\n",
    "\n",
    "#raise virtually the target object by 15cm\n",
    "target_obj['pose'][2,3] += 0.15 \n",
    "\n",
    "print(f\"{target_obj['name']} at {target_obj['pose'][:3,3]}\")"
   ]
  },
  {
   "cell_type": "markdown",
   "metadata": {},
   "source": [
    "We make Reachy look at its new target, with the function *move_head* that we defined ealier. \n",
    "\n",
    "Make it move now : "
   ]
  },
  {
   "cell_type": "code",
   "execution_count": null,
   "metadata": {},
   "outputs": [],
   "source": [