]
  },
  {
   "cell_type": "code",
   "execution_count": null,
   "id": "1efebea4",
   "metadata": {},
   "outputs": [],
   "source": [
    "def arm_swing_and_effector_tracking(reachy: ReachySDK):\n",
    "    # Put the arms at 90 degrees angle and wait for it to be done\n",
    "    reachy.goto_posture(\"elbow_90\", wait=True)\n",
    "\n",
    "    for arm in [reachy.l_arm, reachy.r_arm]:\n",
    "        x, y, z = arm.forward_kinematics()[:3, 3]\n",
    "        # The first look_at has a longer duration to avoid a sudden head movement\n",
    "        reachy.head.look_at(x=x, y=y, z=z, duration=1.5, wait=True)\n",
    "\n",
    "        arm.translate_by(x=0.2, y=0.0, z=0.1, wait=False) \n",
    "        arm.translate_by(x=-0.2, y=0.0, z=-0.1, wait=False)\n",
    "        arm.translate_by(x=0.2, y=0.0, z=0.1, wait=False)\n",
    "        last_gotoid = arm.translate_by(x=-0.2, y=0.0, z=-0.1, wait=False)\n",
    "\n",
    "        # while the arm is moving, the head is tracking the effector\n",
    "        while not reachy.is_goto_finished(last_gotoid):\n",
    "            x, y, z = arm.forward_kinematics()[:3, 3]\n",
    "            reachy.head.look_at(x=x, y=y, z=z, duration=0.05, wait = True, interpolation_mode='linear')  # head tracking the effector at 20Hz\n",
    "\n",
    "        reachy.head.look_at(x=0.5, y=0.0, z=0.0, duration=1.0, wait = True)\n",
    "\n",
    "print(\"Function arm_swing_and_effector_tracking defined.\")"
   ]
  },
  {