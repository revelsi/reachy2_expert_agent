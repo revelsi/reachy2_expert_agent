"                \n",
    "                closest_object = obj\n",
    "                min_dist = dist_with_effector\n",
    "                side = side_name\n",
    "\n",
    "    closest_object, side = [], None\n",
    "    min_dist = np.inf\n",
    "    fruit_radius = 0.02\n",
    "\n",
    "    #Get position of the end effectors\n",
    "    position_l_effector = reachy.l_arm.forward_kinematics()\n",
    "    position_r_effector = reachy.r_arm.forward_kinematics()\n",
    "    \n",
    "    #if the containers are detected, we look for the closest object with its relative effector\n",
    "    if left_target : \n",
    "        find_closest(obj_to_left, position_l_effector, 'left')\n",
    "\n",
    "    if right_target:\n",
    "        find_closest(obj_to_right, position_r_effector, 'right')\n",
    "\n",
    "    if closest_object:\n",
    "        print(f\"Closest fruit is {closest_object['name']} at the coordinates {closest_object['pose'][:3,3]}\")\n",
    "    else: \n",
    "        print(\"No fruit detected in the workspace\")\n",
    "\n",
    "    return closest_object, side\n",
    "\n",
    "print(\"Function get_closest_object defined.\")"
   ]
  },
  {
   "cell_type": "markdown",
   "metadata": {},
   "source": [
    "Now it's your turn to determine which fruit is the closest : "
   ]
  },
  {
   "cell_type": "code",
   "execution_count": null,
   "metadata": {},
   "outputs": [],
   "source": [
    "former_object = []\n",