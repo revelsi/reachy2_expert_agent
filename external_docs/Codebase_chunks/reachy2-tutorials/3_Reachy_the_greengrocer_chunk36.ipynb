"> Execute the cell below only if you had an error above and you moved the fruits. (*select all the cell and press Ctrl + K + U*)"
   ]
  },
  {
   "cell_type": "code",
   "execution_count": null,
   "metadata": {},
   "outputs": [],
   "source": [
    "# oranges, apples, plate, bowl = get_selected_objects(perception, obj_to_left, obj_to_right, left_obj_target, right_obj_target, detection_threshold)\n",
    "# closest_object, target_side = get_closest_object(reachy, former_object, oranges, apples, plate, bowl, 0.15)\n",
    "# grasp_pose = get_goal_pose(closest_object, target_side)\n",
    "# pregrasp_pose = get_pregrasping_pose(grasp_pose, target_side)\n",
    "\n",
    "# arm = reachy.l_arm if target_side == 'left' else reachy.r_arm\n",
    "# joints_to_pregrasp = arm.inverse_kinematics(pregrasp_pose)\n",
    "# joints_to_grasp = arm.inverse_kinematics(grasp_pose)\n",
    "# print(f\"Joints to pregrasp : {joints_to_pregrasp}\\n Joints to grasp : {joints_to_grasp}\")"
   ]
  },
  {
   "cell_type": "markdown",
   "metadata": {},
   "source": [
    "Then, we give Reachy the command, thanks to the SDK method *goto()*: \n",
    "- first, it will go the pregrasp pose\n",
    "- then, to the grasp pose\n",
    "\n",
    "Make the robot move now : "
   ]
  },
  {
   "cell_type": "code",
   "execution_count": null,
   "metadata": {},
   "outputs": [],
   "source": [
    "move_to_pregrasp_id = arm.goto(joints_to_pregrasp, duration = 2)\n",