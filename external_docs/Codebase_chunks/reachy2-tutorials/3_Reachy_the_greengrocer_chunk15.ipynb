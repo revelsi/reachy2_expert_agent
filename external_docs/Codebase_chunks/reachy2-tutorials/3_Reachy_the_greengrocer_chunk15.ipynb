"obj_to_left, obj_to_right = \"orange ball\", \"apple\"\n",
    "\n",
    "perception.set_tracked_objects([obj_to_left, obj_to_right, left_obj_target, right_obj_target])\n",
    "perception.start(visualize=True)"
   ]
  },
  {
   "cell_type": "markdown",
   "metadata": {},
   "source": [
    "You have now a window with the camera view and the detected objects. The Perception part is now on.\n",
    "\n",
    "> *If you didn't get the new window, the notebook crashed unfortunately. Please restart your kernel and execute again the cells above.*"
   ]
  },
  {
   "cell_type": "markdown",
   "metadata": {},
   "source": [
    "### 4.3. Set Reachy ready"
   ]
  },
  {
   "cell_type": "markdown",
   "metadata": {},
   "source": [
    "We want Reachy to be in front of the table where there are the fruits, in a position that allows it to access the table without obstructing its camera's view. "
   ]
  },
  {
   "cell_type": "markdown",
   "metadata": {},
   "source": [
    "Reachy has its motors off by default. So first, we need to turn them on. \n",
    "\n",
    "> Put Reachy in a safe environment, with no one in reachable space and no obstacles, and with someone who has the emergency stop button nearby. \n",
    "\n",
    "If you have followed the set-up correctly, Reachy is normally positioned facing the table, 20 cm backwards. So now, we turn it on and put it on its default pose (head and arms straight)."
   ]
  },
  {
   "cell_type": "code",
   "execution_count": null,