"Reachy is going to detect the objects, select the closest one, grasp it and drop it in its target object. \n",
    "\n",
    "Make it move now : "
   ]
  },
  {
   "cell_type": "code",
   "execution_count": null,
   "metadata": {},
   "outputs": [],
   "source": [
    "oranges, apples, plate, bowl = get_selected_objects(perception, obj_to_left, obj_to_right, left_obj_target, right_obj_target, detection_threshold)\n",
    "closest_object, target_side = get_closest_object(reachy, former_object, oranges, apples, plate, bowl, 0.15)\n",
    "move_to_grasp(reachy, closest_object, target_side)\n",
    "move_to_drop(reachy, target_side)"
   ]
  },
  {
   "cell_type": "markdown",
   "metadata": {},
   "source": [
    "#### 4.4.5. Get back to the waiting position\n",
    "\n",
    "We only have to use our function : "
   ]
  },
  {
   "cell_type": "code",
   "execution_count": null,
   "metadata": {},
   "outputs": [],
   "source": [
    "get_to_waiting_pose(reachy, duration = 3)"
   ]
  },
  {
   "cell_type": "markdown",
   "metadata": {},
   "source": [
    "### 4.5. Make it work autonomously\n",
    "\n",
    "We have all our functions working. Now we want Reachy to do all of this sequence autonomously, and sort fruits until there are none left. \n",
    "For that, we need to construct a loop and that requires to deal first with the unreachability errors that can happen. "
   ]
  },
  {
   "cell_type": "markdown",
   "metadata": {},
   "source": [