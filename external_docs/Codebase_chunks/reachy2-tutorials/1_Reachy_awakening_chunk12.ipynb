"id": "328e9160",
   "metadata": {},
   "outputs": [],
   "source": [
    "def asleep(reachy: ReachySDK):\n",
    "    asleep_head(reachy)\n",
    "    asleep_arms(reachy)\n",
    "\n",
    "print(\"Function asleep defined.\")"
   ]
  },
  {
   "cell_type": "markdown",
   "id": "b44a15ac",
   "metadata": {},
   "source": [
    "Let's try the function! You should see both sequence for the head and the arms running simultaneously."
   ]
  },
  {
   "cell_type": "code",
   "execution_count": null,
   "id": "6dc4d88e",
   "metadata": {},
   "outputs": [],
   "source": [
    "reachy.goto_posture(\"default\", wait=True)\n",
    "\n",
    "asleep(reachy)"
   ]
  },
  {
   "cell_type": "markdown",
   "id": "73a2a429",
   "metadata": {},
   "source": [
    "> 💡 One important thing to notice is that in order to make the movements of the head and arms synchronized, we need NOT to wait for the end of the movements of the head when we start the movements of the arms (hence the *wait=False* argument in the *look_at* calls). \n",
    "> Same goes for the arms, if we wait for the end of the movement, let's say of the left arm before starting the right arm, the movements will be desynchronized.\n",
    "Calling the *look_at* and *goto* methods with *wait=False* will load the movements in the goto queue of the SDK which will run them one by one sequentially for each part (left arm, right arm and head).\n",
    "\n",