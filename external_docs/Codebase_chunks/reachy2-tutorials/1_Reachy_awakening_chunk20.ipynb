"    reachy.l_arm.goto_posture(\"default\")\n",
    "    reachy.r_arm.goto_posture(\"default\", wait=True)\n",
    "\n",
    "print(\"Function nod_and_default_posture defined.\")"
   ]
  },
  {
   "cell_type": "markdown",
   "id": "b53607f3",
   "metadata": {},
   "source": [
    "Now, you can try the function on the robot :"
   ]
  },
  {
   "cell_type": "code",
   "execution_count": null,
   "id": "934203f5",
   "metadata": {},
   "outputs": [],
   "source": [
    "nod_and_default_posture(reachy)"
   ]
  },
  {
   "cell_type": "markdown",
   "id": "b910672d",
   "metadata": {},
   "source": [
    "Perfect ! So now we have all the building blocks we need to construct a function to link this entire sequence together. Let's do it !"
   ]
  },
  {
   "cell_type": "markdown",
   "id": "a170733d",
   "metadata": {},
   "source": [
    "### 4.4. Put it all together\n",
    "\n",
    "Now that we have implemented each behavior separately, it's time to compose them to make the full awake sequence!\n",
    "\n",
    "The sequence is just a composition of the different behaviors we implemented and each behavior will be executed sequentially. We will call the functions we defined in the right order to make Reachy do the awake sequence.\n",
    "\n",
    "We will gather the different parts of the awake sequence in a single function `awake`."
   ]
  },
  {
   "cell_type": "code",
   "execution_count": null,
   "id": "17eae7f4",
   "metadata": {},
   "outputs": [],
   "source": [