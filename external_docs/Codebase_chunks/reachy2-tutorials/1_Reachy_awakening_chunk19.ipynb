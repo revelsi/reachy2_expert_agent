]
  },
  {
   "cell_type": "code",
   "execution_count": null,
   "id": "dd587f66",
   "metadata": {},
   "outputs": [],
   "source": [
    "arm_swing_and_effector_tracking(reachy)"
   ]
  },
  {
   "cell_type": "markdown",
   "id": "2291a9b0",
   "metadata": {},
   "source": [
    "That's working ! Now, we can move on to the last part of our sequence. "
   ]
  },
  {
   "cell_type": "markdown",
   "id": "8e1a1123",
   "metadata": {},
   "source": [
    "#### 4.3.4. Nodding and getting back to the default posture\n",
    "\n",
    "To finish, Reachy nods with its head and gets back to the default posture.\n",
    "\n",
    "We will define a function `nod_and_default_posture` for this behavior.\n",
    "To make the nodding part, we will use the *look_at()* method as before. To get back to the default position, we will use the *goto_posture()* method that we also used before in this project."
   ]
  },
  {
   "cell_type": "code",
   "execution_count": null,
   "id": "488f73df",
   "metadata": {},
   "outputs": [],
   "source": [
    "def nod_and_default_posture(reachy):\n",
    "    reachy.head.look_at(0.5, 0.0, -0.2, 1.0)\n",
    "    reachy.head.look_at(0.5, 0.0, 0.0, 0.5, wait=True)\n",
    "    reachy.l_arm.goto_posture(\"default\")\n",
    "    reachy.r_arm.goto_posture(\"default\", wait=True)\n",
    "\n",
    "print(\"Function nod_and_default_posture defined.\")"
   ]
  },
  {
   "cell_type": "markdown",
   "id": "b53607f3",
   "metadata": {},
   "source": [