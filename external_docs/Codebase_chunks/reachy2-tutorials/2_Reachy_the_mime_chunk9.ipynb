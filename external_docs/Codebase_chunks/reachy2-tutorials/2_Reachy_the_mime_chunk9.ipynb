]
  },
  {
   "cell_type": "code",
   "execution_count": null,
   "metadata": {},
   "outputs": [],
   "source": [
    "# Save current effector poses \n",
    "right_start_pose = reachy.r_arm.forward_kinematics()\n",
    "left_start_pose = reachy.l_arm.forward_kinematics()\n",
    "\n",
    "print(f\"Right arm start pose:\\n {right_start_pose} \\nLeft arm start pose:\\n {left_start_pose}\")"
   ]
  },
  {
   "cell_type": "markdown",
   "metadata": {},
   "source": [
    "For reference, these are the frames we'll be working with : \n",
    "\n",
    "<p align=\"center\">\n",
    "  <img src=\"images/frame_reachy_default_pose.png\" alt=\"Screenshot 1\" width=\"300\"/>\n",
    "  <img src=\"images/frame_reachy_elbow90_pose.png\" alt=\"Screenshot 2\" width=\"300\"/>\n",
    "</p>\n",
    "\n",
    "We consider the origin of the world to be Reachy's torso. So when we say we translate or rotate in \"absolute\", it means relative to Reachy's torso frame. \n",
    "\n",
    "> 💡 One important thing to notice is the gripper frames. You can see that they are oriented the same way as the torso when the arms are in the **default** position, meaning along the body. Now look at what happens when we set the arms at 90° : forward is `-z`, right is `-y` and up is `+x`. This can be a little counter intuitive when computing poses in the gripper's reference frame, so keep that in mind!"
   ]
  },
  {
   "cell_type": "markdown",
   "metadata": {},
   "source": [