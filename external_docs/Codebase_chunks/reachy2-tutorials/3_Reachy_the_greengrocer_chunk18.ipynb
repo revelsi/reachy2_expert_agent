"\n",
    "    print(\"Reachy in waiting pose\")\n",
    "\n",
    "print(\"Function get_to_waiting_pose defined.\")"
   ]
  },
  {
   "cell_type": "markdown",
   "metadata": {},
   "source": [
    "Make the robot move now : "
   ]
  },
  {
   "cell_type": "code",
   "execution_count": null,
   "metadata": {},
   "outputs": [],
   "source": [
    "get_to_waiting_pose(reachy, duration = 3) #each move will take 3 seconds to be done, all in the same time. \n"
   ]
  },
  {
   "cell_type": "markdown",
   "metadata": {},
   "source": [
    "Now we are going to move Reachy forward to the edge of the table, by controlling the mobile base. We can either :\n",
    "-  **use the *goto* method**: we ask it to move 0.2m forward from its reference frame. \n",
    "\n",
    "Be aware that this frame is set at the start-up of the robot (so when you press the start button on the mobile base station), and not when you connect to the robot. Be careful, the reference frame doesn't update, unless you call yourself the function *reachy.mobile.reset_odometry()*. That means that if you want to move again 0.2m forward after the first move, you will have to set the command with x = 0.2 + 0.2 = 0.4m. So, to be sure the reference frame is well set, we can call the reset_odometry before sending the command. \n",
    "\n",
    "- **use the *translate_by* method** : we ask it to move 0.2m forward from its actual position. \n",
    "\n",