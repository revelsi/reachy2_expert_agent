"\n",
    "Two requirements :\n",
    "- Your computer needs to be on the same network as the robot.\n",
    "- You need to know your Reachy's IP : to do so, you have two options : \n",
    "    - you can check it on the dashboard (*.local_IP_adress_of_your_robot:8000*), section Network. \n",
    "    - you can have a look at the small screen on Reachy's back, that will show you one at a time its Ethernet and its Wifi IP. \n",
    "\n",
    "Now, let's connect to it."
   ]
  },
  {
   "cell_type": "code",
   "execution_count": null,
   "id": "1686373e-3b8b-4865-8672-c55f784dd1b3",
   "metadata": {},
   "outputs": [],
   "source": [
    "#import the package\n",
    "from reachy2_sdk import ReachySDK\n",
    "\n",
    "#connect to the robot\n",
    "reachy = ReachySDK(host=\"localhost\")  # replace 'localhost' with the actual IP address of your Reachy\n",
    "print(\"Reachy is connected :\", reachy.is_connected())"
   ]
  },
  {
   "cell_type": "markdown",
   "id": "d7184992",
   "metadata": {},
   "source": [
    "If you are getting the message \"Could not connect to Reachy\", make sure that :\n",
    "-  Reachy is turned on\n",
    "- the reachy2_core.service is running \n",
    "- the IP address is correct. \n",
    "\n",
    "*More info on the debug section of the [sdk documentation](https://pollen-robotics.github.io/reachy2-docs/help/help/recovering/).<br>*"
   ]
  },
  {
   "cell_type": "markdown",
   "id": "75a19efe",
   "metadata": {},
   "source": [