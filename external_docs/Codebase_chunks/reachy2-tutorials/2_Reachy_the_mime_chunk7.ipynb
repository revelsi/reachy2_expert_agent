"    \n",
    "For example, let's say we just powered the robot. The position of the mobile base is currently `x = 0, y = 0, theta = 0`, `(0, 0, 0)`. \n",
    "    \n",
    "Now if we call `reachy.mobile_base.goto(0.2, 0, 0)`, after the robot has moved, its position is `(0.2, 0, 0)`. If we call `reachy.mobile_base.goto(0.2, 0, 0)` again, nothing will happen because Reachy is already at this position. \n",
    "    \n",
    "Now if we call `reachy.mobile_base.reset_odometry()`, it will reset the mobile base's position, meaning its position is now `(0, 0, 0)` again, without moving the mobile base. Its new origin is the current position.\n",
    "    \n",
    "To be safe, we always call `reset_odometry()` before running our code here, because we may not know how the mobile base moved before. \n",
    "\n",
    "\n",
    "#### Translate_by / rotate_by methods: \n",
    "\n",
    "You are safe, the reference position is always Reachy's current position.\n"
   ]
  },
  {
   "cell_type": "markdown",
   "metadata": {},
   "source": [
    "Now that Reachy is on, we are going to reset the odometry to be sure (only if you are on the real robot and not the fake one) : "
   ]
  },
  {
   "cell_type": "code",
   "execution_count": null,
   "metadata": {},
   "outputs": [],
   "source": [
    "if not fake :\n",
    "    reachy.mobile_base.reset_odometry()"
   ]
  },
  {
   "cell_type": "markdown",
   "metadata": {},
   "source": [
    "#### 4.2.3. Set the initial position\n",
    "\n",