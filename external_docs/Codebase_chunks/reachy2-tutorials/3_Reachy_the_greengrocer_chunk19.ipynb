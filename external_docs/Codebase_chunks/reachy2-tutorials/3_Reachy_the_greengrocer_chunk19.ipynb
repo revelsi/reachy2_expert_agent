"\n",
    "- **use the *translate_by* method** : we ask it to move 0.2m forward from its actual position. \n",
    "\n",
    "This second method seems safer in our case, so you can make the robot move now : "
   ]
  },
  {
   "cell_type": "code",
   "execution_count": null,
   "metadata": {},
   "outputs": [],
   "source": [
    "reachy.mobile_base.reset_odometry()\n",
    "reachy.mobile_base.translate_by(x= 0.2, y=0.0)"
   ]
  },
  {
   "cell_type": "markdown",
   "metadata": {},
   "source": [
    "If Reachy is not close enough to the table, you can adjust yourself by calling again the *translate_by* method, or turn it off (<code>reachy.mobile_base.turn_off()</code>) and move the robot yourself to the right place. \n",
    "\n",
    "Now, it's set for its grasping task. Let's see how we can deal with it !"
   ]
  },
  {
   "cell_type": "markdown",
   "metadata": {},
   "source": [
    "### 4.4. Construct our program\n",
    "\n",
    "We need to construct the program that will make Reachy sort the fruits. \n",
    "\n",
    "For that, we need it to:  \n",
    "1.    Detect the specific objects\n",
    "3.    Determine the closest object to the corresponding effector (left one for the oranges, right one for the apples)\n",
    "4.    Make the corresponding arm move to the closest fruit et grasp it\n",
    "5.    Make it go above the target object (the plate for the oranges, the bowl for the apples) and drop it\n",
    "6.    Go back to its waiting pose. \n",
    "\n",