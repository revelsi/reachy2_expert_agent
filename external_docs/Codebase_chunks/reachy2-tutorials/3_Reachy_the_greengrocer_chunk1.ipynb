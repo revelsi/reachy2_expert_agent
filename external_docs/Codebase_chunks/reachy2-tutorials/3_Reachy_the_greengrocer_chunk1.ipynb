{
 "cells": [
  {
   "cell_type": "markdown",
   "metadata": {},
   "source": [
    "# Tutorial n°3 - SDK & Pollen-Vision : Reachy the greengrocer"
   ]
  },
  {
   "cell_type": "markdown",
   "metadata": {},
   "source": [
    "In this tutorial, we will learn how to do tasks with Reachy using :\n",
    "- the SDK client to make it move,\n",
    "- the module pollen-vision to use object detection in its environment. \n",
    "\n",
    "Here, we are going to ask Reachy to sort fruits on a table and to drop them in user-defined places, according to which fruit it is. \n",
    "\n",
    "What you will learn : \n",
    "- How to do object detection\n",
    "- How to switch from the image frame to the robot frame\n",
    "- How to make Reachy move according to what it sees"
   ]
  },
  {
   "cell_type": "markdown",
   "metadata": {},
   "source": [
    "## 1. Prerequisites\n",
    "\n",
    "To use the SDK client and pollen-vision, you first need to install them. If it is not the case, checkout the section below 👇\n",
    "<details>\n",
    "\n",
    "<summary>Install the Python library reachy2-sdk</summary>\n",
    "\n",
    "In general, you'd better **work in a virtual environment**. You have 2 different ways to install the sdk : \n",
    "- by running the following command:\n",
    "\n",
    "<code>\n",
    "pip install reachy2-sdk -e .\n",
    "</code>\n",
    "\n",