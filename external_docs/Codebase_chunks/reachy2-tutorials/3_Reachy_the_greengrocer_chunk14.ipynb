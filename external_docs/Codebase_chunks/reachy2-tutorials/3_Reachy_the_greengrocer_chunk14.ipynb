]
  },
  {
   "cell_type": "markdown",
   "metadata": {},
   "source": [
    "#### 4.2.3. Instanciation\n",
    "\n",
    "Now we have all the elements to instanciate the Perception object : the CameraWrapper, the T_reachy_cam, the frequency of detection and the detection threshold."
   ]
  },
  {
   "cell_type": "code",
   "execution_count": null,
   "metadata": {},
   "outputs": [],
   "source": [
    "from pollen_vision.perception import Perception\n",
    "\n",
    "perception = Perception(r_cam, T_reachy_cam, freq=40, yolo_thres=0.2)\n",
    "\n",
    "print(\"The Perception object is created.\")"
   ]
  },
  {
   "cell_type": "markdown",
   "metadata": {},
   "source": [
    "And now, we can start the objects detection and the tracking: we start by setting the tracked objects, then we launch it. \n",
    "\n",
    "You can display the image from the camera continuously, together with the objects detected, their bounding boxes and their masks, the prediction scores and their centroids, thanks to the \"visualize=True\"."
   ]
  },
  {
   "cell_type": "code",
   "execution_count": null,
   "metadata": {},
   "outputs": [],
   "source": [
    "left_obj_target, right_obj_target = \"white plate\", \"white bowl\"\n",
    "obj_to_left, obj_to_right = \"orange ball\", \"apple\"\n",
    "\n",
    "perception.set_tracked_objects([obj_to_left, obj_to_right, left_obj_target, right_obj_target])\n",
    "perception.start(visualize=True)"
   ]
  },
  {
   "cell_type": "markdown",