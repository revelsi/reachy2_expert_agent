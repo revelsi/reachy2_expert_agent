"\n",
    "There are different methods available to make Reachy's arms move: *goto* (with the list of joint positions or the goal pose of the effector), *translate_by* and *rotate_by*. Depending on the movement you want to achieve, you will prefer one over the others.\n",
    "\n",
    "There, we want Reachy's arms to swing back and forth, standing straight on each side of the torso. \n",
    "\n",
    "The simplest way to do it is to place the arms in the default posture, get the current positions of the arms' joints and change the articular value of the shoulder pitch joint, by using the *goto* method. As you learned in the [SDK example](https://github.com/pollen-robotics/reachy2-sdk/blob/develop/src/examples/3_arm_and_gripper.ipynb), the list of joints is as follow : [shoulder pitch, shoulder roll, elbow yaw, elbow pitch, wrist roll, wrist pitch, wrist yaw], so we will change the first value of the list.\n",
    "\n",
    "Let's define a function that makes Reachy's arms swing back and forth. We will call this function `asleep_arms`."
   ]
  },
  {
   "cell_type": "code",
   "execution_count": null,
   "id": "f5cb3122",
   "metadata": {},
   "outputs": [],
   "source": [
    "def asleep_arms(reachy: ReachySDK):\n",
    "    #first, define goal pitch positions for the left arm\n",
    "    jpl = reachy.l_arm.get_current_positions() # Considering the arms are in the default position\n",
    "    jpl_front = jpl.copy()\n",
    "    jpl_front[0] += 6.0\n",