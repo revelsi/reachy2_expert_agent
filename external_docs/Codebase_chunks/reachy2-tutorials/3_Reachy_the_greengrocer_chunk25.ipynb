"oranges, apples, plate, bowl = get_selected_objects(perception, obj_to_left, obj_to_right, left_obj_target, right_obj_target, detection_threshold)"
   ]
  },
  {
   "cell_type": "markdown",
   "metadata": {},
   "source": [
    "#### 4.4.2. Get the closest fruit to grasp\n",
    "\n",
    "Now we want to determine the fruit that requires the less effort from Reachy to grasp, meaning the fruit that is the closest to his corresponding effector (oranges will only be grasped by the left arm, and apples by the right arm). So we will define a function for that. \n",
    "\n",
    "We can first define a function to calculate distance between centroids of two objects defined by a dictionnary.\n"
   ]
  },
  {
   "cell_type": "code",
   "execution_count": null,
   "metadata": {},
   "outputs": [],
   "source": [
    "import numpy.typing as npt\n",
    "import numpy as np\n",
    "\n",
    "def distance_between_objects(obj1: npt.NDArray[np.float64], obj2: npt.NDArray[np.float64]) -> float : \n",
    "    return np.linalg.norm(obj1[:3,3]-obj2[:3,3])\n",
    "\n",
    "dist = distance_between_objects(oranges[0]['pose'], plate['pose']) #returns the distance in meters between the first orange and the plate\n",
    "print(f'Distance between the first orange and the plate: {dist:.2f}m.')"
   ]
  },
  {
   "cell_type": "markdown",
   "metadata": {},
   "source": [
    "Then, we need to define functions to add some conditions for the object to be graspable : \n",
    "\n",