"def get_pregrasping_pose(goal_pose: npt.NDArray[np.float64], target_side : str) -> None:\n",
    "    bent_position = np.array([0.38622, 0.22321, -0.27036]) if target_side == 'left' else np.array([0.38622, -0.22321, -0.27036])\n",
    "    pregrasp_pose = goal_pose.copy()\n",
    "\n",
    "    #get the x orientation of the target pose\n",
    "    rotation = R.from_matrix(goal_pose[:3,:3]).as_euler('xyz', degrees=False)[0]\n",
    "    \n",
    "    #pregrasp pose is 8cm before the goal pose\n",
    "    pregrasp_pose[0,3] -= 0.08\n",
    "    # y value is calculated from the new x value and the effector orientation needed to grasp the object\n",
    "    pregrasp_pose[1,3] = pregrasp_pose[0,3] * np.tan(rotation) + bent_position[1]\n",
    "\n",
    "    return pregrasp_pose\n",
    "\n",
    "print(\"Function get_pregrasping_pose defined.\")"
   ]
  },
  {
   "cell_type": "markdown",
   "metadata": {},
   "source": [
    "We calculate the pregrasp pose for our closest fruit : "
   ]
  },
  {
   "cell_type": "code",
   "execution_count": null,
   "metadata": {},
   "outputs": [],
   "source": [
    "pregrasp_pose = get_pregrasping_pose(grasp_pose, target_side)\n",
    "print(f'The pregrasp pose is  : {pregrasp_pose}')"
   ]
  },
  {
   "cell_type": "markdown",
   "metadata": {},
   "source": [
    "Now, we have our grasp pose and an intermediate pose to reach the object. So we can make Reachy move !\n",
    "\n",