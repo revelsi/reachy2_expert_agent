"\n",
    "        reachy.head.look_at(x=0.5, y=0.0, z=0.0, duration=1.0, wait = True)\n",
    "\n",
    "print(\"Function arm_swing_and_effector_tracking defined.\")"
   ]
  },
  {
   "cell_type": "markdown",
   "id": "06d616ba",
   "metadata": {},
   "source": [
    "> 💡 Note that we don't wait for the end of the movements of the moving arm in this function as we want the head to follow the effector while the arm is moving. We only wait for the end of the last movement to consider the whole sequence done. While the arm is moving, we call the forward_kinematics method of the arm to get the coordinates of the effector and make the head look at this point.\n",
    "\n",
    "For the *look_at* calls of the head, we need to set *wait=True* otherwise a large number of *look_at* calls will be loaded in the goto queue of the sdk and the head will not be able to follow the effector of the moving arm and lots of delay will appear. <br>\n",
    "Again, you can try to change the *wait* argument of the *look_at()*, to see the difference ! "
   ]
  },
  {
   "cell_type": "markdown",
   "id": "ef6361d2",
   "metadata": {},
   "source": [
    "Now, let's try the function on the robot !"
   ]
  },
  {
   "cell_type": "code",
   "execution_count": null,
   "id": "dd587f66",
   "metadata": {},
   "outputs": [],
   "source": [
    "arm_swing_and_effector_tracking(reachy)"
   ]
  },
  {
   "cell_type": "markdown",
   "id": "2291a9b0",
   "metadata": {},
   "source": [