"    bent_position = np.array([0.38622, 0.22321, -0.27036]) if target_side == 'left' else np.array([0.38622, -0.22321, -0.27036])\n",
    "    \n",
    "    object_pose = np.copy(object_pose_dict['pose'])\n",
    "    \n",
    "    # for the goal position to be in the gripper center\n",
    "    object_pose [0,3] -= 0.04\n",
    "    object_pose [1,3] = object_pose [1,3] + 0.01 if target_side == 'left' else object_pose [1,3] - 0.01\n",
    "    object_pose [2,3] -= 0.04\n",
    "\n",
    "    #set the orientation of the effector to reach the object\n",
    "    dy = object_pose[1,3] - bent_position[1]\n",
    "    dx = object_pose[0,3]\n",
    "\n",
    "    angle_x_rad = np.arctan2(dx, dy)\n",
    "    angle_x = 90 - np.degrees(angle_x_rad)\n",
    "\n",
    "    target_pose = get_pose_matrix(object_pose[:3,3], [angle_x, -90, 0])\n",
    "\n",
    "    print(f\"goal position {target_pose[:3,3]}, goal rotation {[angle_x, -90, 0]}\\n\")\n",
    "    \n",
    "    return target_pose\n",
    "\n",
    "print(\"Function get_goal_pose defined.\")"
   ]
  },
  {
   "cell_type": "markdown",
   "metadata": {},
   "source": [
    "We are going to try it on our closest fruit to get the grasp pose needed to catch it : "
   ]
  },
  {
   "cell_type": "code",
   "execution_count": null,
   "metadata": {},
   "outputs": [],
   "source": [
    "grasp_pose = get_goal_pose(closest_object, target_side)\n",
    "print(f'The grasp pose is  :\\n {grasp_pose}')"
   ]
  },
  {