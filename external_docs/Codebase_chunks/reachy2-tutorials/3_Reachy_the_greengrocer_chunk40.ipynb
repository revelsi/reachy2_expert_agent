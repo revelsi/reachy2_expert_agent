"    joints_to_pregrasp = arm.inverse_kinematics(pregrasp_pose)\n",
    "    joints_to_grasp = arm.inverse_kinematics(grasp_pose)\n",
    "\n",
    "    move_to_pregrasp_id = arm.goto(joints_to_pregrasp)\n",
    "    move_to_grasp_id = arm.goto(joints_to_grasp, wait=True)\n",
    "        \n",
    "    #we wait for the gripper to end closing before raising the arm\n",
    "    arm.gripper.close()\n",
    "    while arm.gripper.is_moving():\n",
    "        time.sleep(0.5)\n",
    "    arm.translate_by(x=0, y=0, z=0.1, duration = 1)\n",
    "    time.sleep(1)\n",
    "\n",
    "    print(\"Move sequence to grasp : done.\")\n",
    "\n",
    "print(\"Function move_to_grasp defined.\")"
   ]
  },
  {
   "cell_type": "markdown",
   "metadata": {},
   "source": [
    "To try it, we are gonna first drop the fruit and go back to waiting position.\n",
    "\n",
    "Make the robot move now : "
   ]
  },
  {
   "cell_type": "code",
   "execution_count": null,
   "metadata": {},
   "outputs": [],
   "source": [
    "translation_move = arm.translate_by(0,0,-0.1, duration = 1)\n",
    "time.sleep(1)\n",
    "arm.gripper.open()\n",
    "while arm.gripper.is_moving():\n",
    "    time.sleep(0.1)\n",
    "get_to_waiting_pose(reachy, duration = 3)"
   ]
  },
  {
   "cell_type": "markdown",
   "metadata": {},
   "source": [
    "Now with only 3 functions, we are going to : \n",
    "1. do a new object detection\n",
    "2. select the new closest object \n",