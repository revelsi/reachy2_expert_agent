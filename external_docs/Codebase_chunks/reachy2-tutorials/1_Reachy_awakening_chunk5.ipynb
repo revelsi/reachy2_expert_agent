"- the IP address is correct. \n",
    "\n",
    "*More info on the debug section of the [sdk documentation](https://pollen-robotics.github.io/reachy2-docs/help/help/recovering/).<br>*"
   ]
  },
  {
   "cell_type": "markdown",
   "id": "75a19efe",
   "metadata": {},
   "source": [
    "### 4.2. Set Reachy ready\n",
    "\n",
    "Reachy has its motors off by default. So first, we need to turn them on. "
   ]
  },
  {
   "cell_type": "code",
   "execution_count": null,
   "id": "951b9c69",
   "metadata": {},
   "outputs": [],
   "source": [
    "reachy.turn_on()\n",
    "print(f\"Reachy's motors are on : {reachy.is_on()}\")"
   ]
  },
  {
   "cell_type": "markdown",
   "id": "b3601390",
   "metadata": {},
   "source": [
    "Then, we are going to place the robot in a neutral position, with the head looking straight ahead and the arms alongside its torso. You can use the *goto_posture* method to do so. "
   ]
  },
  {
   "cell_type": "code",
   "execution_count": null,
   "id": "11e26011",
   "metadata": {},
   "outputs": [],
   "source": [
    "reachy.goto_posture(\"default\")"
   ]
  },
  {
   "cell_type": "markdown",
   "id": "dfd36767",
   "metadata": {},
   "source": [
    "Is your Reachy looking like this?\n",
    "\n",
    "<p align=\"center\">\n",
    "  <img width=200 src=\"images/default_position.png\" alt=\"Default position of Reachy\" />\n",
    "</p>\n",
    "\n",
    "Great! Let's start implementing the awake sequence!\n",
    "\n",