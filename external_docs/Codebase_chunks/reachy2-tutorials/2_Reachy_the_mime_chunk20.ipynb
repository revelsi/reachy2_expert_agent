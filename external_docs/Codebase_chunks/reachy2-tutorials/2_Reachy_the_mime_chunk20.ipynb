"    left_extend, duration=1.3, arc_direction=\"left\", precision_distance_xyz=0.2\n",
    ")\n",
    "\n",
    "#close the left gripper\n",
    "reachy.l_arm.gripper.close()"
   ]
  },
  {
   "cell_type": "markdown",
   "metadata": {},
   "source": [
    "Well done ! You did it ! Now that you understood how to do it, you can continue to move Reachy forward, or make a U-turn via the mobile base (*reachy.mobile_base.rotate_by(180)*), or do the same sequence but in reverse! \n",
    "\n",
    "Don't hesitate to try out and practice all Reachy's features ! \n",
    "\n",
    "Once you've finished, you can return Reachy to its initial position and log off. "
   ]
  },
  {
   "cell_type": "code",
   "execution_count": null,
   "metadata": {},
   "outputs": [],
   "source": [
    "reachy.goto_posture('elbow_90', duration = 3, wait = True)\n",
    "reachy.turn_off_smoothly()\n",
    "reachy.disconnect()"
   ]
  },
  {
   "cell_type": "markdown",
   "metadata": {},
   "source": [
    "## 5. Final tips\n",
    "\n",
    "Now, you've learned how to build a sequence on Reachy using only the SDK Client with: \n",
    "- arms movements\n",
    "- mobile base movements\n",
    "- trajectory following\n",
    "- synchronization between Reachy's parts\n",
    "\n",