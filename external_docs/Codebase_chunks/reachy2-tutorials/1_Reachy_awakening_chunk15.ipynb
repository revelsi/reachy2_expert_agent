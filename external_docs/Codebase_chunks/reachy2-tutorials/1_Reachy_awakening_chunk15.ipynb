]
  },
  {
   "cell_type": "code",
   "execution_count": null,
   "id": "13b87053",
   "metadata": {},
   "outputs": [],
   "source": [
    "head_awake_sequence(reachy)"
   ]
  },
  {
   "cell_type": "markdown",
   "id": "1e29a3a8",
   "metadata": {},
   "source": [
    "Perfect ! Now, we can move on to the next step. "
   ]
  },
  {
   "cell_type": "markdown",
   "id": "3a9e0bc5",
   "metadata": {},
   "source": [
    "#### 4.3.3. Arms swinging and end effector tracking\n",
    "\n",
    "Now, we want Reachy to lift its arms, move them one by one and follow the effector of the moving arm with its head.\n",
    "\n",
    "This part is a bit more complex as it involves moving the arms and the head simultaneously and making the robot track itself. \n",
    "\n",
    "But don't worry, we are going to break down how we can implement this behavior:\n",
    "\n",
    "\n",
    "1. **Lift the arms and move them one by one**: here we want to place the arms at 90 degree angle and move them one by one forward and backward. \n",
    "- To lift the arms at 90 degree angle, we will just call the *goto_posture* method which has it as a predefined posture available.\n",