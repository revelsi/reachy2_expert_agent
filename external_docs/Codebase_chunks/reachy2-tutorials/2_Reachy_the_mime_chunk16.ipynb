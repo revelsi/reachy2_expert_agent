"if not fake: \n",
    "    _thread.start_new_thread(reachy.mobile_base.goto, (0.2, 0, 0))\n",
    "\n",
    "\n",
    "## Wait for the end of the left arm move to close the gripper\n",
    "if goto_id.id != 0:\n",
    "    while not reachy.is_goto_finished(goto_id):\n",
    "        time.sleep(0.1)\n",
    "reachy.l_arm.gripper.close()\n",
    "\n",
    "time.sleep(2)\n"
   ]
  },
  {
   "cell_type": "markdown",
   "metadata": {},
   "source": [
    "Let's take a moment to understand what's going on here.\n",
    "\n",
    "`reachy.arm.goto()` returns a `goto id`. This `goto id` allows us to ask the SDK if this move is finished using `reachy.is_goto_finished(goto_id)`. \n",
    "\n",
    "Here, we want to move both arms at the same time. But their durations are not the same (2.0s and 1.5s). We run all the moves in non blocking mode (left arm, right arm and mobile base), but then we want to wait for the first move to end before continuing. To do that, we can block the execution until `reachy.is_goto_finished(goto_id)` is True. \n",
    "\n",
    "That's what we do here with the `while not reachy.is_goto_finished(goto_id):` instruction.\n",
    "\n",
    "The full move now looks like this : \n",
    "\n",
    "<p align=\"center\">\n",
    "    <img src=\"images/pull_rope_2.gif\" alt=\"Gif 2\" width=\"30%\">\n",
    "</p>"
   ]
  },
  {
   "cell_type": "markdown",
   "metadata": {},
   "source": [
    "#### 4.3.5. Follow a trajectory\n",
    "\n",
    "Now, we want :\n",