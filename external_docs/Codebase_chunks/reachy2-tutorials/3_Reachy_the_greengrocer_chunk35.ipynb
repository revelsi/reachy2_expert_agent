"print(f'The pregrasp pose is  : {pregrasp_pose}')"
   ]
  },
  {
   "cell_type": "markdown",
   "metadata": {},
   "source": [
    "Now, we have our grasp pose and an intermediate pose to reach the object. So we can make Reachy move !\n",
    "\n",
    "To do that, we will convert the end effector poses into joints values, using the SDK method *inverse_kinematics* : we will get the 7 joint values of the arm needed to reach this pose. This way, we are gonna be sure that the pose is reachable by the arm, and then, we'll be able to give those commands to the robot. "
   ]
  },
  {
   "cell_type": "code",
   "execution_count": null,
   "metadata": {},
   "outputs": [],
   "source": [
    "#we set the controled arm to the left or right arm depending on the target side\n",
    "arm = reachy.l_arm if target_side == 'left' else reachy.r_arm\n",
    "\n",
    "joints_to_pregrasp = arm.inverse_kinematics(pregrasp_pose)\n",
    "joints_to_grasp = arm.inverse_kinematics(grasp_pose)\n",
    "\n",
    "print(f\"Joints to pregrasp : {joints_to_pregrasp}\\n Joints to grasp : {joints_to_grasp}\")"
   ]
  },
  {
   "cell_type": "markdown",
   "metadata": {},
   "source": [
    "If you have an error on this command, thats means that one of the poses is not reachable by Reachy, so you can move the object on the table and retry by starting back there : \n",
    "> Execute the cell below only if you had an error above and you moved the fruits. (*select all the cell and press Ctrl + K + U*)"