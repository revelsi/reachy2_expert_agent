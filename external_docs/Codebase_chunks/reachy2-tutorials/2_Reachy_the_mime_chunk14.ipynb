"\n",
    "Now, we need to put all this moves work together at the same time. We want : \n",
    "- one arm to go in position to catch the rope\n",
    "- the other arm to go backwards to pull the rope\n",
    "- the mobile base to go forward\n",
    "\n",
    "First, let's go back to the beginning by moving the mobile base to its origin and by making Reachy get the elbow_90 posture : "
   ]
  },
  {
   "cell_type": "code",
   "execution_count": null,
   "metadata": {},
   "outputs": [],
   "source": [
    "if not fake : \n",
    "    reachy.mobile_base.goto(x=0, y=0, theta=0)\n",
    "reachy.goto_posture('elbow_90')\n",
    "reachy.head.goto([0,10,50])\n",
    "reachy.r_arm.gripper.open()"
   ]
  },
  {
   "cell_type": "markdown",
   "metadata": {},
   "source": [
    "Then, we make Reachy's right arm catch the rope as before : "
   ]
  },
  {
   "cell_type": "code",
   "execution_count": null,
   "metadata": {},
   "outputs": [],
   "source": [
    "reachy.r_arm.goto(right_extend, duration=1.5, wait=True)\n",
    "reachy.r_arm.gripper.close()"
   ]
  },
  {
   "cell_type": "markdown",
   "metadata": {},
   "source": [
    "We build the left extend pose the same way as with the right arm, except that the translation on the y axis needs to be negative this time, to be close to the middle. "
   ]
  },
  {
   "cell_type": "code",
   "execution_count": null,
   "metadata": {},
   "outputs": [],
   "source": [
    "left_extend = left_start_pose.copy()\n",