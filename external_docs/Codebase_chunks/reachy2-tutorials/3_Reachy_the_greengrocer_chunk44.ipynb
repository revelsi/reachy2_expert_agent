"cell_type": "code",
   "execution_count": null,
   "metadata": {},
   "outputs": [],
   "source": [
    "joints_to_drop = arm.inverse_kinematics(drop_pose)\n",
    "print(f\"Joints to drop pose : {joints_to_drop}\")"
   ]
  },
  {
   "cell_type": "markdown",
   "metadata": {},
   "source": [
    "If you have an error on the cell above, that means that your target object is unreachable for Reachy's arm. If so, you can try moving the objet and execute the cell below until you don't have any more error : \n",
    "\n",
    "> Execute the cell below only if you had an error on the cell above and you did move the target object. (*select all the cell and press Ctrl + K + U*)"
   ]
  },
  {
   "cell_type": "code",
   "execution_count": null,
   "metadata": {},
   "outputs": [],
   "source": [
    "# oranges, apples, plate, bowl = get_selected_objects(perception, obj_to_left, obj_to_right, left_obj_target, right_obj_target, detection_threshold)\n",
    "# target_obj = plate.copy() if target_side == 'left' else bowl.copy()\n",
    "# target_obj['pose'][2,3] += 0.15 \n",
    "# drop_pose = get_goal_pose(target_obj, target_side)\n",
    "# joints_to_drop = arm.inverse_kinematics(drop_pose)"
   ]
  },
  {
   "cell_type": "markdown",
   "metadata": {},
   "source": [
    "Now, you can send the command to the robot and make it move : "
   ]
  },
  {
   "cell_type": "code",
   "execution_count": null,
   "metadata": {},
   "outputs": [],
   "source": [
    "arm.goto(joints_to_drop)"