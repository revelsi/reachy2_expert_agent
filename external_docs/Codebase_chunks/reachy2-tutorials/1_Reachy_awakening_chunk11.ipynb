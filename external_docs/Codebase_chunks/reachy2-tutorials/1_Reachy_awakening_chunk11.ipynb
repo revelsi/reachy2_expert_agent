"\n",
    "print(\"Function asleep_arms defined.\")"
   ]
  },
  {
   "cell_type": "markdown",
   "id": "29e741be",
   "metadata": {},
   "source": [
    "Now, try the function on Reachy and check its arms!"
   ]
  },
  {
   "cell_type": "code",
   "execution_count": null,
   "id": "0db6121b",
   "metadata": {},
   "outputs": [],
   "source": [
    "reachy.goto_posture(\"default\", wait=True)\n",
    "\n",
    "asleep_arms(reachy)"
   ]
  },
  {
   "cell_type": "markdown",
   "id": "040c8f81",
   "metadata": {},
   "source": [
    "Notice that the arms swing back and forth in a desynchronized way. When the left arm is moving forward, the right arm is moving backward.\n",
    "\n",
    "For the range of the arm movement, we chose a range of 12 degrees for the shoulder pitch joint. If you want to change the range of the movement, just change the value 6.0 in the fonction.\n",
    "\n",
    "##### Combine the head and arm movements\n",
    "\n",
    "Now that we have implemented both arms and head movements separately and validate them, we can combine them to make the full asleep behavior in a single function `asleep`."
   ]
  },
  {
   "cell_type": "code",
   "execution_count": null,
   "id": "328e9160",
   "metadata": {},
   "outputs": [],
   "source": [
    "def asleep(reachy: ReachySDK):\n",
    "    asleep_head(reachy)\n",
    "    asleep_arms(reachy)\n",
    "\n",
    "print(\"Function asleep defined.\")"
   ]
  },
  {
   "cell_type": "markdown",
   "id": "b44a15ac",