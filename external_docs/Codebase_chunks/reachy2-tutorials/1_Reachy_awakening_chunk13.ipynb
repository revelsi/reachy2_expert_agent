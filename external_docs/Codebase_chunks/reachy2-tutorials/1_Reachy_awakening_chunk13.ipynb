"Calling the *look_at* and *goto* methods with *wait=False* will load the movements in the goto queue of the SDK which will run them one by one sequentially for each part (left arm, right arm and head).\n",
    "\n",
    "Try to change some of the *wait* arguments to True, to check how it is impacting the movements !\n",
    "\n",
    "Because the duration of the movement of the head and of each arm is the same (4 seconds), we only need to wait for the end of the last movement to be sure that the whole asleep behavior is finished (here we arbitrarily chose to wait for the end of the right arm movement)."
   ]
  },
  {
   "cell_type": "markdown",
   "id": "e798110d",
   "metadata": {},
   "source": [
    "That's it for the asleep part! We can now move on to the next part of the awake sequence: making Reachy looks like it is waking up."
   ]
  },
  {
   "cell_type": "markdown",
   "id": "527b7241",
   "metadata": {},
   "source": [
    "#### 4.3.2. Waking up part\n",
    "\n",
    "Now, we want Reachy to lift its head and move it from side to side. \n",
    "\n",
    "We are going to define a single function called `head_awake_sequence` to set all the sequence. We can use *look_at* method, with long duration moves to make it look like it's waking up slowly."
   ]
  },
  {
   "cell_type": "code",
   "execution_count": null,
   "id": "423b4a44",
   "metadata": {},
   "outputs": [],
   "source": [
    "def head_awake_sequence(reachy: ReachySDK):\n",