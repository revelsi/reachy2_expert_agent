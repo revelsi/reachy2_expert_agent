"execution_count": null,
   "metadata": {},
   "outputs": [],
   "source": [
    "if not fake :\n",
    "    reachy.mobile_base.reset_odometry()"
   ]
  },
  {
   "cell_type": "markdown",
   "metadata": {},
   "source": [
    "#### 4.2.3. Set the initial position\n",
    "\n",
    "Now, let's set Reachy in an initial position where its elbows are at 90°. Conveniently, there is a feature in the SDK to do just that !"
   ]
  },
  {
   "cell_type": "code",
   "execution_count": null,
   "metadata": {},
   "outputs": [],
   "source": [
    "reachy.goto_posture('elbow_90')"
   ]
  },
  {
   "cell_type": "markdown",
   "metadata": {},
   "source": [
    "Now, turn its head to the left. "
   ]
  },
  {
   "cell_type": "code",
   "execution_count": null,
   "metadata": {},
   "outputs": [],
   "source": [
    "reachy.head.goto([0,10,50])"
   ]
  },
  {
   "cell_type": "markdown",
   "metadata": {},
   "source": [
    "We save the current poses of the end effectors in *right_start_pose* and *left_start_pose* (as 4x4 homogeneous matrices), because we will build the next moves relative to these starting poses. "
   ]
  },
  {
   "cell_type": "code",
   "execution_count": null,
   "metadata": {},
   "outputs": [],
   "source": [
    "# Save current effector poses \n",
    "right_start_pose = reachy.r_arm.forward_kinematics()\n",
    "left_start_pose = reachy.l_arm.forward_kinematics()\n",
    "\n",