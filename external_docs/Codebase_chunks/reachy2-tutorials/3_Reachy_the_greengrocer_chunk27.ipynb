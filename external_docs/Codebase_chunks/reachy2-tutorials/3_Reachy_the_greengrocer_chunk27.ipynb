"def is_a_new_object(actual_obj: Dict, former_obj: Dict, threshold: float) -> bool:\n",
    "    if former_obj == []: \n",
    "        return True\n",
    "    else: \n",
    "        return distance_between_objects(actual_obj['pose'], former_obj['pose']) > threshold\n",
    "\n",
    "\n",
    "def is_too_close(obj: Dict, x_lim: float = 0.15, y_lim: float = 0.15) -> bool:\n",
    "    if obj['pose'][0,3] < x_lim and abs(obj['pose'][1,3]) < y_lim:\n",
    "        print(f\"Object {obj['name']} at {obj['pose'][:3,3]} is too close to the robot\")\n",
    "        return True\n",
    "    return False\n",
    "\n",
    "print(\"Functions object_in_target, is_a_new_object and is_too_close defined.\")"
   ]
  },
  {
   "cell_type": "markdown",
   "metadata": {},
   "source": [
    "Now, we can define our global function, that will test for each fruit the distance with its corresponding effector and the compliance to the conditions (done by an internal function). It will return the closest object as a dictionnary and the target side as a string. It will print the closest fruit and its position in Reachy's frame. If no object respects the conditions, it will return an empty list."
   ]
  },
  {
   "cell_type": "code",
   "execution_count": null,
   "metadata": {},
   "outputs": [],
   "source": [
    "def get_closest_object(\n",
    "    reachy: ReachySDK,  \n",
    "    former_object : Dict, \n",
    "    obj_to_left: List[dict], \n",
    "    obj_to_right: List[dict], \n",