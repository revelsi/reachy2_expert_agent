"outputs": [],
   "source": [
    "def asleep_head(reachy: ReachySDK):\n",
    "    for _ in range(2):\n",
    "        reachy.head.look_at(x=0.50, y=0.0, z=-0.20, duration=2.0, wait=False)\n",
    "        reachy.head.look_at(x=0.50, y=0.0, z=-0.30, duration=2.0, wait=False)\n",
    "\n",
    "print(\"Function asleep_head defined.\")"
   ]
  },
  {
   "cell_type": "markdown",
   "id": "cd4567cd",
   "metadata": {},
   "source": [
    "Notice that the head will move up and down in a short range. If you want to make the head move in a larger range, just change the value of the z-coordinate in the look_at method.\n",
    "\n",
    "Here, the parameter *wait* is set to False : we will not wait for the end of the movements in this part of the sequence as we want Reachy to move its head and arms simultaneously later.\n",
    "\n",
    "Now, you can try it out and check Reachy's head!\n"
   ]
  },
  {
   "cell_type": "code",
   "execution_count": null,
   "id": "c1f876db",
   "metadata": {},
   "outputs": [],
   "source": [
    "asleep_head(reachy)"
   ]
  },
  {
   "cell_type": "markdown",
   "id": "7b925d84",
   "metadata": {},
   "source": [
    "##### Arm movement\n",
    "\n",
    "There are different methods available to make Reachy's arms move: *goto* (with the list of joint positions or the goal pose of the effector), *translate_by* and *rotate_by*. Depending on the movement you want to achieve, you will prefer one over the others.\n",
    "\n",