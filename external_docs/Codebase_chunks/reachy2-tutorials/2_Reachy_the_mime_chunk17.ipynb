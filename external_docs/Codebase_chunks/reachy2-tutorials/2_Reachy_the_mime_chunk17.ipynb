"\n",
    "<p align=\"center\">\n",
    "    <img src=\"images/pull_rope_2.gif\" alt=\"Gif 2\" width=\"30%\">\n",
    "</p>"
   ]
  },
  {
   "cell_type": "markdown",
   "metadata": {},
   "source": [
    "#### 4.3.5. Follow a trajectory\n",
    "\n",
    "Now, we want :\n",
    "- the left arm to translate along `x`the same way the right arm just did\n",
    "- the right arm to go back into position to be ready to pull again\n",
    "- the mobile base to move forward again\n",
    "\n",
    "Here is where things get interesting. If we use `arm.translate_by()` or `arm.goto()`, we have no guarantee that the arms won't collide together performing their respective moves (spoiler alert : they will). \n",
    "\n",
    "So we want the right arm to go back the extended position by following a trajectory that will avoid the left arm.\n",
    "\n",
    "To do that, we can use the feature that interpolates trajectory tracking: `send_cartesian_interpolation()` \n",
    "By default, it's a linear interpolation, but if you set the parameter 'arc_direction', you can follow a semi-circular trajectory until the target position. \n",
    "With the *arc_direction* parameter set to \"right\", the semi circle trajectory will be in the `(x, y)` plane, going to the right.\n",
    "\n",
    "> 💡 Note that this function is **blocking**. "
   ]
  },
  {
   "cell_type": "code",
   "execution_count": null,
   "metadata": {},
   "outputs": [],
   "source": [
    "#open the gripper\n",