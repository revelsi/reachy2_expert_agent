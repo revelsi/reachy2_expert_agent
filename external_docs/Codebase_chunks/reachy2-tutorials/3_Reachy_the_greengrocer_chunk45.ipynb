]
  },
  {
   "cell_type": "markdown",
   "metadata": {},
   "source": [
    "Now, you can send the command to the robot and make it move : "
   ]
  },
  {
   "cell_type": "code",
   "execution_count": null,
   "metadata": {},
   "outputs": [],
   "source": [
    "arm.goto(joints_to_drop)"
   ]
  },
  {
   "cell_type": "markdown",
   "metadata": {},
   "source": [
    "The effector is now on top of the object, but maybe a bit too high : we can translate it a bit closer.\n",
    "> In the same way, you can adjust the translation distance to suit your environment.\n",
    "\n",
    "Make it move now : "
   ]
  },
  {
   "cell_type": "code",
   "execution_count": null,
   "metadata": {},
   "outputs": [],
   "source": [
    "arm.translate_by(0,0,-0.03, duration = 1)\n"
   ]
  },
  {
   "cell_type": "markdown",
   "metadata": {},
   "source": [
    "Now we can set the object free, by opening the gripper !"
   ]
  },
  {
   "cell_type": "code",
   "execution_count": null,
   "metadata": {},
   "outputs": [],
   "source": [
    "arm.gripper.open()"
   ]
  },
  {
   "cell_type": "markdown",
   "metadata": {},
   "source": [
    "We raise the arm a little to avoid collisions : "
   ]
  },
  {
   "cell_type": "code",
   "execution_count": null,
   "metadata": {},
   "outputs": [],
   "source": [
    "arm.translate_by(x=0, y=0, z=0.05, duration = 1)"
   ]
  },
  {
   "cell_type": "markdown",
   "metadata": {},
   "source": [
    "And we get back to the waiting pose :"
   ]
  },
  {