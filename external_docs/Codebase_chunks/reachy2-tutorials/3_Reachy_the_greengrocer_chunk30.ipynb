]
  },
  {
   "cell_type": "markdown",
   "metadata": {},
   "source": [
    "Now it's your turn to determine which fruit is the closest : "
   ]
  },
  {
   "cell_type": "code",
   "execution_count": null,
   "metadata": {},
   "outputs": [],
   "source": [
    "former_object = []\n",
    "closest_object, target_side = get_closest_object(reachy, former_object, oranges, apples, plate, bowl, 0.15)"
   ]
  },
  {
   "cell_type": "markdown",
   "metadata": {},
   "source": [
    "#### 4.4.3. Grasp the fruit\n",
    "\n",
    "Now that we know which is the closest fruit, we need to make Reachy catch it. For that, we have to follow some steps : "
   ]
  },
  {
   "cell_type": "markdown",
   "metadata": {},
   "source": [
    "First, we need to determine the grasp pose for the corresponding effector from the fruit centroid.\n",
    "\n",
    "- For the position, we use offsets for each axis for the object to be in the middle of the gripper (the origin of the effector frame is located before the gripper)\n",
    "\n",
    "- For the rotation :\n",
    "    - we want the effector to be parallel to the ground, so the rotation in y axis is -90° (0 is with effector pointing to the ground).\n",