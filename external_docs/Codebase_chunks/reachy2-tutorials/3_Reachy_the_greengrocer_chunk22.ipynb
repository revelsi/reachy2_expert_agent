]
  },
  {
   "cell_type": "markdown",
   "metadata": {},
   "source": [
    "So we need to differenciate each object, depending on its type. We will define a function to do that. \n",
    "\n",
    "We give as parameters the Perception instanciation, the type of fruits to be placed to the left side, to the right side, the left target object, the right target object and the detection threshold. And it will return the list of dictionnaries of oranges, of apples, and the dictionnaries of the white plate and the white bowl. \n",
    "\n",
    "To avoid errors, we make sure to detect the two target objects to continue : if there are not detected, we reduce the detection threshold until a minimum threshold. "
   ]
  },
  {
   "cell_type": "code",
   "execution_count": null,
   "metadata": {},
   "outputs": [],
   "source": [
    "from typing import Tuple, Union, List, Dict, Optional\n",
    "\n",
    "def get_selected_objects(\n",
    "    perception: Perception, \n",
    "    obj_to_left: str, \n",
    "    obj_to_right: str, \n",
    "    left_obj_target: str, \n",
    "    right_obj_target: str, \n",
    "    detection_threshold: float\n",
    ") -> Tuple[List[dict], List[dict], dict, dict]:\n",
    "    \n",
    "    detected_objects = perception.get_objects_infos(detection_threshold)\n",
    "\n",
    "    # extracting the fruits to be drop to the left and to the right side\n",
    "    objects_to_left = [obj for obj in detected_objects if obj['name'] == obj_to_left]\n",