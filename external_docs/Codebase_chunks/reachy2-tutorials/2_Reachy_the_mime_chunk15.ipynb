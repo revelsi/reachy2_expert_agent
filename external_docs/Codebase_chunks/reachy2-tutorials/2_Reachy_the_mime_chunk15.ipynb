]
  },
  {
   "cell_type": "code",
   "execution_count": null,
   "metadata": {},
   "outputs": [],
   "source": [
    "left_extend = left_start_pose.copy()\n",
    "left_extend[:3, 3] += [0.1, -0.2, 0.0]\n",
    "left_extend = rotate_in_self(left_extend, [0, 60, 90])"
   ]
  },
  {
   "cell_type": "markdown",
   "metadata": {},
   "source": [
    "Then we make all the other moves work together : \n",
    "\n",
    "> For now, we need to run the translation of the mobile base in a thread to be able to execute command on other Reachy's part in the same time, as the mobile base gotos are blocking, but that will change soon (so stay tuned!). "
   ]
  },
  {
   "cell_type": "code",
   "execution_count": null,
   "metadata": {},
   "outputs": [],
   "source": [
    "import _thread\n",
    "import time\n",
    "\n",
    "## launch simultaneously all the moves \n",
    "#make the left arm go catch the rope\n",
    "goto_id = reachy.l_arm.goto(left_extend, duration=2.0, wait=False) # Non-blocking\n",
    "\n",
    "#make the right arm pull the rope\n",
    "reachy.r_arm.translate_by(-0.2, 0, 0, duration=1.5, wait=False) # Non-blocking\n",
    "\n",
    "#move the mobile base forward\n",
    "if not fake: \n",
    "    _thread.start_new_thread(reachy.mobile_base.goto, (0.2, 0, 0))\n",
    "\n",
    "\n",
    "## Wait for the end of the left arm move to close the gripper\n",
    "if goto_id.id != 0:\n",
    "    while not reachy.is_goto_finished(goto_id):\n",