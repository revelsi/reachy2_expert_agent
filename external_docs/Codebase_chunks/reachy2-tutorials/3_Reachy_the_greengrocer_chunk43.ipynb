"metadata": {},
   "source": [
    "We make Reachy look at its new target, with the function *move_head* that we defined ealier. \n",
    "\n",
    "Make it move now : "
   ]
  },
  {
   "cell_type": "code",
   "execution_count": null,
   "metadata": {},
   "outputs": [],
   "source": [
    "move_head(reachy, target_obj)"
   ]
  },
  {
   "cell_type": "markdown",
   "metadata": {},
   "source": [
    "Then, we can use the function *get_goal_pose* we defined earlier to get the drop pose as a 4x4 matrix : "
   ]
  },
  {
   "cell_type": "code",
   "execution_count": null,
   "metadata": {},
   "outputs": [],
   "source": [
    "drop_pose = get_goal_pose(target_obj, target_side)\n",
    "print(f'The drop pose is  : {drop_pose}')"
   ]
  },
  {
   "cell_type": "markdown",
   "metadata": {},
   "source": [
    "We can get the joints value needed to reach this pose using the inverse kinematics, as we saw before. That will also check if that pose is reachable for Reachy."
   ]
  },
  {
   "cell_type": "code",
   "execution_count": null,
   "metadata": {},
   "outputs": [],
   "source": [
    "joints_to_drop = arm.inverse_kinematics(drop_pose)\n",
    "print(f\"Joints to drop pose : {joints_to_drop}\")"
   ]
  },
  {
   "cell_type": "markdown",
   "metadata": {},
   "source": [