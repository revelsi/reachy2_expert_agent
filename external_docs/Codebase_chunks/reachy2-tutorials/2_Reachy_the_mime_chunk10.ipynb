]
  },
  {
   "cell_type": "markdown",
   "metadata": {},
   "source": [
    "Reachy is now ready to start, let's move on to the next step !\n"
   ]
  },
  {
   "cell_type": "markdown",
   "metadata": {},
   "source": [
    "### 4.3. Build the sequence\n",
    "\n",
    "The mime sequence is composed of several parts to be synchronized together : \n",
    "- extension of one arm and gripper closing\n",
    "- flexion of the other arm\n",
    "- translation of the mobile base\n",
    "\n",
    "The easiest way to build it (and it is a general rule when implementing complex behavior on the robot) is to break it down into smaller parts and implement them one by one independently. Once each part is working, you can combine them to create the full sequence.\n",
    "\n",
    "Let's start with the first part ! \n",
    "\n",
    "\n",
    "#### 4.3.1. Extension of the arm\n",
    "\n",
    "Let's compute the extended position for the right end effector. We start from the reference pose and : \n",
    "- adjust the position forwards and towards the middle\n",
    "- rotate the effector to be perpendicular to the ground and in the robot's *x* axis"
   ]
  },
  {
   "cell_type": "code",
   "execution_count": null,
   "metadata": {},
   "outputs": [],
   "source": [
    "from reachy2_sdk.utils.utils import rotate_in_self\n",
    "\n",
    "right_extend = right_start_pose.copy()\n",
    "# Translate by 0.1m in the absolute x direction and by 0.2m in the absolute y direction\n",