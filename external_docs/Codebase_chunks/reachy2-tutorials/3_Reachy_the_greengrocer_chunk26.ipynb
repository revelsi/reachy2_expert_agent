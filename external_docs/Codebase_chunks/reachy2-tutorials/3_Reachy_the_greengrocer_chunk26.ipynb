"print(f'Distance between the first orange and the plate: {dist:.2f}m.')"
   ]
  },
  {
   "cell_type": "markdown",
   "metadata": {},
   "source": [
    "Then, we need to define functions to add some conditions for the object to be graspable : \n",
    "\n",
    "- it has not to be already in one of the target objects  : that's the goal of the *object_in_target()* function (it uses a threshold of distance between the centroids)\n",
    "\n",
    "- it has to be different from the last grasped object : that's the goal of the *is_a_new_object()* function, it avoids trying to grasp the same object a second time because of image capture latency and uses also a threshold of distance between centroids. \n",
    "\n",
    "- it has to be far enough from the robot to avoid collision with its torso : that's the goal of the *is_too_close* function."
   ]
  },
  {
   "cell_type": "code",
   "execution_count": null,
   "metadata": {},
   "outputs": [],
   "source": [
    "def object_in_target(obj: Dict, target: Dict, threshold: float) -> bool:\n",
    "    return distance_between_objects(obj['pose'], target['pose']) < threshold\n",
    "\n",
    "\n",
    "def is_a_new_object(actual_obj: Dict, former_obj: Dict, threshold: float) -> bool:\n",
    "    if former_obj == []: \n",
    "        return True\n",
    "    else: \n",
    "        return distance_between_objects(actual_obj['pose'], former_obj['pose']) > threshold\n",
    "\n",
    "\n",