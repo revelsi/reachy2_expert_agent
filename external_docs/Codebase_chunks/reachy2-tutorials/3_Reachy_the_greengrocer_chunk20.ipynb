"4.    Make the corresponding arm move to the closest fruit et grasp it\n",
    "5.    Make it go above the target object (the plate for the oranges, the bowl for the apples) and drop it\n",
    "6.    Go back to its waiting pose. \n",
    "\n",
    "So, let's do that step by step !"
   ]
  },
  {
   "cell_type": "markdown",
   "metadata": {},
   "source": [
    "#### 4.4.1. Detect the specific objects\n",
    "\n",
    "We need to use the Perception module to detect the oranges, the apples, the plate and the bowl, and to extract pertinent informations.\n",
    "\n",
    "if you have followed the set-up correctly, you should have a white plate and oranges on Reachy's left side and a white bowl and apples on its right side, like in the photos below. "
   ]
  },
  {
   "cell_type": "markdown",
   "metadata": {},
   "source": [
    "<p align=\"center\"> \n",
    "    <img src=\"images/Reachy_fruit_face.jpg\" alt=\"Image face\" style=\"width: 20%; ; margin-right: 10px;\"/>\n",
    "    <img src=\"images/Reachy_fruits_above.jpg\" alt=\"Image above\" style=\"width: 20%;\"/>\n",
    "</p>"
   ]
  },
  {
   "cell_type": "markdown",
   "metadata": {},
   "source": [
    "Check on the camera view displayer that all your objects are detected and not hidden by the arms of the robot. If so, move them a bit. Fruits need to be standing up to be well detected. \n",
    "\n",
    "\n",