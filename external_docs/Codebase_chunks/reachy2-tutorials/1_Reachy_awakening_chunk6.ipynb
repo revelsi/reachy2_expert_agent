"source": [
    "Is your Reachy looking like this?\n",
    "\n",
    "<p align=\"center\">\n",
    "  <img width=200 src=\"images/default_position.png\" alt=\"Default position of Reachy\" />\n",
    "</p>\n",
    "\n",
    "Great! Let's start implementing the awake sequence!\n",
    "\n",
    "*If not, you may need to restart the core of your robot and go back from the beginning*."
   ]
  },
  {
   "cell_type": "markdown",
   "id": "842ed49d",
   "metadata": {},
   "source": [
    "### 4.3. Build the sequence\n",
    "\n",
    "The awake sequence is composed of four parts:\n",
    "1. Reachy \"sleeps\", i.e. the arms are swinging alongside its torso and the head is nodding slowly\n",
    "2. Reachy looks like it is waking up, lifting its head and moving it from side to side\n",
    "3. Reachy lifts its arms, moves them one by one and follows with its head the effector of the moving arm\n",
    "4. Reachy nods and gets back to its default position\n",
    "\n",
    "The easiest way to implement it (and it is a general rule when implementing complex behavior on the robot) is to break it down into smaller parts and implement them one by one independently. Once each part is working, you can combine them to create the full sequence.\n",
    "\n",
    "Let's start with the first part: making Reachy \"sleep\"."
   ]
  },
  {
   "cell_type": "markdown",
   "id": "558ec58f",
   "metadata": {},
   "source": [
    "#### 4.3.1. Asleep part\n",
    "\n",