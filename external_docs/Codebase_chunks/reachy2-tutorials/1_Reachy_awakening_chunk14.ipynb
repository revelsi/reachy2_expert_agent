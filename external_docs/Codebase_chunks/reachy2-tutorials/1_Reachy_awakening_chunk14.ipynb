]
  },
  {
   "cell_type": "code",
   "execution_count": null,
   "id": "423b4a44",
   "metadata": {},
   "outputs": [],
   "source": [
    "def head_awake_sequence(reachy: ReachySDK):\n",
    "    # Lift the head up slowly (it is supposed to be just waking up)\n",
    "    reachy.head.look_at(x=0.5, y=0.0, z=0.0, duration=4.0, wait=False)\n",
    "\n",
    "    # Look left and right\n",
    "    reachy.head.look_at(x=0.5, y=-0.2, z=-0.2, duration=2.0, wait=False)\n",
    "    reachy.head.look_at(x=0.5, y=0.0, z=-0.05, duration=2.0, wait=False)\n",
    "    reachy.head.look_at(x=0.5, y=0.2, z=-0.2, duration=2.0, wait=False)\n",
    "\n",
    "    # Look straight ahead again\n",
    "    reachy.head.look_at(x=0.5, y=0.0, z=0.0, duration=2.0, wait=True)\n",
    "\n",
    "print(\"Function head_awake_sequence defined.\")"
   ]
  },
  {
   "cell_type": "markdown",
   "id": "3efae99d",
   "metadata": {},
   "source": [
    "You can now try it on the robot ! \n",
    "\n",
    "> 💡 Note that we only wait for the last *look_at* to be finished to consider the sequence done. However in this case, since only head movements are composing the awake sequence and are performed one after the other, we could have set wait=True for every *look_at* call, without making any difference. "
   ]
  },
  {
   "cell_type": "code",
   "execution_count": null,
   "id": "13b87053",
   "metadata": {},
   "outputs": [],
   "source": [
    "head_awake_sequence(reachy)"
   ]
  },
  {