{
   "cell_type": "code",
   "execution_count": null,
   "metadata": {},
   "outputs": [],
   "source": [
    "arm.translate_by(x=0, y=0, z=0.05, duration = 1)"
   ]
  },
  {
   "cell_type": "markdown",
   "metadata": {},
   "source": [
    "And we get back to the waiting pose :"
   ]
  },
  {
   "cell_type": "code",
   "execution_count": null,
   "metadata": {},
   "outputs": [],
   "source": [
    "get_to_waiting_pose(reachy)"
   ]
  },
  {
   "cell_type": "markdown",
   "metadata": {},
   "source": [
    "And that's it, well done !\n",
    "\n",
    "Now we can put it all together in a function. \n",
    "Some adjustments have been made for all the moves to work finely together : \n",
    "- on the dropping movement, we use a blocking parameter (*wait=True*), for the gripper to open only when the effector is at the right place\n",
    "- we wait until the gripper finished to open before raising the arm\n",
    "- we use a blocking parameter also on the last translation for the next moves to wait for the end of all this sequence. "
   ]
  },
  {
   "cell_type": "code",
   "execution_count": null,
   "metadata": {},
   "outputs": [],
   "source": [
    "def move_to_drop(reachy: ReachySDK, target_side: str) -> None:\n",
    "    print(\"Move sequence to drop : started.\")\n",
    "    \n",
    "    arm = reachy.l_arm if target_side == 'left' else reachy.r_arm\n",
    "    target_obj = plate.copy() if target_side == 'left' else bowl.copy()\n",
    "    \n",